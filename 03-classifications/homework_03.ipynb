{
 "cells": [
  {
   "cell_type": "markdown",
   "id": "1892d31a",
   "metadata": {},
   "source": [
    "## Homework\n",
    "\n",
    "> Note: sometimes your answer doesn't match one of the options exactly. \n",
    "> That's fine. \n",
    "> Select the option that's closest to your solution.\n",
    "\n",
    "\n"
   ]
  },
  {
   "cell_type": "markdown",
   "id": "ef3a158b",
   "metadata": {},
   "source": [
    "### Dataset\n",
    "\n",
    "In this homework, we will use the lead scoring dataset Bank Marketing dataset. Download it from [here](https://raw.githubusercontent.com/alexeygrigorev/datasets/master/course_lead_scoring.csv).\n",
    "\n",
    "Or you can do it with `wget`:\n",
    "\n",
    "```bash\n",
    "wget https://raw.githubusercontent.com/alexeygrigorev/datasets/master/course_lead_scoring.csv\n",
    "```\n",
    "\n",
    "In this dataset our desired target for classification task will be `converted` variable - has the client signed up to the platform or not. \n",
    "\n"
   ]
  },
  {
   "cell_type": "code",
   "execution_count": null,
   "id": "26fc132f",
   "metadata": {},
   "outputs": [
    {
     "name": "stdout",
     "output_type": "stream",
     "text": [
      "--2025-10-13 15:43:12--  https://raw.githubusercontent.com/alexeygrigorev/datasets/master/course_lead_scoring.csv\n",
      "Resolving raw.githubusercontent.com (raw.githubusercontent.com)... 2606:50c0:8001::154, 2606:50c0:8002::154, 2606:50c0:8003::154, ...\n",
      "Connecting to raw.githubusercontent.com (raw.githubusercontent.com)|2606:50c0:8001::154|:443... connected.\n",
      "HTTP request sent, awaiting response... 200 OK\n",
      "Length: 80876 (79K) [text/plain]\n",
      "Saving to: ‘course_lead_scoring.csv.1’\n",
      "\n",
      "course_lead_scoring 100%[===================>]  78.98K  --.-KB/s    in 0.02s   \n",
      "\n",
      "2025-10-13 15:43:12 (4.07 MB/s) - ‘course_lead_scoring.csv.1’ saved [80876/80876]\n",
      "\n"
     ]
    }
   ],
   "source": [
    "# !wget https://raw.githubusercontent.com/alexeygrigorev/datasets/master/course_lead_scoring.csv"
   ]
  },
  {
   "cell_type": "markdown",
   "id": "667497dc",
   "metadata": {},
   "source": [
    "### Data preparation\n",
    "\n",
    "* Check if the missing values are presented in the features.\n",
    "* If there are missing values:\n",
    "    * For caterogiral features, replace them with 'NA'\n",
    "    * For numerical features, replace with with 0.0 \n",
    "\n"
   ]
  },
  {
   "cell_type": "code",
   "execution_count": 23,
   "id": "b72f7130",
   "metadata": {},
   "outputs": [],
   "source": [
    "import pandas as pd\n",
    "import numpy as np\n",
    "import plotly.express as px"
   ]
  },
  {
   "cell_type": "code",
   "execution_count": 6,
   "id": "7da942e8",
   "metadata": {},
   "outputs": [
    {
     "data": {
      "application/vnd.microsoft.datawrangler.viewer.v0+json": {
       "columns": [
        {
         "name": "index",
         "rawType": "int64",
         "type": "integer"
        },
        {
         "name": "lead_source",
         "rawType": "object",
         "type": "string"
        },
        {
         "name": "industry",
         "rawType": "object",
         "type": "unknown"
        },
        {
         "name": "number_of_courses_viewed",
         "rawType": "int64",
         "type": "integer"
        },
        {
         "name": "annual_income",
         "rawType": "float64",
         "type": "float"
        },
        {
         "name": "employment_status",
         "rawType": "object",
         "type": "unknown"
        },
        {
         "name": "location",
         "rawType": "object",
         "type": "string"
        },
        {
         "name": "interaction_count",
         "rawType": "int64",
         "type": "integer"
        },
        {
         "name": "lead_score",
         "rawType": "float64",
         "type": "float"
        },
        {
         "name": "converted",
         "rawType": "int64",
         "type": "integer"
        }
       ],
       "ref": "e56173b7-7fe9-4777-9a34-c3749591ced1",
       "rows": [
        [
         "0",
         "paid_ads",
         null,
         "1",
         "79450.0",
         "unemployed",
         "south_america",
         "4",
         "0.94",
         "1"
        ],
        [
         "1",
         "social_media",
         "retail",
         "1",
         "46992.0",
         "employed",
         "south_america",
         "1",
         "0.8",
         "0"
        ],
        [
         "2",
         "events",
         "healthcare",
         "5",
         "78796.0",
         "unemployed",
         "australia",
         "3",
         "0.69",
         "1"
        ],
        [
         "3",
         "paid_ads",
         "retail",
         "2",
         "83843.0",
         null,
         "australia",
         "1",
         "0.87",
         "0"
        ],
        [
         "4",
         "referral",
         "education",
         "3",
         "85012.0",
         "self_employed",
         "europe",
         "3",
         "0.62",
         "1"
        ]
       ],
       "shape": {
        "columns": 9,
        "rows": 5
       }
      },
      "text/html": [
       "<div>\n",
       "<style scoped>\n",
       "    .dataframe tbody tr th:only-of-type {\n",
       "        vertical-align: middle;\n",
       "    }\n",
       "\n",
       "    .dataframe tbody tr th {\n",
       "        vertical-align: top;\n",
       "    }\n",
       "\n",
       "    .dataframe thead th {\n",
       "        text-align: right;\n",
       "    }\n",
       "</style>\n",
       "<table border=\"1\" class=\"dataframe\">\n",
       "  <thead>\n",
       "    <tr style=\"text-align: right;\">\n",
       "      <th></th>\n",
       "      <th>lead_source</th>\n",
       "      <th>industry</th>\n",
       "      <th>number_of_courses_viewed</th>\n",
       "      <th>annual_income</th>\n",
       "      <th>employment_status</th>\n",
       "      <th>location</th>\n",
       "      <th>interaction_count</th>\n",
       "      <th>lead_score</th>\n",
       "      <th>converted</th>\n",
       "    </tr>\n",
       "  </thead>\n",
       "  <tbody>\n",
       "    <tr>\n",
       "      <th>0</th>\n",
       "      <td>paid_ads</td>\n",
       "      <td>NaN</td>\n",
       "      <td>1</td>\n",
       "      <td>79450.0</td>\n",
       "      <td>unemployed</td>\n",
       "      <td>south_america</td>\n",
       "      <td>4</td>\n",
       "      <td>0.94</td>\n",
       "      <td>1</td>\n",
       "    </tr>\n",
       "    <tr>\n",
       "      <th>1</th>\n",
       "      <td>social_media</td>\n",
       "      <td>retail</td>\n",
       "      <td>1</td>\n",
       "      <td>46992.0</td>\n",
       "      <td>employed</td>\n",
       "      <td>south_america</td>\n",
       "      <td>1</td>\n",
       "      <td>0.80</td>\n",
       "      <td>0</td>\n",
       "    </tr>\n",
       "    <tr>\n",
       "      <th>2</th>\n",
       "      <td>events</td>\n",
       "      <td>healthcare</td>\n",
       "      <td>5</td>\n",
       "      <td>78796.0</td>\n",
       "      <td>unemployed</td>\n",
       "      <td>australia</td>\n",
       "      <td>3</td>\n",
       "      <td>0.69</td>\n",
       "      <td>1</td>\n",
       "    </tr>\n",
       "    <tr>\n",
       "      <th>3</th>\n",
       "      <td>paid_ads</td>\n",
       "      <td>retail</td>\n",
       "      <td>2</td>\n",
       "      <td>83843.0</td>\n",
       "      <td>NaN</td>\n",
       "      <td>australia</td>\n",
       "      <td>1</td>\n",
       "      <td>0.87</td>\n",
       "      <td>0</td>\n",
       "    </tr>\n",
       "    <tr>\n",
       "      <th>4</th>\n",
       "      <td>referral</td>\n",
       "      <td>education</td>\n",
       "      <td>3</td>\n",
       "      <td>85012.0</td>\n",
       "      <td>self_employed</td>\n",
       "      <td>europe</td>\n",
       "      <td>3</td>\n",
       "      <td>0.62</td>\n",
       "      <td>1</td>\n",
       "    </tr>\n",
       "  </tbody>\n",
       "</table>\n",
       "</div>"
      ],
      "text/plain": [
       "    lead_source    industry  number_of_courses_viewed  annual_income  \\\n",
       "0      paid_ads         NaN                         1        79450.0   \n",
       "1  social_media      retail                         1        46992.0   \n",
       "2        events  healthcare                         5        78796.0   \n",
       "3      paid_ads      retail                         2        83843.0   \n",
       "4      referral   education                         3        85012.0   \n",
       "\n",
       "  employment_status       location  interaction_count  lead_score  converted  \n",
       "0        unemployed  south_america                  4        0.94          1  \n",
       "1          employed  south_america                  1        0.80          0  \n",
       "2        unemployed      australia                  3        0.69          1  \n",
       "3               NaN      australia                  1        0.87          0  \n",
       "4     self_employed         europe                  3        0.62          1  "
      ]
     },
     "execution_count": 6,
     "metadata": {},
     "output_type": "execute_result"
    }
   ],
   "source": [
    "df = pd.read_csv('course_lead_scoring.csv')\n",
    "df.head()"
   ]
  },
  {
   "cell_type": "code",
   "execution_count": 13,
   "id": "fb3908c5",
   "metadata": {},
   "outputs": [
    {
     "data": {
      "text/plain": [
       "Index(['lead_source', 'industry', 'annual_income', 'employment_status',\n",
       "       'location'],\n",
       "      dtype='object')"
      ]
     },
     "execution_count": 13,
     "metadata": {},
     "output_type": "execute_result"
    }
   ],
   "source": [
    "df.columns[df.isnull().sum()>0]"
   ]
  },
  {
   "cell_type": "code",
   "execution_count": null,
   "id": "08224d1d",
   "metadata": {},
   "outputs": [
    {
     "data": {
      "application/vnd.microsoft.datawrangler.viewer.v0+json": {
       "columns": [
        {
         "name": "index",
         "rawType": "object",
         "type": "string"
        },
        {
         "name": "0",
         "rawType": "int64",
         "type": "integer"
        }
       ],
       "ref": "7dadf37d-c272-48f7-9771-d2775b60bd8d",
       "rows": [
        [
         "lead_source",
         "128"
        ],
        [
         "industry",
         "134"
        ],
        [
         "annual_income",
         "181"
        ],
        [
         "employment_status",
         "100"
        ],
        [
         "location",
         "63"
        ]
       ],
       "shape": {
        "columns": 1,
        "rows": 5
       }
      },
      "text/plain": [
       "lead_source          128\n",
       "industry             134\n",
       "annual_income        181\n",
       "employment_status    100\n",
       "location              63\n",
       "dtype: int64"
      ]
     },
     "execution_count": 14,
     "metadata": {},
     "output_type": "execute_result"
    }
   ],
   "source": [
    "df[['lead_source', 'industry', 'annual_income', 'employment_status',\n",
    "    'location']].isnull().sum()"
   ]
  },
  {
   "cell_type": "code",
   "execution_count": 15,
   "id": "d693b6ce",
   "metadata": {},
   "outputs": [
    {
     "name": "stdout",
     "output_type": "stream",
     "text": [
      "<class 'pandas.core.frame.DataFrame'>\n",
      "RangeIndex: 1462 entries, 0 to 1461\n",
      "Data columns (total 5 columns):\n",
      " #   Column             Non-Null Count  Dtype  \n",
      "---  ------             --------------  -----  \n",
      " 0   lead_source        1334 non-null   object \n",
      " 1   industry           1328 non-null   object \n",
      " 2   annual_income      1281 non-null   float64\n",
      " 3   employment_status  1362 non-null   object \n",
      " 4   location           1399 non-null   object \n",
      "dtypes: float64(1), object(4)\n",
      "memory usage: 57.2+ KB\n"
     ]
    }
   ],
   "source": [
    "df[['lead_source', 'industry', 'annual_income', 'employment_status','location']].info()"
   ]
  },
  {
   "cell_type": "code",
   "execution_count": 21,
   "id": "42f92cb9",
   "metadata": {},
   "outputs": [],
   "source": [
    "# Loop through columns\n",
    "for col in df.columns[df.isnull().sum()>0]:\n",
    "    if df[col].dtype == 'object':  # Categorical\n",
    "        df[col].fillna('NA')\n",
    "    else:  # Numerical\n",
    "        df[col].fillna(0.0)"
   ]
  },
  {
   "cell_type": "code",
   "execution_count": 22,
   "id": "a9f31919",
   "metadata": {},
   "outputs": [
    {
     "data": {
      "application/vnd.microsoft.datawrangler.viewer.v0+json": {
       "columns": [
        {
         "name": "index",
         "rawType": "object",
         "type": "string"
        },
        {
         "name": "0",
         "rawType": "int64",
         "type": "integer"
        }
       ],
       "ref": "f66b13ae-f75a-4241-b6f3-e8dbd2e93198",
       "rows": [
        [
         "lead_source",
         "0"
        ],
        [
         "industry",
         "0"
        ],
        [
         "number_of_courses_viewed",
         "0"
        ],
        [
         "annual_income",
         "0"
        ],
        [
         "employment_status",
         "0"
        ],
        [
         "location",
         "0"
        ],
        [
         "interaction_count",
         "0"
        ],
        [
         "lead_score",
         "0"
        ],
        [
         "converted",
         "0"
        ]
       ],
       "shape": {
        "columns": 1,
        "rows": 9
       }
      },
      "text/plain": [
       "lead_source                 0\n",
       "industry                    0\n",
       "number_of_courses_viewed    0\n",
       "annual_income               0\n",
       "employment_status           0\n",
       "location                    0\n",
       "interaction_count           0\n",
       "lead_score                  0\n",
       "converted                   0\n",
       "dtype: int64"
      ]
     },
     "execution_count": 22,
     "metadata": {},
     "output_type": "execute_result"
    }
   ],
   "source": [
    "df.isnull().sum()"
   ]
  },
  {
   "cell_type": "markdown",
   "id": "51f37086",
   "metadata": {},
   "source": [
    "### Question 1\n",
    "\n",
    "What is the most frequent observation (mode) for the column `industry`?\n",
    "\n",
    "- `NA`\n",
    "- `technology`\n",
    "- `healthcare`\n",
    "- **`retail`**\n",
    "\n",
    "\n"
   ]
  },
  {
   "cell_type": "code",
   "execution_count": 26,
   "id": "6f60d4c5",
   "metadata": {},
   "outputs": [
    {
     "data": {
      "application/vnd.plotly.v1+json": {
       "config": {
        "plotlyServerURL": "https://plot.ly"
       },
       "data": [
        {
         "bingroup": "x",
         "hovertemplate": "industry=%{x}<br>count=%{y}<extra></extra>",
         "legendgroup": "",
         "marker": {
          "color": "#636efa",
          "pattern": {
           "shape": ""
          }
         },
         "name": "",
         "orientation": "v",
         "showlegend": false,
         "texttemplate": "%{value}",
         "type": "histogram",
         "x": [
          "NA",
          "retail",
          "healthcare",
          "retail",
          "education",
          "manufacturing",
          "technology",
          "NA",
          "healthcare",
          "other",
          "retail",
          "finance",
          "NA",
          "other",
          "healthcare",
          "healthcare",
          "retail",
          "other",
          "manufacturing",
          "NA",
          "technology",
          "retail",
          "other",
          "retail",
          "education",
          "finance",
          "healthcare",
          "other",
          "other",
          "finance",
          "finance",
          "other",
          "NA",
          "healthcare",
          "other",
          "NA",
          "healthcare",
          "other",
          "healthcare",
          "other",
          "healthcare",
          "manufacturing",
          "retail",
          "healthcare",
          "technology",
          "education",
          "education",
          "other",
          "NA",
          "NA",
          "NA",
          "technology",
          "other",
          "retail",
          "retail",
          "education",
          "other",
          "healthcare",
          "technology",
          "other",
          "technology",
          "education",
          "retail",
          "finance",
          "retail",
          "other",
          "finance",
          "NA",
          "other",
          "healthcare",
          "retail",
          "technology",
          "other",
          "other",
          "education",
          "finance",
          "education",
          "manufacturing",
          "other",
          "finance",
          "other",
          "education",
          "healthcare",
          "technology",
          "education",
          "finance",
          "manufacturing",
          "healthcare",
          "other",
          "finance",
          "other",
          "NA",
          "retail",
          "finance",
          "other",
          "finance",
          "other",
          "finance",
          "NA",
          "technology",
          "other",
          "manufacturing",
          "other",
          "other",
          "education",
          "education",
          "education",
          "NA",
          "manufacturing",
          "education",
          "manufacturing",
          "manufacturing",
          "finance",
          "other",
          "technology",
          "other",
          "NA",
          "healthcare",
          "finance",
          "education",
          "finance",
          "healthcare",
          "technology",
          "technology",
          "healthcare",
          "technology",
          "healthcare",
          "NA",
          "education",
          "manufacturing",
          "other",
          "healthcare",
          "finance",
          "other",
          "education",
          "NA",
          "manufacturing",
          "retail",
          "education",
          "technology",
          "education",
          "healthcare",
          "finance",
          "healthcare",
          "finance",
          "healthcare",
          "other",
          "manufacturing",
          "other",
          "education",
          "healthcare",
          "education",
          "finance",
          "healthcare",
          "NA",
          "retail",
          "technology",
          "manufacturing",
          "technology",
          "manufacturing",
          "healthcare",
          "healthcare",
          "healthcare",
          "technology",
          "technology",
          "manufacturing",
          "education",
          "healthcare",
          "finance",
          "retail",
          "healthcare",
          "finance",
          "finance",
          "technology",
          "healthcare",
          "finance",
          "NA",
          "other",
          "other",
          "finance",
          "healthcare",
          "finance",
          "manufacturing",
          "NA",
          "finance",
          "other",
          "technology",
          "retail",
          "education",
          "education",
          "NA",
          "finance",
          "other",
          "NA",
          "NA",
          "other",
          "healthcare",
          "education",
          "healthcare",
          "technology",
          "technology",
          "technology",
          "finance",
          "other",
          "healthcare",
          "manufacturing",
          "manufacturing",
          "finance",
          "technology",
          "healthcare",
          "NA",
          "healthcare",
          "NA",
          "retail",
          "technology",
          "education",
          "manufacturing",
          "retail",
          "technology",
          "NA",
          "finance",
          "finance",
          "NA",
          "finance",
          "technology",
          "retail",
          "NA",
          "technology",
          "retail",
          "healthcare",
          "retail",
          "technology",
          "retail",
          "technology",
          "manufacturing",
          "technology",
          "retail",
          "retail",
          "manufacturing",
          "healthcare",
          "education",
          "technology",
          "other",
          "healthcare",
          "other",
          "education",
          "other",
          "healthcare",
          "other",
          "manufacturing",
          "retail",
          "NA",
          "manufacturing",
          "manufacturing",
          "retail",
          "technology",
          "manufacturing",
          "other",
          "other",
          "technology",
          "healthcare",
          "retail",
          "technology",
          "finance",
          "education",
          "finance",
          "education",
          "other",
          "retail",
          "finance",
          "technology",
          "NA",
          "education",
          "education",
          "other",
          "other",
          "NA",
          "manufacturing",
          "finance",
          "finance",
          "finance",
          "healthcare",
          "healthcare",
          "education",
          "finance",
          "manufacturing",
          "other",
          "NA",
          "finance",
          "other",
          "retail",
          "healthcare",
          "finance",
          "technology",
          "technology",
          "education",
          "retail",
          "manufacturing",
          "retail",
          "education",
          "other",
          "education",
          "other",
          "healthcare",
          "retail",
          "retail",
          "NA",
          "retail",
          "finance",
          "finance",
          "education",
          "finance",
          "finance",
          "NA",
          "retail",
          "technology",
          "finance",
          "manufacturing",
          "other",
          "education",
          "NA",
          "education",
          "healthcare",
          "finance",
          "finance",
          "technology",
          "education",
          "retail",
          "retail",
          "healthcare",
          "retail",
          "finance",
          "technology",
          "healthcare",
          "retail",
          "finance",
          "manufacturing",
          "retail",
          "NA",
          "retail",
          "education",
          "manufacturing",
          "education",
          "manufacturing",
          "healthcare",
          "other",
          "technology",
          "technology",
          "manufacturing",
          "manufacturing",
          "retail",
          "education",
          "education",
          "technology",
          "other",
          "manufacturing",
          "other",
          "NA",
          "retail",
          "education",
          "finance",
          "technology",
          "healthcare",
          "manufacturing",
          "technology",
          "other",
          "finance",
          "other",
          "technology",
          "NA",
          "healthcare",
          "technology",
          "technology",
          "other",
          "manufacturing",
          "retail",
          "finance",
          "finance",
          "other",
          "retail",
          "education",
          "finance",
          "finance",
          "finance",
          "education",
          "education",
          "healthcare",
          "finance",
          "education",
          "manufacturing",
          "education",
          "retail",
          "finance",
          "manufacturing",
          "NA",
          "technology",
          "technology",
          "other",
          "healthcare",
          "manufacturing",
          "retail",
          "retail",
          "education",
          "NA",
          "NA",
          "other",
          "finance",
          "other",
          "retail",
          "healthcare",
          "retail",
          "retail",
          "technology",
          "manufacturing",
          "other",
          "other",
          "retail",
          "technology",
          "retail",
          "technology",
          "finance",
          "manufacturing",
          "healthcare",
          "education",
          "retail",
          "technology",
          "education",
          "healthcare",
          "other",
          "technology",
          "other",
          "finance",
          "manufacturing",
          "healthcare",
          "other",
          "retail",
          "manufacturing",
          "retail",
          "finance",
          "manufacturing",
          "finance",
          "manufacturing",
          "finance",
          "other",
          "retail",
          "manufacturing",
          "healthcare",
          "education",
          "finance",
          "technology",
          "technology",
          "healthcare",
          "manufacturing",
          "education",
          "retail",
          "finance",
          "retail",
          "education",
          "manufacturing",
          "education",
          "finance",
          "other",
          "manufacturing",
          "manufacturing",
          "manufacturing",
          "NA",
          "NA",
          "education",
          "other",
          "manufacturing",
          "other",
          "education",
          "other",
          "retail",
          "healthcare",
          "technology",
          "other",
          "manufacturing",
          "retail",
          "other",
          "manufacturing",
          "manufacturing",
          "manufacturing",
          "finance",
          "technology",
          "retail",
          "manufacturing",
          "healthcare",
          "technology",
          "technology",
          "education",
          "other",
          "education",
          "retail",
          "finance",
          "technology",
          "healthcare",
          "other",
          "technology",
          "healthcare",
          "manufacturing",
          "other",
          "NA",
          "education",
          "other",
          "NA",
          "technology",
          "manufacturing",
          "other",
          "finance",
          "manufacturing",
          "manufacturing",
          "healthcare",
          "retail",
          "manufacturing",
          "finance",
          "retail",
          "retail",
          "NA",
          "healthcare",
          "retail",
          "manufacturing",
          "retail",
          "manufacturing",
          "NA",
          "other",
          "technology",
          "technology",
          "technology",
          "healthcare",
          "retail",
          "technology",
          "technology",
          "retail",
          "other",
          "finance",
          "healthcare",
          "finance",
          "manufacturing",
          "finance",
          "technology",
          "retail",
          "finance",
          "education",
          "education",
          "manufacturing",
          "other",
          "healthcare",
          "healthcare",
          "NA",
          "healthcare",
          "other",
          "finance",
          "education",
          "other",
          "NA",
          "technology",
          "healthcare",
          "other",
          "retail",
          "healthcare",
          "healthcare",
          "NA",
          "healthcare",
          "healthcare",
          "manufacturing",
          "manufacturing",
          "other",
          "other",
          "education",
          "technology",
          "technology",
          "other",
          "healthcare",
          "healthcare",
          "finance",
          "retail",
          "education",
          "manufacturing",
          "other",
          "retail",
          "technology",
          "retail",
          "technology",
          "education",
          "finance",
          "finance",
          "finance",
          "retail",
          "other",
          "retail",
          "education",
          "retail",
          "other",
          "technology",
          "finance",
          "education",
          "education",
          "manufacturing",
          "healthcare",
          "technology",
          "finance",
          "finance",
          "healthcare",
          "education",
          "retail",
          "finance",
          "other",
          "other",
          "NA",
          "healthcare",
          "manufacturing",
          "other",
          "finance",
          "other",
          "healthcare",
          "technology",
          "healthcare",
          "technology",
          "manufacturing",
          "technology",
          "NA",
          "education",
          "retail",
          "healthcare",
          "healthcare",
          "NA",
          "retail",
          "education",
          "other",
          "NA",
          "retail",
          "other",
          "education",
          "finance",
          "education",
          "other",
          "education",
          "retail",
          "technology",
          "finance",
          "retail",
          "healthcare",
          "manufacturing",
          "healthcare",
          "technology",
          "finance",
          "NA",
          "manufacturing",
          "healthcare",
          "retail",
          "education",
          "manufacturing",
          "retail",
          "manufacturing",
          "NA",
          "manufacturing",
          "finance",
          "other",
          "healthcare",
          "retail",
          "education",
          "healthcare",
          "manufacturing",
          "technology",
          "healthcare",
          "technology",
          "manufacturing",
          "finance",
          "healthcare",
          "technology",
          "healthcare",
          "NA",
          "finance",
          "healthcare",
          "retail",
          "education",
          "manufacturing",
          "healthcare",
          "technology",
          "retail",
          "finance",
          "NA",
          "finance",
          "healthcare",
          "NA",
          "finance",
          "other",
          "retail",
          "other",
          "manufacturing",
          "other",
          "finance",
          "healthcare",
          "NA",
          "other",
          "retail",
          "finance",
          "technology",
          "education",
          "technology",
          "education",
          "healthcare",
          "finance",
          "finance",
          "education",
          "technology",
          "education",
          "other",
          "manufacturing",
          "NA",
          "retail",
          "retail",
          "retail",
          "other",
          "NA",
          "finance",
          "healthcare",
          "other",
          "technology",
          "NA",
          "technology",
          "healthcare",
          "manufacturing",
          "other",
          "other",
          "education",
          "finance",
          "manufacturing",
          "other",
          "retail",
          "healthcare",
          "NA",
          "education",
          "manufacturing",
          "retail",
          "retail",
          "healthcare",
          "other",
          "other",
          "finance",
          "technology",
          "retail",
          "retail",
          "education",
          "finance",
          "retail",
          "technology",
          "technology",
          "retail",
          "retail",
          "healthcare",
          "manufacturing",
          "other",
          "education",
          "NA",
          "other",
          "other",
          "healthcare",
          "finance",
          "manufacturing",
          "healthcare",
          "finance",
          "NA",
          "NA",
          "technology",
          "technology",
          "retail",
          "other",
          "other",
          "retail",
          "other",
          "healthcare",
          "healthcare",
          "education",
          "technology",
          "other",
          "manufacturing",
          "finance",
          "other",
          "manufacturing",
          "retail",
          "technology",
          "other",
          "technology",
          "retail",
          "retail",
          "manufacturing",
          "finance",
          "other",
          "education",
          "education",
          "healthcare",
          "NA",
          "NA",
          "NA",
          "education",
          "technology",
          "healthcare",
          "education",
          "manufacturing",
          "healthcare",
          "education",
          "manufacturing",
          "education",
          "NA",
          "technology",
          "healthcare",
          "other",
          "education",
          "manufacturing",
          "finance",
          "education",
          "finance",
          "other",
          "finance",
          "education",
          "manufacturing",
          "finance",
          "manufacturing",
          "technology",
          "finance",
          "NA",
          "retail",
          "healthcare",
          "finance",
          "healthcare",
          "manufacturing",
          "manufacturing",
          "retail",
          "education",
          "retail",
          "other",
          "manufacturing",
          "education",
          "technology",
          "manufacturing",
          "retail",
          "other",
          "finance",
          "manufacturing",
          "education",
          "technology",
          "other",
          "healthcare",
          "NA",
          "finance",
          "healthcare",
          "other",
          "finance",
          "technology",
          "finance",
          "education",
          "technology",
          "NA",
          "manufacturing",
          "other",
          "retail",
          "technology",
          "finance",
          "manufacturing",
          "technology",
          "healthcare",
          "technology",
          "healthcare",
          "finance",
          "healthcare",
          "retail",
          "NA",
          "other",
          "education",
          "retail",
          "manufacturing",
          "education",
          "manufacturing",
          "retail",
          "manufacturing",
          "retail",
          "other",
          "retail",
          "technology",
          "education",
          "NA",
          "finance",
          "manufacturing",
          "education",
          "manufacturing",
          "manufacturing",
          "manufacturing",
          "manufacturing",
          "technology",
          "retail",
          "manufacturing",
          "finance",
          "NA",
          "other",
          "finance",
          "finance",
          "healthcare",
          "retail",
          "NA",
          "education",
          "finance",
          "healthcare",
          "education",
          "other",
          "NA",
          "finance",
          "education",
          "other",
          "retail",
          "finance",
          "healthcare",
          "retail",
          "retail",
          "education",
          "other",
          "education",
          "other",
          "technology",
          "NA",
          "technology",
          "manufacturing",
          "retail",
          "other",
          "retail",
          "retail",
          "technology",
          "retail",
          "NA",
          "other",
          "manufacturing",
          "finance",
          "manufacturing",
          "NA",
          "technology",
          "finance",
          "retail",
          "education",
          "education",
          "education",
          "education",
          "healthcare",
          "finance",
          "finance",
          "education",
          "NA",
          "NA",
          "manufacturing",
          "finance",
          "education",
          "other",
          "education",
          "retail",
          "manufacturing",
          "healthcare",
          "retail",
          "education",
          "education",
          "finance",
          "healthcare",
          "manufacturing",
          "healthcare",
          "NA",
          "NA",
          "manufacturing",
          "retail",
          "technology",
          "technology",
          "other",
          "other",
          "healthcare",
          "retail",
          "manufacturing",
          "NA",
          "education",
          "technology",
          "retail",
          "technology",
          "education",
          "education",
          "healthcare",
          "education",
          "healthcare",
          "healthcare",
          "NA",
          "retail",
          "technology",
          "finance",
          "technology",
          "healthcare",
          "other",
          "manufacturing",
          "retail",
          "retail",
          "education",
          "other",
          "education",
          "manufacturing",
          "education",
          "technology",
          "manufacturing",
          "education",
          "manufacturing",
          "finance",
          "education",
          "education",
          "other",
          "other",
          "education",
          "other",
          "technology",
          "other",
          "other",
          "technology",
          "other",
          "technology",
          "education",
          "other",
          "retail",
          "finance",
          "manufacturing",
          "other",
          "finance",
          "technology",
          "NA",
          "healthcare",
          "healthcare",
          "other",
          "finance",
          "other",
          "finance",
          "other",
          "finance",
          "technology",
          "manufacturing",
          "retail",
          "other",
          "finance",
          "retail",
          "education",
          "healthcare",
          "technology",
          "finance",
          "retail",
          "manufacturing",
          "retail",
          "NA",
          "manufacturing",
          "manufacturing",
          "finance",
          "other",
          "manufacturing",
          "manufacturing",
          "technology",
          "education",
          "finance",
          "other",
          "manufacturing",
          "technology",
          "technology",
          "technology",
          "manufacturing",
          "other",
          "manufacturing",
          "NA",
          "manufacturing",
          "other",
          "other",
          "retail",
          "NA",
          "retail",
          "finance",
          "manufacturing",
          "other",
          "NA",
          "finance",
          "retail",
          "finance",
          "education",
          "education",
          "finance",
          "healthcare",
          "finance",
          "NA",
          "retail",
          "manufacturing",
          "healthcare",
          "retail",
          "technology",
          "healthcare",
          "retail",
          "NA",
          "education",
          "retail",
          "education",
          "finance",
          "NA",
          "other",
          "education",
          "healthcare",
          "education",
          "manufacturing",
          "retail",
          "manufacturing",
          "healthcare",
          "other",
          "finance",
          "NA",
          "NA",
          "education",
          "other",
          "retail",
          "NA",
          "NA",
          "manufacturing",
          "education",
          "healthcare",
          "technology",
          "finance",
          "finance",
          "technology",
          "healthcare",
          "healthcare",
          "education",
          "manufacturing",
          "manufacturing",
          "healthcare",
          "finance",
          "other",
          "manufacturing",
          "healthcare",
          "education",
          "healthcare",
          "retail",
          "retail",
          "education",
          "education",
          "finance",
          "manufacturing",
          "education",
          "technology",
          "finance",
          "education",
          "education",
          "retail",
          "healthcare",
          "healthcare",
          "technology",
          "healthcare",
          "healthcare",
          "finance",
          "technology",
          "manufacturing",
          "finance",
          "NA",
          "education",
          "healthcare",
          "manufacturing",
          "retail",
          "finance",
          "NA",
          "finance",
          "retail",
          "retail",
          "manufacturing",
          "other",
          "other",
          "finance",
          "other",
          "finance",
          "technology",
          "retail",
          "retail",
          "NA",
          "healthcare",
          "other",
          "retail",
          "other",
          "manufacturing",
          "NA",
          "finance",
          "other",
          "retail",
          "education",
          "retail",
          "education",
          "finance",
          "education",
          "NA",
          "healthcare",
          "education",
          "finance",
          "education",
          "education",
          "NA",
          "retail",
          "finance",
          "manufacturing",
          "NA",
          "technology",
          "other",
          "other",
          "manufacturing",
          "manufacturing",
          "NA",
          "manufacturing",
          "retail",
          "retail",
          "manufacturing",
          "healthcare",
          "education",
          "healthcare",
          "technology",
          "other",
          "NA",
          "healthcare",
          "retail",
          "finance",
          "education",
          "healthcare",
          "manufacturing",
          "education",
          "retail",
          "healthcare",
          "other",
          "other",
          "NA",
          "other",
          "technology",
          "manufacturing",
          "retail",
          "education",
          "healthcare",
          "NA",
          "education",
          "healthcare",
          "manufacturing",
          "NA",
          "education",
          "technology",
          "retail",
          "technology",
          "technology",
          "education",
          "manufacturing",
          "NA",
          "finance",
          "finance",
          "manufacturing",
          "other",
          "technology",
          "technology",
          "healthcare",
          "retail",
          "technology",
          "technology",
          "technology",
          "manufacturing",
          "retail",
          "finance",
          "education",
          "healthcare",
          "retail",
          "other",
          "manufacturing",
          "NA",
          "finance",
          "other",
          "NA",
          "technology",
          "technology",
          "finance",
          "healthcare",
          "NA",
          "manufacturing",
          "healthcare",
          "NA",
          "healthcare",
          "technology",
          "finance",
          "other",
          "healthcare",
          "healthcare",
          "technology",
          "healthcare",
          "other",
          "technology",
          "retail",
          "finance",
          "healthcare",
          "manufacturing",
          "retail",
          "technology",
          "healthcare",
          "other",
          "technology",
          "healthcare",
          "NA",
          "finance",
          "retail",
          "finance",
          "technology",
          "manufacturing",
          "retail",
          "technology",
          "finance",
          "retail",
          "manufacturing",
          "retail",
          "retail",
          "retail",
          "healthcare",
          "retail",
          "technology",
          "finance",
          "finance",
          "finance",
          "NA",
          "other",
          "education",
          "education",
          "healthcare",
          "NA",
          "healthcare",
          "retail",
          "healthcare",
          "education",
          "manufacturing",
          "technology",
          "NA",
          "education",
          "technology",
          "retail",
          "other",
          "manufacturing",
          "retail",
          "other",
          "finance",
          "education",
          "retail",
          "technology",
          "healthcare",
          "retail",
          "finance",
          "NA",
          "technology",
          "retail",
          "manufacturing",
          "healthcare",
          "NA",
          "healthcare",
          "NA",
          "finance",
          "education",
          "retail",
          "manufacturing",
          "finance",
          "education",
          "finance",
          "technology",
          "education",
          "other",
          "retail",
          "other",
          "finance",
          "education",
          "healthcare",
          "other",
          "manufacturing",
          "technology",
          "manufacturing",
          "education",
          "NA",
          "healthcare",
          "healthcare",
          "finance",
          "NA",
          "education",
          "education",
          "retail",
          "healthcare",
          "NA",
          "other",
          "manufacturing",
          "technology",
          "education",
          "other",
          "retail",
          "other",
          "NA",
          "finance",
          "finance",
          "other",
          "retail",
          "retail",
          "healthcare",
          "technology",
          "technology",
          "finance",
          "retail",
          "healthcare",
          "education",
          "education",
          "NA",
          "education",
          "retail",
          "finance",
          "education",
          "manufacturing",
          "retail",
          "finance",
          "finance",
          "other",
          "NA",
          "technology",
          "technology",
          "education",
          "finance",
          "education",
          "technology",
          "education",
          "finance",
          "retail",
          "finance",
          "technology",
          "healthcare",
          "NA",
          "retail",
          "technology",
          "NA",
          "retail",
          "other",
          "other",
          "NA",
          "technology",
          "technology",
          "finance",
          "healthcare",
          "retail",
          "retail",
          "education",
          "healthcare",
          "manufacturing",
          "NA",
          "retail",
          "other",
          "healthcare",
          "retail",
          "healthcare",
          "other",
          "education",
          "retail",
          "education",
          "finance",
          "finance",
          "healthcare",
          "manufacturing",
          "technology",
          "technology",
          "NA",
          "finance"
         ],
         "xaxis": "x",
         "yaxis": "y"
        }
       ],
       "layout": {
        "barmode": "relative",
        "height": 400,
        "legend": {
         "tracegroupgap": 0
        },
        "margin": {
         "t": 60
        },
        "template": {
         "data": {
          "bar": [
           {
            "error_x": {
             "color": "rgb(36,36,36)"
            },
            "error_y": {
             "color": "rgb(36,36,36)"
            },
            "marker": {
             "line": {
              "color": "white",
              "width": 0.5
             },
             "pattern": {
              "fillmode": "overlay",
              "size": 10,
              "solidity": 0.2
             }
            },
            "type": "bar"
           }
          ],
          "barpolar": [
           {
            "marker": {
             "line": {
              "color": "white",
              "width": 0.5
             },
             "pattern": {
              "fillmode": "overlay",
              "size": 10,
              "solidity": 0.2
             }
            },
            "type": "barpolar"
           }
          ],
          "carpet": [
           {
            "aaxis": {
             "endlinecolor": "rgb(36,36,36)",
             "gridcolor": "white",
             "linecolor": "white",
             "minorgridcolor": "white",
             "startlinecolor": "rgb(36,36,36)"
            },
            "baxis": {
             "endlinecolor": "rgb(36,36,36)",
             "gridcolor": "white",
             "linecolor": "white",
             "minorgridcolor": "white",
             "startlinecolor": "rgb(36,36,36)"
            },
            "type": "carpet"
           }
          ],
          "choropleth": [
           {
            "colorbar": {
             "outlinewidth": 1,
             "tickcolor": "rgb(36,36,36)",
             "ticks": "outside"
            },
            "type": "choropleth"
           }
          ],
          "contour": [
           {
            "colorbar": {
             "outlinewidth": 1,
             "tickcolor": "rgb(36,36,36)",
             "ticks": "outside"
            },
            "colorscale": [
             [
              0,
              "#440154"
             ],
             [
              0.1111111111111111,
              "#482878"
             ],
             [
              0.2222222222222222,
              "#3e4989"
             ],
             [
              0.3333333333333333,
              "#31688e"
             ],
             [
              0.4444444444444444,
              "#26828e"
             ],
             [
              0.5555555555555556,
              "#1f9e89"
             ],
             [
              0.6666666666666666,
              "#35b779"
             ],
             [
              0.7777777777777778,
              "#6ece58"
             ],
             [
              0.8888888888888888,
              "#b5de2b"
             ],
             [
              1,
              "#fde725"
             ]
            ],
            "type": "contour"
           }
          ],
          "contourcarpet": [
           {
            "colorbar": {
             "outlinewidth": 1,
             "tickcolor": "rgb(36,36,36)",
             "ticks": "outside"
            },
            "type": "contourcarpet"
           }
          ],
          "heatmap": [
           {
            "colorbar": {
             "outlinewidth": 1,
             "tickcolor": "rgb(36,36,36)",
             "ticks": "outside"
            },
            "colorscale": [
             [
              0,
              "#440154"
             ],
             [
              0.1111111111111111,
              "#482878"
             ],
             [
              0.2222222222222222,
              "#3e4989"
             ],
             [
              0.3333333333333333,
              "#31688e"
             ],
             [
              0.4444444444444444,
              "#26828e"
             ],
             [
              0.5555555555555556,
              "#1f9e89"
             ],
             [
              0.6666666666666666,
              "#35b779"
             ],
             [
              0.7777777777777778,
              "#6ece58"
             ],
             [
              0.8888888888888888,
              "#b5de2b"
             ],
             [
              1,
              "#fde725"
             ]
            ],
            "type": "heatmap"
           }
          ],
          "histogram": [
           {
            "marker": {
             "line": {
              "color": "white",
              "width": 0.6
             }
            },
            "type": "histogram"
           }
          ],
          "histogram2d": [
           {
            "colorbar": {
             "outlinewidth": 1,
             "tickcolor": "rgb(36,36,36)",
             "ticks": "outside"
            },
            "colorscale": [
             [
              0,
              "#440154"
             ],
             [
              0.1111111111111111,
              "#482878"
             ],
             [
              0.2222222222222222,
              "#3e4989"
             ],
             [
              0.3333333333333333,
              "#31688e"
             ],
             [
              0.4444444444444444,
              "#26828e"
             ],
             [
              0.5555555555555556,
              "#1f9e89"
             ],
             [
              0.6666666666666666,
              "#35b779"
             ],
             [
              0.7777777777777778,
              "#6ece58"
             ],
             [
              0.8888888888888888,
              "#b5de2b"
             ],
             [
              1,
              "#fde725"
             ]
            ],
            "type": "histogram2d"
           }
          ],
          "histogram2dcontour": [
           {
            "colorbar": {
             "outlinewidth": 1,
             "tickcolor": "rgb(36,36,36)",
             "ticks": "outside"
            },
            "colorscale": [
             [
              0,
              "#440154"
             ],
             [
              0.1111111111111111,
              "#482878"
             ],
             [
              0.2222222222222222,
              "#3e4989"
             ],
             [
              0.3333333333333333,
              "#31688e"
             ],
             [
              0.4444444444444444,
              "#26828e"
             ],
             [
              0.5555555555555556,
              "#1f9e89"
             ],
             [
              0.6666666666666666,
              "#35b779"
             ],
             [
              0.7777777777777778,
              "#6ece58"
             ],
             [
              0.8888888888888888,
              "#b5de2b"
             ],
             [
              1,
              "#fde725"
             ]
            ],
            "type": "histogram2dcontour"
           }
          ],
          "mesh3d": [
           {
            "colorbar": {
             "outlinewidth": 1,
             "tickcolor": "rgb(36,36,36)",
             "ticks": "outside"
            },
            "type": "mesh3d"
           }
          ],
          "parcoords": [
           {
            "line": {
             "colorbar": {
              "outlinewidth": 1,
              "tickcolor": "rgb(36,36,36)",
              "ticks": "outside"
             }
            },
            "type": "parcoords"
           }
          ],
          "pie": [
           {
            "automargin": true,
            "type": "pie"
           }
          ],
          "scatter": [
           {
            "fillpattern": {
             "fillmode": "overlay",
             "size": 10,
             "solidity": 0.2
            },
            "type": "scatter"
           }
          ],
          "scatter3d": [
           {
            "line": {
             "colorbar": {
              "outlinewidth": 1,
              "tickcolor": "rgb(36,36,36)",
              "ticks": "outside"
             }
            },
            "marker": {
             "colorbar": {
              "outlinewidth": 1,
              "tickcolor": "rgb(36,36,36)",
              "ticks": "outside"
             }
            },
            "type": "scatter3d"
           }
          ],
          "scattercarpet": [
           {
            "marker": {
             "colorbar": {
              "outlinewidth": 1,
              "tickcolor": "rgb(36,36,36)",
              "ticks": "outside"
             }
            },
            "type": "scattercarpet"
           }
          ],
          "scattergeo": [
           {
            "marker": {
             "colorbar": {
              "outlinewidth": 1,
              "tickcolor": "rgb(36,36,36)",
              "ticks": "outside"
             }
            },
            "type": "scattergeo"
           }
          ],
          "scattergl": [
           {
            "marker": {
             "colorbar": {
              "outlinewidth": 1,
              "tickcolor": "rgb(36,36,36)",
              "ticks": "outside"
             }
            },
            "type": "scattergl"
           }
          ],
          "scattermap": [
           {
            "marker": {
             "colorbar": {
              "outlinewidth": 1,
              "tickcolor": "rgb(36,36,36)",
              "ticks": "outside"
             }
            },
            "type": "scattermap"
           }
          ],
          "scattermapbox": [
           {
            "marker": {
             "colorbar": {
              "outlinewidth": 1,
              "tickcolor": "rgb(36,36,36)",
              "ticks": "outside"
             }
            },
            "type": "scattermapbox"
           }
          ],
          "scatterpolar": [
           {
            "marker": {
             "colorbar": {
              "outlinewidth": 1,
              "tickcolor": "rgb(36,36,36)",
              "ticks": "outside"
             }
            },
            "type": "scatterpolar"
           }
          ],
          "scatterpolargl": [
           {
            "marker": {
             "colorbar": {
              "outlinewidth": 1,
              "tickcolor": "rgb(36,36,36)",
              "ticks": "outside"
             }
            },
            "type": "scatterpolargl"
           }
          ],
          "scatterternary": [
           {
            "marker": {
             "colorbar": {
              "outlinewidth": 1,
              "tickcolor": "rgb(36,36,36)",
              "ticks": "outside"
             }
            },
            "type": "scatterternary"
           }
          ],
          "surface": [
           {
            "colorbar": {
             "outlinewidth": 1,
             "tickcolor": "rgb(36,36,36)",
             "ticks": "outside"
            },
            "colorscale": [
             [
              0,
              "#440154"
             ],
             [
              0.1111111111111111,
              "#482878"
             ],
             [
              0.2222222222222222,
              "#3e4989"
             ],
             [
              0.3333333333333333,
              "#31688e"
             ],
             [
              0.4444444444444444,
              "#26828e"
             ],
             [
              0.5555555555555556,
              "#1f9e89"
             ],
             [
              0.6666666666666666,
              "#35b779"
             ],
             [
              0.7777777777777778,
              "#6ece58"
             ],
             [
              0.8888888888888888,
              "#b5de2b"
             ],
             [
              1,
              "#fde725"
             ]
            ],
            "type": "surface"
           }
          ],
          "table": [
           {
            "cells": {
             "fill": {
              "color": "rgb(237,237,237)"
             },
             "line": {
              "color": "white"
             }
            },
            "header": {
             "fill": {
              "color": "rgb(217,217,217)"
             },
             "line": {
              "color": "white"
             }
            },
            "type": "table"
           }
          ]
         },
         "layout": {
          "annotationdefaults": {
           "arrowhead": 0,
           "arrowwidth": 1
          },
          "autotypenumbers": "strict",
          "coloraxis": {
           "colorbar": {
            "outlinewidth": 1,
            "tickcolor": "rgb(36,36,36)",
            "ticks": "outside"
           }
          },
          "colorscale": {
           "diverging": [
            [
             0,
             "rgb(103,0,31)"
            ],
            [
             0.1,
             "rgb(178,24,43)"
            ],
            [
             0.2,
             "rgb(214,96,77)"
            ],
            [
             0.3,
             "rgb(244,165,130)"
            ],
            [
             0.4,
             "rgb(253,219,199)"
            ],
            [
             0.5,
             "rgb(247,247,247)"
            ],
            [
             0.6,
             "rgb(209,229,240)"
            ],
            [
             0.7,
             "rgb(146,197,222)"
            ],
            [
             0.8,
             "rgb(67,147,195)"
            ],
            [
             0.9,
             "rgb(33,102,172)"
            ],
            [
             1,
             "rgb(5,48,97)"
            ]
           ],
           "sequential": [
            [
             0,
             "#440154"
            ],
            [
             0.1111111111111111,
             "#482878"
            ],
            [
             0.2222222222222222,
             "#3e4989"
            ],
            [
             0.3333333333333333,
             "#31688e"
            ],
            [
             0.4444444444444444,
             "#26828e"
            ],
            [
             0.5555555555555556,
             "#1f9e89"
            ],
            [
             0.6666666666666666,
             "#35b779"
            ],
            [
             0.7777777777777778,
             "#6ece58"
            ],
            [
             0.8888888888888888,
             "#b5de2b"
            ],
            [
             1,
             "#fde725"
            ]
           ],
           "sequentialminus": [
            [
             0,
             "#440154"
            ],
            [
             0.1111111111111111,
             "#482878"
            ],
            [
             0.2222222222222222,
             "#3e4989"
            ],
            [
             0.3333333333333333,
             "#31688e"
            ],
            [
             0.4444444444444444,
             "#26828e"
            ],
            [
             0.5555555555555556,
             "#1f9e89"
            ],
            [
             0.6666666666666666,
             "#35b779"
            ],
            [
             0.7777777777777778,
             "#6ece58"
            ],
            [
             0.8888888888888888,
             "#b5de2b"
            ],
            [
             1,
             "#fde725"
            ]
           ]
          },
          "colorway": [
           "#1F77B4",
           "#FF7F0E",
           "#2CA02C",
           "#D62728",
           "#9467BD",
           "#8C564B",
           "#E377C2",
           "#7F7F7F",
           "#BCBD22",
           "#17BECF"
          ],
          "font": {
           "color": "rgb(36,36,36)"
          },
          "geo": {
           "bgcolor": "white",
           "lakecolor": "white",
           "landcolor": "white",
           "showlakes": true,
           "showland": true,
           "subunitcolor": "white"
          },
          "hoverlabel": {
           "align": "left"
          },
          "hovermode": "closest",
          "mapbox": {
           "style": "light"
          },
          "paper_bgcolor": "white",
          "plot_bgcolor": "white",
          "polar": {
           "angularaxis": {
            "gridcolor": "rgb(232,232,232)",
            "linecolor": "rgb(36,36,36)",
            "showgrid": false,
            "showline": true,
            "ticks": "outside"
           },
           "bgcolor": "white",
           "radialaxis": {
            "gridcolor": "rgb(232,232,232)",
            "linecolor": "rgb(36,36,36)",
            "showgrid": false,
            "showline": true,
            "ticks": "outside"
           }
          },
          "scene": {
           "xaxis": {
            "backgroundcolor": "white",
            "gridcolor": "rgb(232,232,232)",
            "gridwidth": 2,
            "linecolor": "rgb(36,36,36)",
            "showbackground": true,
            "showgrid": false,
            "showline": true,
            "ticks": "outside",
            "zeroline": false,
            "zerolinecolor": "rgb(36,36,36)"
           },
           "yaxis": {
            "backgroundcolor": "white",
            "gridcolor": "rgb(232,232,232)",
            "gridwidth": 2,
            "linecolor": "rgb(36,36,36)",
            "showbackground": true,
            "showgrid": false,
            "showline": true,
            "ticks": "outside",
            "zeroline": false,
            "zerolinecolor": "rgb(36,36,36)"
           },
           "zaxis": {
            "backgroundcolor": "white",
            "gridcolor": "rgb(232,232,232)",
            "gridwidth": 2,
            "linecolor": "rgb(36,36,36)",
            "showbackground": true,
            "showgrid": false,
            "showline": true,
            "ticks": "outside",
            "zeroline": false,
            "zerolinecolor": "rgb(36,36,36)"
           }
          },
          "shapedefaults": {
           "fillcolor": "black",
           "line": {
            "width": 0
           },
           "opacity": 0.3
          },
          "ternary": {
           "aaxis": {
            "gridcolor": "rgb(232,232,232)",
            "linecolor": "rgb(36,36,36)",
            "showgrid": false,
            "showline": true,
            "ticks": "outside"
           },
           "baxis": {
            "gridcolor": "rgb(232,232,232)",
            "linecolor": "rgb(36,36,36)",
            "showgrid": false,
            "showline": true,
            "ticks": "outside"
           },
           "bgcolor": "white",
           "caxis": {
            "gridcolor": "rgb(232,232,232)",
            "linecolor": "rgb(36,36,36)",
            "showgrid": false,
            "showline": true,
            "ticks": "outside"
           }
          },
          "title": {
           "x": 0.05
          },
          "xaxis": {
           "automargin": true,
           "gridcolor": "rgb(232,232,232)",
           "linecolor": "rgb(36,36,36)",
           "showgrid": false,
           "showline": true,
           "ticks": "outside",
           "title": {
            "standoff": 15
           },
           "zeroline": false,
           "zerolinecolor": "rgb(36,36,36)"
          },
          "yaxis": {
           "automargin": true,
           "gridcolor": "rgb(232,232,232)",
           "linecolor": "rgb(36,36,36)",
           "showgrid": false,
           "showline": true,
           "ticks": "outside",
           "title": {
            "standoff": 15
           },
           "zeroline": false,
           "zerolinecolor": "rgb(36,36,36)"
          }
         }
        },
        "width": 500,
        "xaxis": {
         "anchor": "y",
         "categoryorder": "total descending",
         "domain": [
          0,
          1
         ],
         "title": {
          "text": "industry"
         }
        },
        "yaxis": {
         "anchor": "x",
         "domain": [
          0,
          1
         ],
         "title": {
          "text": "count"
         }
        }
       }
      }
     },
     "metadata": {},
     "output_type": "display_data"
    }
   ],
   "source": [
    "px.histogram(df,x='industry',text_auto=True,width=500,height=400).update_layout(template='simple_white',xaxis={'categoryorder':'total descending'})"
   ]
  },
  {
   "cell_type": "code",
   "execution_count": 28,
   "id": "2bb4d723",
   "metadata": {},
   "outputs": [
    {
     "data": {
      "application/vnd.microsoft.datawrangler.viewer.v0+json": {
       "columns": [
        {
         "name": "index",
         "rawType": "object",
         "type": "string"
        },
        {
         "name": "industry",
         "rawType": "object",
         "type": "unknown"
        }
       ],
       "ref": "fe4152fb-73d0-490e-b716-cc4348a601b3",
       "rows": [
        [
         "count",
         "1462"
        ],
        [
         "unique",
         "8"
        ],
        [
         "top",
         "retail"
        ],
        [
         "freq",
         "203"
        ]
       ],
       "shape": {
        "columns": 1,
        "rows": 4
       }
      },
      "text/plain": [
       "count       1462\n",
       "unique         8\n",
       "top       retail\n",
       "freq         203\n",
       "Name: industry, dtype: object"
      ]
     },
     "execution_count": 28,
     "metadata": {},
     "output_type": "execute_result"
    }
   ],
   "source": [
    "df.industry.describe().T"
   ]
  },
  {
   "cell_type": "markdown",
   "id": "c3c04695",
   "metadata": {},
   "source": [
    "### Question 2\n",
    "\n",
    "Create the [correlation matrix](https://www.google.com/search?q=correlation+matrix) for the numerical features of your dataset. \n",
    "In a correlation matrix, you compute the correlation coefficient between every pair of features.\n",
    "\n",
    "What are the two features that have the biggest correlation?\n",
    "\n",
    "- `interaction_count` and `lead_score`\n",
    "- `number_of_courses_viewed` and `lead_score`\n",
    "- `number_of_courses_viewed` and `interaction_count`\n",
    "- `annual_income` and `interaction_count`\n",
    "\n",
    "Only consider the pairs above when answering this question.\n",
    "\n"
   ]
  },
  {
   "cell_type": "code",
   "execution_count": 33,
   "id": "72aa6163",
   "metadata": {},
   "outputs": [
    {
     "data": {
      "application/vnd.plotly.v1+json": {
       "config": {
        "plotlyServerURL": "https://plot.ly"
       },
       "data": [
        {
         "coloraxis": "coloraxis",
         "hovertemplate": "x: %{x}<br>y: %{y}<br>color: %{z}<extra></extra>",
         "name": "0",
         "texttemplate": "%{z}",
         "type": "heatmap",
         "x": [
          "interaction_count",
          "lead_score",
          "number_of_courses_viewed",
          "annual_income"
         ],
         "xaxis": "x",
         "y": [
          "interaction_count",
          "lead_score",
          "number_of_courses_viewed",
          "annual_income"
         ],
         "yaxis": "y",
         "z": {
          "bdata": "AAAAAAAA8D/129eBc0aEP+0NvjCZKpi/2c73U+Olmz/129eBc0aEPwAAAAAAAPA/bqMBvAUSdL/ecYqO5PKPP+0NvjCZKpi/bqMBvAUSdL8AAAAAAADwP26jAbwFEoQ/2c73U+Olmz/ecYqO5PKPP26jAbwFEoQ/AAAAAAAA8D8=",
          "dtype": "f8",
          "shape": "4, 4"
         }
        }
       ],
       "layout": {
        "coloraxis": {
         "colorscale": [
          [
           0,
           "rgb(5,48,97)"
          ],
          [
           0.1,
           "rgb(33,102,172)"
          ],
          [
           0.2,
           "rgb(67,147,195)"
          ],
          [
           0.3,
           "rgb(146,197,222)"
          ],
          [
           0.4,
           "rgb(209,229,240)"
          ],
          [
           0.5,
           "rgb(247,247,247)"
          ],
          [
           0.6,
           "rgb(253,219,199)"
          ],
          [
           0.7,
           "rgb(244,165,130)"
          ],
          [
           0.8,
           "rgb(214,96,77)"
          ],
          [
           0.9,
           "rgb(178,24,43)"
          ],
          [
           1,
           "rgb(103,0,31)"
          ]
         ]
        },
        "height": 700,
        "template": {
         "data": {
          "bar": [
           {
            "error_x": {
             "color": "rgb(36,36,36)"
            },
            "error_y": {
             "color": "rgb(36,36,36)"
            },
            "marker": {
             "line": {
              "color": "white",
              "width": 0.5
             },
             "pattern": {
              "fillmode": "overlay",
              "size": 10,
              "solidity": 0.2
             }
            },
            "type": "bar"
           }
          ],
          "barpolar": [
           {
            "marker": {
             "line": {
              "color": "white",
              "width": 0.5
             },
             "pattern": {
              "fillmode": "overlay",
              "size": 10,
              "solidity": 0.2
             }
            },
            "type": "barpolar"
           }
          ],
          "carpet": [
           {
            "aaxis": {
             "endlinecolor": "rgb(36,36,36)",
             "gridcolor": "white",
             "linecolor": "white",
             "minorgridcolor": "white",
             "startlinecolor": "rgb(36,36,36)"
            },
            "baxis": {
             "endlinecolor": "rgb(36,36,36)",
             "gridcolor": "white",
             "linecolor": "white",
             "minorgridcolor": "white",
             "startlinecolor": "rgb(36,36,36)"
            },
            "type": "carpet"
           }
          ],
          "choropleth": [
           {
            "colorbar": {
             "outlinewidth": 1,
             "tickcolor": "rgb(36,36,36)",
             "ticks": "outside"
            },
            "type": "choropleth"
           }
          ],
          "contour": [
           {
            "colorbar": {
             "outlinewidth": 1,
             "tickcolor": "rgb(36,36,36)",
             "ticks": "outside"
            },
            "colorscale": [
             [
              0,
              "#440154"
             ],
             [
              0.1111111111111111,
              "#482878"
             ],
             [
              0.2222222222222222,
              "#3e4989"
             ],
             [
              0.3333333333333333,
              "#31688e"
             ],
             [
              0.4444444444444444,
              "#26828e"
             ],
             [
              0.5555555555555556,
              "#1f9e89"
             ],
             [
              0.6666666666666666,
              "#35b779"
             ],
             [
              0.7777777777777778,
              "#6ece58"
             ],
             [
              0.8888888888888888,
              "#b5de2b"
             ],
             [
              1,
              "#fde725"
             ]
            ],
            "type": "contour"
           }
          ],
          "contourcarpet": [
           {
            "colorbar": {
             "outlinewidth": 1,
             "tickcolor": "rgb(36,36,36)",
             "ticks": "outside"
            },
            "type": "contourcarpet"
           }
          ],
          "heatmap": [
           {
            "colorbar": {
             "outlinewidth": 1,
             "tickcolor": "rgb(36,36,36)",
             "ticks": "outside"
            },
            "colorscale": [
             [
              0,
              "#440154"
             ],
             [
              0.1111111111111111,
              "#482878"
             ],
             [
              0.2222222222222222,
              "#3e4989"
             ],
             [
              0.3333333333333333,
              "#31688e"
             ],
             [
              0.4444444444444444,
              "#26828e"
             ],
             [
              0.5555555555555556,
              "#1f9e89"
             ],
             [
              0.6666666666666666,
              "#35b779"
             ],
             [
              0.7777777777777778,
              "#6ece58"
             ],
             [
              0.8888888888888888,
              "#b5de2b"
             ],
             [
              1,
              "#fde725"
             ]
            ],
            "type": "heatmap"
           }
          ],
          "histogram": [
           {
            "marker": {
             "line": {
              "color": "white",
              "width": 0.6
             }
            },
            "type": "histogram"
           }
          ],
          "histogram2d": [
           {
            "colorbar": {
             "outlinewidth": 1,
             "tickcolor": "rgb(36,36,36)",
             "ticks": "outside"
            },
            "colorscale": [
             [
              0,
              "#440154"
             ],
             [
              0.1111111111111111,
              "#482878"
             ],
             [
              0.2222222222222222,
              "#3e4989"
             ],
             [
              0.3333333333333333,
              "#31688e"
             ],
             [
              0.4444444444444444,
              "#26828e"
             ],
             [
              0.5555555555555556,
              "#1f9e89"
             ],
             [
              0.6666666666666666,
              "#35b779"
             ],
             [
              0.7777777777777778,
              "#6ece58"
             ],
             [
              0.8888888888888888,
              "#b5de2b"
             ],
             [
              1,
              "#fde725"
             ]
            ],
            "type": "histogram2d"
           }
          ],
          "histogram2dcontour": [
           {
            "colorbar": {
             "outlinewidth": 1,
             "tickcolor": "rgb(36,36,36)",
             "ticks": "outside"
            },
            "colorscale": [
             [
              0,
              "#440154"
             ],
             [
              0.1111111111111111,
              "#482878"
             ],
             [
              0.2222222222222222,
              "#3e4989"
             ],
             [
              0.3333333333333333,
              "#31688e"
             ],
             [
              0.4444444444444444,
              "#26828e"
             ],
             [
              0.5555555555555556,
              "#1f9e89"
             ],
             [
              0.6666666666666666,
              "#35b779"
             ],
             [
              0.7777777777777778,
              "#6ece58"
             ],
             [
              0.8888888888888888,
              "#b5de2b"
             ],
             [
              1,
              "#fde725"
             ]
            ],
            "type": "histogram2dcontour"
           }
          ],
          "mesh3d": [
           {
            "colorbar": {
             "outlinewidth": 1,
             "tickcolor": "rgb(36,36,36)",
             "ticks": "outside"
            },
            "type": "mesh3d"
           }
          ],
          "parcoords": [
           {
            "line": {
             "colorbar": {
              "outlinewidth": 1,
              "tickcolor": "rgb(36,36,36)",
              "ticks": "outside"
             }
            },
            "type": "parcoords"
           }
          ],
          "pie": [
           {
            "automargin": true,
            "type": "pie"
           }
          ],
          "scatter": [
           {
            "fillpattern": {
             "fillmode": "overlay",
             "size": 10,
             "solidity": 0.2
            },
            "type": "scatter"
           }
          ],
          "scatter3d": [
           {
            "line": {
             "colorbar": {
              "outlinewidth": 1,
              "tickcolor": "rgb(36,36,36)",
              "ticks": "outside"
             }
            },
            "marker": {
             "colorbar": {
              "outlinewidth": 1,
              "tickcolor": "rgb(36,36,36)",
              "ticks": "outside"
             }
            },
            "type": "scatter3d"
           }
          ],
          "scattercarpet": [
           {
            "marker": {
             "colorbar": {
              "outlinewidth": 1,
              "tickcolor": "rgb(36,36,36)",
              "ticks": "outside"
             }
            },
            "type": "scattercarpet"
           }
          ],
          "scattergeo": [
           {
            "marker": {
             "colorbar": {
              "outlinewidth": 1,
              "tickcolor": "rgb(36,36,36)",
              "ticks": "outside"
             }
            },
            "type": "scattergeo"
           }
          ],
          "scattergl": [
           {
            "marker": {
             "colorbar": {
              "outlinewidth": 1,
              "tickcolor": "rgb(36,36,36)",
              "ticks": "outside"
             }
            },
            "type": "scattergl"
           }
          ],
          "scattermap": [
           {
            "marker": {
             "colorbar": {
              "outlinewidth": 1,
              "tickcolor": "rgb(36,36,36)",
              "ticks": "outside"
             }
            },
            "type": "scattermap"
           }
          ],
          "scattermapbox": [
           {
            "marker": {
             "colorbar": {
              "outlinewidth": 1,
              "tickcolor": "rgb(36,36,36)",
              "ticks": "outside"
             }
            },
            "type": "scattermapbox"
           }
          ],
          "scatterpolar": [
           {
            "marker": {
             "colorbar": {
              "outlinewidth": 1,
              "tickcolor": "rgb(36,36,36)",
              "ticks": "outside"
             }
            },
            "type": "scatterpolar"
           }
          ],
          "scatterpolargl": [
           {
            "marker": {
             "colorbar": {
              "outlinewidth": 1,
              "tickcolor": "rgb(36,36,36)",
              "ticks": "outside"
             }
            },
            "type": "scatterpolargl"
           }
          ],
          "scatterternary": [
           {
            "marker": {
             "colorbar": {
              "outlinewidth": 1,
              "tickcolor": "rgb(36,36,36)",
              "ticks": "outside"
             }
            },
            "type": "scatterternary"
           }
          ],
          "surface": [
           {
            "colorbar": {
             "outlinewidth": 1,
             "tickcolor": "rgb(36,36,36)",
             "ticks": "outside"
            },
            "colorscale": [
             [
              0,
              "#440154"
             ],
             [
              0.1111111111111111,
              "#482878"
             ],
             [
              0.2222222222222222,
              "#3e4989"
             ],
             [
              0.3333333333333333,
              "#31688e"
             ],
             [
              0.4444444444444444,
              "#26828e"
             ],
             [
              0.5555555555555556,
              "#1f9e89"
             ],
             [
              0.6666666666666666,
              "#35b779"
             ],
             [
              0.7777777777777778,
              "#6ece58"
             ],
             [
              0.8888888888888888,
              "#b5de2b"
             ],
             [
              1,
              "#fde725"
             ]
            ],
            "type": "surface"
           }
          ],
          "table": [
           {
            "cells": {
             "fill": {
              "color": "rgb(237,237,237)"
             },
             "line": {
              "color": "white"
             }
            },
            "header": {
             "fill": {
              "color": "rgb(217,217,217)"
             },
             "line": {
              "color": "white"
             }
            },
            "type": "table"
           }
          ]
         },
         "layout": {
          "annotationdefaults": {
           "arrowhead": 0,
           "arrowwidth": 1
          },
          "autotypenumbers": "strict",
          "coloraxis": {
           "colorbar": {
            "outlinewidth": 1,
            "tickcolor": "rgb(36,36,36)",
            "ticks": "outside"
           }
          },
          "colorscale": {
           "diverging": [
            [
             0,
             "rgb(103,0,31)"
            ],
            [
             0.1,
             "rgb(178,24,43)"
            ],
            [
             0.2,
             "rgb(214,96,77)"
            ],
            [
             0.3,
             "rgb(244,165,130)"
            ],
            [
             0.4,
             "rgb(253,219,199)"
            ],
            [
             0.5,
             "rgb(247,247,247)"
            ],
            [
             0.6,
             "rgb(209,229,240)"
            ],
            [
             0.7,
             "rgb(146,197,222)"
            ],
            [
             0.8,
             "rgb(67,147,195)"
            ],
            [
             0.9,
             "rgb(33,102,172)"
            ],
            [
             1,
             "rgb(5,48,97)"
            ]
           ],
           "sequential": [
            [
             0,
             "#440154"
            ],
            [
             0.1111111111111111,
             "#482878"
            ],
            [
             0.2222222222222222,
             "#3e4989"
            ],
            [
             0.3333333333333333,
             "#31688e"
            ],
            [
             0.4444444444444444,
             "#26828e"
            ],
            [
             0.5555555555555556,
             "#1f9e89"
            ],
            [
             0.6666666666666666,
             "#35b779"
            ],
            [
             0.7777777777777778,
             "#6ece58"
            ],
            [
             0.8888888888888888,
             "#b5de2b"
            ],
            [
             1,
             "#fde725"
            ]
           ],
           "sequentialminus": [
            [
             0,
             "#440154"
            ],
            [
             0.1111111111111111,
             "#482878"
            ],
            [
             0.2222222222222222,
             "#3e4989"
            ],
            [
             0.3333333333333333,
             "#31688e"
            ],
            [
             0.4444444444444444,
             "#26828e"
            ],
            [
             0.5555555555555556,
             "#1f9e89"
            ],
            [
             0.6666666666666666,
             "#35b779"
            ],
            [
             0.7777777777777778,
             "#6ece58"
            ],
            [
             0.8888888888888888,
             "#b5de2b"
            ],
            [
             1,
             "#fde725"
            ]
           ]
          },
          "colorway": [
           "#1F77B4",
           "#FF7F0E",
           "#2CA02C",
           "#D62728",
           "#9467BD",
           "#8C564B",
           "#E377C2",
           "#7F7F7F",
           "#BCBD22",
           "#17BECF"
          ],
          "font": {
           "color": "rgb(36,36,36)"
          },
          "geo": {
           "bgcolor": "white",
           "lakecolor": "white",
           "landcolor": "white",
           "showlakes": true,
           "showland": true,
           "subunitcolor": "white"
          },
          "hoverlabel": {
           "align": "left"
          },
          "hovermode": "closest",
          "mapbox": {
           "style": "light"
          },
          "paper_bgcolor": "white",
          "plot_bgcolor": "white",
          "polar": {
           "angularaxis": {
            "gridcolor": "rgb(232,232,232)",
            "linecolor": "rgb(36,36,36)",
            "showgrid": false,
            "showline": true,
            "ticks": "outside"
           },
           "bgcolor": "white",
           "radialaxis": {
            "gridcolor": "rgb(232,232,232)",
            "linecolor": "rgb(36,36,36)",
            "showgrid": false,
            "showline": true,
            "ticks": "outside"
           }
          },
          "scene": {
           "xaxis": {
            "backgroundcolor": "white",
            "gridcolor": "rgb(232,232,232)",
            "gridwidth": 2,
            "linecolor": "rgb(36,36,36)",
            "showbackground": true,
            "showgrid": false,
            "showline": true,
            "ticks": "outside",
            "zeroline": false,
            "zerolinecolor": "rgb(36,36,36)"
           },
           "yaxis": {
            "backgroundcolor": "white",
            "gridcolor": "rgb(232,232,232)",
            "gridwidth": 2,
            "linecolor": "rgb(36,36,36)",
            "showbackground": true,
            "showgrid": false,
            "showline": true,
            "ticks": "outside",
            "zeroline": false,
            "zerolinecolor": "rgb(36,36,36)"
           },
           "zaxis": {
            "backgroundcolor": "white",
            "gridcolor": "rgb(232,232,232)",
            "gridwidth": 2,
            "linecolor": "rgb(36,36,36)",
            "showbackground": true,
            "showgrid": false,
            "showline": true,
            "ticks": "outside",
            "zeroline": false,
            "zerolinecolor": "rgb(36,36,36)"
           }
          },
          "shapedefaults": {
           "fillcolor": "black",
           "line": {
            "width": 0
           },
           "opacity": 0.3
          },
          "ternary": {
           "aaxis": {
            "gridcolor": "rgb(232,232,232)",
            "linecolor": "rgb(36,36,36)",
            "showgrid": false,
            "showline": true,
            "ticks": "outside"
           },
           "baxis": {
            "gridcolor": "rgb(232,232,232)",
            "linecolor": "rgb(36,36,36)",
            "showgrid": false,
            "showline": true,
            "ticks": "outside"
           },
           "bgcolor": "white",
           "caxis": {
            "gridcolor": "rgb(232,232,232)",
            "linecolor": "rgb(36,36,36)",
            "showgrid": false,
            "showline": true,
            "ticks": "outside"
           }
          },
          "title": {
           "x": 0.05
          },
          "xaxis": {
           "automargin": true,
           "gridcolor": "rgb(232,232,232)",
           "linecolor": "rgb(36,36,36)",
           "showgrid": false,
           "showline": true,
           "ticks": "outside",
           "title": {
            "standoff": 15
           },
           "zeroline": false,
           "zerolinecolor": "rgb(36,36,36)"
          },
          "yaxis": {
           "automargin": true,
           "gridcolor": "rgb(232,232,232)",
           "linecolor": "rgb(36,36,36)",
           "showgrid": false,
           "showline": true,
           "ticks": "outside",
           "title": {
            "standoff": 15
           },
           "zeroline": false,
           "zerolinecolor": "rgb(36,36,36)"
          }
         }
        },
        "title": {
         "text": "Correlation Matrix"
        },
        "width": 1000,
        "xaxis": {
         "anchor": "y",
         "constrain": "domain",
         "domain": [
          0,
          1
         ],
         "scaleanchor": "y"
        },
        "yaxis": {
         "anchor": "x",
         "autorange": "reversed",
         "constrain": "domain",
         "domain": [
          0,
          1
         ]
        }
       }
      }
     },
     "metadata": {},
     "output_type": "display_data"
    }
   ],
   "source": [
    "corr_cols = ['interaction_count','lead_score','number_of_courses_viewed','annual_income']\n",
    "corr_matrix = df[corr_cols].corr().round(4)\n",
    "fig = px.imshow(\n",
    "    corr_matrix,\n",
    "    text_auto=True,\n",
    "    color_continuous_scale='RdBu_r',\n",
    "    title='Correlation Matrix', width=1000, height=700\n",
    ")\n",
    "fig.update_layout(template='simple_white')\n",
    "fig.show()"
   ]
  },
  {
   "cell_type": "code",
   "execution_count": 34,
   "id": "e6d3b380",
   "metadata": {},
   "outputs": [
    {
     "data": {
      "application/vnd.microsoft.datawrangler.viewer.v0+json": {
       "columns": [
        {
         "name": "index",
         "rawType": "object",
         "type": "string"
        },
        {
         "name": "interaction_count",
         "rawType": "float64",
         "type": "float"
        },
        {
         "name": "lead_score",
         "rawType": "float64",
         "type": "float"
        },
        {
         "name": "number_of_courses_viewed",
         "rawType": "float64",
         "type": "float"
        },
        {
         "name": "annual_income",
         "rawType": "float64",
         "type": "float"
        }
       ],
       "ref": "11c7f9ab-8523-44ab-9c99-d87bc4742efa",
       "rows": [
        [
         "interaction_count",
         "1.0",
         "0.0099",
         "-0.0236",
         "0.027"
        ],
        [
         "lead_score",
         "0.0099",
         "1.0",
         "-0.0049",
         "0.0156"
        ],
        [
         "number_of_courses_viewed",
         "-0.0236",
         "-0.0049",
         "1.0",
         "0.0098"
        ],
        [
         "annual_income",
         "0.027",
         "0.0156",
         "0.0098",
         "1.0"
        ]
       ],
       "shape": {
        "columns": 4,
        "rows": 4
       }
      },
      "text/html": [
       "<div>\n",
       "<style scoped>\n",
       "    .dataframe tbody tr th:only-of-type {\n",
       "        vertical-align: middle;\n",
       "    }\n",
       "\n",
       "    .dataframe tbody tr th {\n",
       "        vertical-align: top;\n",
       "    }\n",
       "\n",
       "    .dataframe thead th {\n",
       "        text-align: right;\n",
       "    }\n",
       "</style>\n",
       "<table border=\"1\" class=\"dataframe\">\n",
       "  <thead>\n",
       "    <tr style=\"text-align: right;\">\n",
       "      <th></th>\n",
       "      <th>interaction_count</th>\n",
       "      <th>lead_score</th>\n",
       "      <th>number_of_courses_viewed</th>\n",
       "      <th>annual_income</th>\n",
       "    </tr>\n",
       "  </thead>\n",
       "  <tbody>\n",
       "    <tr>\n",
       "      <th>interaction_count</th>\n",
       "      <td>1.0000</td>\n",
       "      <td>0.0099</td>\n",
       "      <td>-0.0236</td>\n",
       "      <td>0.0270</td>\n",
       "    </tr>\n",
       "    <tr>\n",
       "      <th>lead_score</th>\n",
       "      <td>0.0099</td>\n",
       "      <td>1.0000</td>\n",
       "      <td>-0.0049</td>\n",
       "      <td>0.0156</td>\n",
       "    </tr>\n",
       "    <tr>\n",
       "      <th>number_of_courses_viewed</th>\n",
       "      <td>-0.0236</td>\n",
       "      <td>-0.0049</td>\n",
       "      <td>1.0000</td>\n",
       "      <td>0.0098</td>\n",
       "    </tr>\n",
       "    <tr>\n",
       "      <th>annual_income</th>\n",
       "      <td>0.0270</td>\n",
       "      <td>0.0156</td>\n",
       "      <td>0.0098</td>\n",
       "      <td>1.0000</td>\n",
       "    </tr>\n",
       "  </tbody>\n",
       "</table>\n",
       "</div>"
      ],
      "text/plain": [
       "                          interaction_count  lead_score  \\\n",
       "interaction_count                    1.0000      0.0099   \n",
       "lead_score                           0.0099      1.0000   \n",
       "number_of_courses_viewed            -0.0236     -0.0049   \n",
       "annual_income                        0.0270      0.0156   \n",
       "\n",
       "                          number_of_courses_viewed  annual_income  \n",
       "interaction_count                          -0.0236         0.0270  \n",
       "lead_score                                 -0.0049         0.0156  \n",
       "number_of_courses_viewed                    1.0000         0.0098  \n",
       "annual_income                               0.0098         1.0000  "
      ]
     },
     "execution_count": 34,
     "metadata": {},
     "output_type": "execute_result"
    }
   ],
   "source": [
    "corr_matrix"
   ]
  },
  {
   "cell_type": "markdown",
   "id": "fcdafd5a",
   "metadata": {},
   "source": [
    "- `interaction_count` and `lead_score`: 0.0099\n",
    "- `number_of_courses_viewed` and `lead_score`: -0.0049\n",
    "- `number_of_courses_viewed` and `interaction_count` : **-0.0236**\n",
    "- `annual_income` and `interaction_count`:**0.027**"
   ]
  },
  {
   "cell_type": "markdown",
   "id": "856418ea",
   "metadata": {},
   "source": [
    "### Split the data\n",
    "\n",
    "* Split your data in train/val/test sets with 60%/20%/20% distribution.\n",
    "* Use Scikit-Learn for that (the `train_test_split` function) and set the seed to `42`.\n",
    "* Make sure that the target value `y` is not in your dataframe.\n",
    "\n"
   ]
  },
  {
   "cell_type": "code",
   "execution_count": 73,
   "id": "540131f5",
   "metadata": {},
   "outputs": [
    {
     "data": {
      "text/plain": [
       "(935, 234, 293)"
      ]
     },
     "execution_count": 73,
     "metadata": {},
     "output_type": "execute_result"
    }
   ],
   "source": [
    "from sklearn.model_selection import train_test_split\n",
    "\n",
    "df_full_train, df_test = train_test_split(df, test_size=0.2, random_state=42)\n",
    "df_train, df_val = train_test_split(df_full_train, test_size=0.2, random_state=42)\n",
    "\n",
    "len(df_train), len(df_val), len(df_test)"
   ]
  },
  {
   "cell_type": "code",
   "execution_count": 74,
   "id": "9bf31e59",
   "metadata": {},
   "outputs": [],
   "source": [
    "df_train = df_train.reset_index(drop=True)\n",
    "df_val = df_val.reset_index(drop=True)\n",
    "df_test = df_test.reset_index(drop=True)"
   ]
  },
  {
   "cell_type": "code",
   "execution_count": 75,
   "id": "2d891f09",
   "metadata": {},
   "outputs": [],
   "source": [
    "y_train = df_train.converted.values\n",
    "y_val = df_val.converted.values\n",
    "y_test = df_test.converted.values\n",
    "\n",
    "del df_train['converted']\n",
    "del df_val['converted']\n",
    "del df_test['converted']"
   ]
  },
  {
   "cell_type": "markdown",
   "id": "acee8b41",
   "metadata": {},
   "source": [
    "### Question 3\n",
    "\n",
    "* Calculate the mutual information score between `y` and other categorical variables in the dataset. Use the training set only.\n",
    "* Round the scores to 2 decimals using `round(score, 2)`.\n",
    "\n",
    "Which of these variables has the biggest mutual information score?\n",
    "  \n",
    "- `industry`\n",
    "- `location`\n",
    "- **`lead_source`**\n",
    "- `employment_status`\n",
    "\n",
    "\n"
   ]
  },
  {
   "cell_type": "code",
   "execution_count": 76,
   "id": "64477468",
   "metadata": {},
   "outputs": [
    {
     "data": {
      "text/plain": [
       "np.float64(0.011684562750165564)"
      ]
     },
     "metadata": {},
     "output_type": "display_data"
    },
    {
     "data": {
      "text/plain": [
       "np.float64(0.5816088091455935)"
      ]
     },
     "metadata": {},
     "output_type": "display_data"
    }
   ],
   "source": [
    "from sklearn.metrics import mutual_info_score\n",
    "\n",
    "display(mutual_info_score(df_full_train.converted, df_full_train.industry))\n",
    "display(mutual_info_score(df_full_train.annual_income, df_full_train.converted))"
   ]
  },
  {
   "cell_type": "code",
   "execution_count": 77,
   "id": "d356c6ec",
   "metadata": {},
   "outputs": [],
   "source": [
    "def mutual_info_converted_score(series):\n",
    "    return mutual_info_score(series, df_full_train.converted)"
   ]
  },
  {
   "cell_type": "code",
   "execution_count": 78,
   "id": "dca716e5",
   "metadata": {},
   "outputs": [
    {
     "data": {
      "text/plain": [
       "['lead_source', 'industry', 'employment_status', 'location']"
      ]
     },
     "execution_count": 78,
     "metadata": {},
     "output_type": "execute_result"
    }
   ],
   "source": [
    "df_full_train.select_dtypes(include='object').columns.to_list()"
   ]
  },
  {
   "cell_type": "code",
   "execution_count": 79,
   "id": "377456aa",
   "metadata": {},
   "outputs": [
    {
     "data": {
      "application/vnd.microsoft.datawrangler.viewer.v0+json": {
       "columns": [
        {
         "name": "index",
         "rawType": "object",
         "type": "string"
        },
        {
         "name": "0",
         "rawType": "float64",
         "type": "float"
        }
       ],
       "ref": "22b85dd1-e5eb-486a-be98-5f2a3df45ccd",
       "rows": [
        [
         "lead_source",
         "2.5665373935054956"
        ],
        [
         "employment_status",
         "1.3258496589914293"
        ],
        [
         "industry",
         "1.1684562750165564"
        ],
        [
         "location",
         "0.22530354195563346"
        ]
       ],
       "shape": {
        "columns": 1,
        "rows": 4
       }
      },
      "text/plain": [
       "lead_source          2.566537\n",
       "employment_status    1.325850\n",
       "industry             1.168456\n",
       "location             0.225304\n",
       "dtype: float64"
      ]
     },
     "execution_count": 79,
     "metadata": {},
     "output_type": "execute_result"
    }
   ],
   "source": [
    "categorical = df_full_train.select_dtypes(include='object').columns.to_list()\n",
    "mi = df_full_train[categorical].apply(mutual_info_converted_score)\n",
    "mi.sort_values(ascending=False)*100"
   ]
  },
  {
   "cell_type": "markdown",
   "id": "77bfcbe8",
   "metadata": {},
   "source": [
    "### Question 4\n",
    "\n",
    "* Now let's train a logistic regression.\n",
    "* Remember that we have several categorical variables in the dataset. Include them using one-hot encoding.\n",
    "* Fit the model on the training dataset.\n",
    "    - To make sure the results are reproducible across different versions of Scikit-Learn, fit the model with these parameters:\n",
    "    - `model = LogisticRegression(solver='liblinear', C=1.0, max_iter=1000, random_state=42)`\n",
    "* Calculate the accuracy on the validation dataset and round it to 2 decimal digits.\n",
    "\n",
    "What accuracy did you get?\n",
    "\n",
    "- 0.64\n",
    "- **0.74**\n",
    "- 0.84\n",
    "- 0.94\n",
    "\n",
    "\n"
   ]
  },
  {
   "cell_type": "code",
   "execution_count": 80,
   "id": "0e5d00ff",
   "metadata": {},
   "outputs": [],
   "source": [
    "from sklearn.feature_extraction import DictVectorizer\n",
    "from sklearn.linear_model import LogisticRegression"
   ]
  },
  {
   "cell_type": "code",
   "execution_count": 90,
   "id": "3126f7ee",
   "metadata": {},
   "outputs": [],
   "source": [
    "# Identify categorical & numerical columns\n",
    "categorical = df_train.select_dtypes(include='object').columns.to_list()\n",
    "numerical = df_train.select_dtypes(include='number').columns.to_list()"
   ]
  },
  {
   "cell_type": "code",
   "execution_count": 91,
   "id": "7628e705",
   "metadata": {},
   "outputs": [
    {
     "name": "stdout",
     "output_type": "stream",
     "text": [
      "Validation accuracy: 0.71\n"
     ]
    }
   ],
   "source": [
    "# Identify categorical & numerical columns\n",
    "categorical = df_train.select_dtypes(include='object').columns.to_list()\n",
    "numerical = df_train.select_dtypes(include='number').columns.to_list()\n",
    "\n",
    "# Convert training data to dict\n",
    "train_dict = df_train[categorical + numerical].to_dict(orient='records')\n",
    "val_dict = df_val[categorical + numerical].to_dict(orient='records')\n",
    "\n",
    "# One-hot encode using DictVectorizer\n",
    "dv = DictVectorizer(sparse=False)\n",
    "X_train = dv.fit_transform(train_dict)\n",
    "X_val = dv.transform(val_dict)\n",
    "\n",
    "# Initialize and train the model\n",
    "model = LogisticRegression(solver='liblinear', C=1.0, max_iter=1000, random_state=42)\n",
    "model.fit(X_train, y_train)\n",
    "\n",
    "# Predict probabilities\n",
    "y_pred = model.predict_proba(X_val)[:, 1]\n",
    "\n",
    "# Convert probabilities to binary predictions\n",
    "y_pred_binary = (y_pred >= 0.5)\n",
    "\n",
    "# Calculate accuracy\n",
    "accuracy = (y_pred_binary == y_val).mean()\n",
    "print(\"Validation accuracy:\", round(accuracy, 2))"
   ]
  },
  {
   "cell_type": "code",
   "execution_count": null,
   "id": "4f78e1d1",
   "metadata": {},
   "outputs": [
    {
     "data": {
      "application/vnd.microsoft.datawrangler.viewer.v0+json": {
       "columns": [
        {
         "name": "index",
         "rawType": "int64",
         "type": "integer"
        },
        {
         "name": "probability",
         "rawType": "float64",
         "type": "float"
        },
        {
         "name": "prediction",
         "rawType": "int64",
         "type": "integer"
        },
        {
         "name": "actual",
         "rawType": "int64",
         "type": "integer"
        },
        {
         "name": "correct",
         "rawType": "bool",
         "type": "boolean"
        }
       ],
       "ref": "bc490c44-7ece-4657-b073-ed93940ac1e6",
       "rows": [
        [
         "0",
         "0.612835188457218",
         "1",
         "0",
         "False"
        ],
        [
         "1",
         "0.7948565371059323",
         "1",
         "1",
         "True"
        ],
        [
         "2",
         "0.5237587881973328",
         "1",
         "0",
         "False"
        ],
        [
         "3",
         "0.470296338131144",
         "0",
         "0",
         "True"
        ],
        [
         "4",
         "0.566273319731892",
         "1",
         "0",
         "False"
        ],
        [
         "5",
         "0.43535650705600426",
         "0",
         "0",
         "True"
        ],
        [
         "6",
         "0.8665650239093079",
         "1",
         "1",
         "True"
        ],
        [
         "7",
         "0.8426541158838178",
         "1",
         "1",
         "True"
        ],
        [
         "8",
         "0.8306405392017395",
         "1",
         "1",
         "True"
        ],
        [
         "9",
         "0.6137171223880062",
         "1",
         "0",
         "False"
        ],
        [
         "10",
         "0.5445481391868519",
         "1",
         "0",
         "False"
        ],
        [
         "11",
         "0.7730217356184301",
         "1",
         "1",
         "True"
        ],
        [
         "12",
         "0.6847590781910872",
         "1",
         "1",
         "True"
        ],
        [
         "13",
         "0.7634678916913146",
         "1",
         "0",
         "False"
        ],
        [
         "14",
         "0.5178596899909933",
         "1",
         "0",
         "False"
        ],
        [
         "15",
         "0.9135966742898094",
         "1",
         "1",
         "True"
        ],
        [
         "16",
         "0.5248596439102565",
         "1",
         "0",
         "False"
        ],
        [
         "17",
         "0.4158033009123015",
         "0",
         "1",
         "False"
        ],
        [
         "18",
         "0.29986275879532326",
         "0",
         "0",
         "True"
        ],
        [
         "19",
         "0.8466659269559512",
         "1",
         "1",
         "True"
        ],
        [
         "20",
         "0.7881155601624045",
         "1",
         "1",
         "True"
        ],
        [
         "21",
         "0.7305891931510404",
         "1",
         "1",
         "True"
        ],
        [
         "22",
         "0.43676150721026835",
         "0",
         "0",
         "True"
        ],
        [
         "23",
         "0.6414975018532555",
         "1",
         "0",
         "False"
        ],
        [
         "24",
         "0.4116397970025588",
         "0",
         "0",
         "True"
        ],
        [
         "25",
         "0.750283147973629",
         "1",
         "0",
         "False"
        ],
        [
         "26",
         "0.8979612421565356",
         "1",
         "1",
         "True"
        ],
        [
         "27",
         "0.33529298971941707",
         "0",
         "0",
         "True"
        ],
        [
         "28",
         "0.42480807054995334",
         "0",
         "0",
         "True"
        ],
        [
         "29",
         "0.9680058191564791",
         "1",
         "1",
         "True"
        ],
        [
         "30",
         "0.919191359037235",
         "1",
         "1",
         "True"
        ],
        [
         "31",
         "0.3712658307017215",
         "0",
         "0",
         "True"
        ],
        [
         "32",
         "0.6504849437683485",
         "1",
         "0",
         "False"
        ],
        [
         "33",
         "0.9027206141771345",
         "1",
         "1",
         "True"
        ],
        [
         "34",
         "0.746008356300935",
         "1",
         "1",
         "True"
        ],
        [
         "35",
         "0.6360240918690263",
         "1",
         "1",
         "True"
        ],
        [
         "36",
         "0.8177916651728804",
         "1",
         "1",
         "True"
        ],
        [
         "37",
         "0.830462427502204",
         "1",
         "1",
         "True"
        ],
        [
         "38",
         "0.6520977455500785",
         "1",
         "0",
         "False"
        ],
        [
         "39",
         "0.3075742308387449",
         "0",
         "0",
         "True"
        ],
        [
         "40",
         "0.786932502393076",
         "1",
         "0",
         "False"
        ],
        [
         "41",
         "0.35319064901817254",
         "0",
         "1",
         "False"
        ],
        [
         "42",
         "0.9642289986503914",
         "1",
         "1",
         "True"
        ],
        [
         "43",
         "0.629297422916634",
         "1",
         "0",
         "False"
        ],
        [
         "44",
         "0.5116948337338159",
         "1",
         "0",
         "False"
        ],
        [
         "45",
         "0.5312028886298531",
         "1",
         "0",
         "False"
        ],
        [
         "46",
         "0.8188342922035763",
         "1",
         "1",
         "True"
        ],
        [
         "47",
         "0.7407794555272563",
         "1",
         "1",
         "True"
        ],
        [
         "48",
         "0.7253303160000513",
         "1",
         "1",
         "True"
        ],
        [
         "49",
         "0.6832035514308196",
         "1",
         "1",
         "True"
        ]
       ],
       "shape": {
        "columns": 4,
        "rows": 234
       }
      },
      "text/html": [
       "<div>\n",
       "<style scoped>\n",
       "    .dataframe tbody tr th:only-of-type {\n",
       "        vertical-align: middle;\n",
       "    }\n",
       "\n",
       "    .dataframe tbody tr th {\n",
       "        vertical-align: top;\n",
       "    }\n",
       "\n",
       "    .dataframe thead th {\n",
       "        text-align: right;\n",
       "    }\n",
       "</style>\n",
       "<table border=\"1\" class=\"dataframe\">\n",
       "  <thead>\n",
       "    <tr style=\"text-align: right;\">\n",
       "      <th></th>\n",
       "      <th>probability</th>\n",
       "      <th>prediction</th>\n",
       "      <th>actual</th>\n",
       "      <th>correct</th>\n",
       "    </tr>\n",
       "  </thead>\n",
       "  <tbody>\n",
       "    <tr>\n",
       "      <th>0</th>\n",
       "      <td>0.612835</td>\n",
       "      <td>1</td>\n",
       "      <td>0</td>\n",
       "      <td>False</td>\n",
       "    </tr>\n",
       "    <tr>\n",
       "      <th>1</th>\n",
       "      <td>0.794857</td>\n",
       "      <td>1</td>\n",
       "      <td>1</td>\n",
       "      <td>True</td>\n",
       "    </tr>\n",
       "    <tr>\n",
       "      <th>2</th>\n",
       "      <td>0.523759</td>\n",
       "      <td>1</td>\n",
       "      <td>0</td>\n",
       "      <td>False</td>\n",
       "    </tr>\n",
       "    <tr>\n",
       "      <th>3</th>\n",
       "      <td>0.470296</td>\n",
       "      <td>0</td>\n",
       "      <td>0</td>\n",
       "      <td>True</td>\n",
       "    </tr>\n",
       "    <tr>\n",
       "      <th>4</th>\n",
       "      <td>0.566273</td>\n",
       "      <td>1</td>\n",
       "      <td>0</td>\n",
       "      <td>False</td>\n",
       "    </tr>\n",
       "    <tr>\n",
       "      <th>...</th>\n",
       "      <td>...</td>\n",
       "      <td>...</td>\n",
       "      <td>...</td>\n",
       "      <td>...</td>\n",
       "    </tr>\n",
       "    <tr>\n",
       "      <th>229</th>\n",
       "      <td>0.469111</td>\n",
       "      <td>0</td>\n",
       "      <td>0</td>\n",
       "      <td>True</td>\n",
       "    </tr>\n",
       "    <tr>\n",
       "      <th>230</th>\n",
       "      <td>0.532373</td>\n",
       "      <td>1</td>\n",
       "      <td>0</td>\n",
       "      <td>False</td>\n",
       "    </tr>\n",
       "    <tr>\n",
       "      <th>231</th>\n",
       "      <td>0.856832</td>\n",
       "      <td>1</td>\n",
       "      <td>1</td>\n",
       "      <td>True</td>\n",
       "    </tr>\n",
       "    <tr>\n",
       "      <th>232</th>\n",
       "      <td>0.374891</td>\n",
       "      <td>0</td>\n",
       "      <td>1</td>\n",
       "      <td>False</td>\n",
       "    </tr>\n",
       "    <tr>\n",
       "      <th>233</th>\n",
       "      <td>0.637497</td>\n",
       "      <td>1</td>\n",
       "      <td>0</td>\n",
       "      <td>False</td>\n",
       "    </tr>\n",
       "  </tbody>\n",
       "</table>\n",
       "<p>234 rows × 4 columns</p>\n",
       "</div>"
      ],
      "text/plain": [
       "     probability  prediction  actual  correct\n",
       "0       0.612835           1       0    False\n",
       "1       0.794857           1       1     True\n",
       "2       0.523759           1       0    False\n",
       "3       0.470296           0       0     True\n",
       "4       0.566273           1       0    False\n",
       "..           ...         ...     ...      ...\n",
       "229     0.469111           0       0     True\n",
       "230     0.532373           1       0    False\n",
       "231     0.856832           1       1     True\n",
       "232     0.374891           0       1    False\n",
       "233     0.637497           1       0    False\n",
       "\n",
       "[234 rows x 4 columns]"
      ]
     },
     "metadata": {},
     "output_type": "display_data"
    },
    {
     "data": {
      "text/plain": [
       "np.float64(70.51)"
      ]
     },
     "execution_count": 92,
     "metadata": {},
     "output_type": "execute_result"
    }
   ],
   "source": [
    "df_pred = pd.DataFrame()\n",
    "df_pred['probability'] = y_pred\n",
    "df_pred['prediction'] = (y_pred >= 0.5).astype(int)\n",
    "df_pred['actual'] = y_val\n",
    "\n",
    "df_pred['correct'] = df_pred.prediction == df_pred.actual\n",
    "display(df_pred)\n",
    "round(df_pred.correct.mean()*100,2)"
   ]
  },
  {
   "cell_type": "markdown",
   "id": "5476adb2",
   "metadata": {},
   "source": [
    "### Question 5 \n",
    "\n",
    "* Let's find the least useful feature using the *feature elimination* technique.\n",
    "* Train a model using the same features and parameters as in Q4 (without rounding).\n",
    "* Now exclude each feature from this set and train a model without it. Record the accuracy for each model.\n",
    "* For each feature, calculate the difference between the original accuracy and the accuracy without the feature. \n",
    "\n",
    "Which of following feature has the smallest difference?\n",
    "\n",
    "- **`'industry'`**\n",
    "- `'employment_status'`\n",
    "- `'lead_score'`\n",
    "\n",
    "> **Note**: The difference doesn't have to be positive.\n",
    "\n",
    "\n"
   ]
  },
  {
   "cell_type": "code",
   "execution_count": 93,
   "id": "e9b455d0",
   "metadata": {},
   "outputs": [
    {
     "name": "stdout",
     "output_type": "stream",
     "text": [
      "Baseline accuracy: 0.7051282051282052\n",
      "Feature impact (smallest first):\n",
      "annual_income: -0.16667\n",
      "location: -0.00427\n",
      "industry: 0.00000\n",
      "lead_score: 0.00000\n",
      "lead_source: 0.00427\n",
      "employment_status: 0.01282\n",
      "interaction_count: 0.02564\n",
      "number_of_courses_viewed: 0.14530\n"
     ]
    }
   ],
   "source": [
    "from sklearn.feature_extraction import DictVectorizer\n",
    "from sklearn.linear_model import LogisticRegression\n",
    "\n",
    "# Get all features (categorical + numerical)\n",
    "features = categorical + numerical\n",
    "\n",
    "# Baseline model\n",
    "dv = DictVectorizer(sparse=False)\n",
    "train_dict = df_train[features].to_dict(orient='records')\n",
    "val_dict = df_val[features].to_dict(orient='records')\n",
    "\n",
    "X_train = dv.fit_transform(train_dict)\n",
    "X_val = dv.transform(val_dict)\n",
    "\n",
    "model = LogisticRegression(solver='liblinear', C=1.0, max_iter=1000, random_state=42)\n",
    "model.fit(X_train, y_train)\n",
    "y_pred = model.predict_proba(X_val)[:, 1]\n",
    "y_pred_binary = (y_pred >= 0.5)\n",
    "baseline_accuracy = (y_pred_binary == y_val).mean()\n",
    "print(\"Baseline accuracy:\", baseline_accuracy)\n",
    "\n",
    "# Feature elimination\n",
    "differences = {}\n",
    "\n",
    "for f in features:\n",
    "    selected = [col for col in features if col != f]\n",
    "\n",
    "    dv_temp = DictVectorizer(sparse=False)\n",
    "    train_dict_temp = df_train[selected].to_dict(orient='records')\n",
    "    val_dict_temp = df_val[selected].to_dict(orient='records')\n",
    "\n",
    "    X_train_temp = dv_temp.fit_transform(train_dict_temp)\n",
    "    X_val_temp = dv_temp.transform(val_dict_temp)\n",
    "\n",
    "    model_temp = LogisticRegression(solver='liblinear', C=1.0, max_iter=1000, random_state=42)\n",
    "    model_temp.fit(X_train_temp, y_train)\n",
    "    y_pred_temp = model_temp.predict_proba(X_val_temp)[:, 1]\n",
    "    y_pred_binary_temp = (y_pred_temp >= 0.5)\n",
    "    accuracy_temp = (y_pred_binary_temp == y_val).mean()\n",
    "\n",
    "    differences[f] = baseline_accuracy - accuracy_temp\n",
    "\n",
    "# Sort features by smallest impact\n",
    "sorted_diff = sorted(differences.items(), key=lambda x: x[1])\n",
    "print(\"Feature impact (smallest first):\")\n",
    "for f, d in sorted_diff:\n",
    "    print(f\"{f}: {d:.5f}\")\n"
   ]
  },
  {
   "cell_type": "markdown",
   "id": "ae5b1232",
   "metadata": {},
   "source": [
    "### Question 6\n",
    "\n",
    "* Now let's train a regularized logistic regression.\n",
    "* Let's try the following values of the parameter `C`: `[0.01, 0.1, 1, 10, 100]`.\n",
    "* Train models using all the features as in Q4.\n",
    "* Calculate the accuracy on the validation dataset and round it to 3 decimal digits.\n",
    "\n",
    "Which of these `C` leads to the best accuracy on the validation set?\n",
    "\n",
    "- **0.01**\n",
    "- 0.1\n",
    "- 1\n",
    "- 10\n",
    "- 100\n",
    "\n",
    "> **Note**: If there are multiple options, select the smallest `C`.\n",
    "\n"
   ]
  },
  {
   "cell_type": "code",
   "execution_count": 96,
   "id": "f3ce6496",
   "metadata": {},
   "outputs": [
    {
     "data": {
      "text/plain": [
       "{0.01: np.float64(0.7051282051282052),\n",
       " 0.1: np.float64(0.7051282051282052),\n",
       " 1: np.float64(0.7051282051282052),\n",
       " 10: np.float64(0.7051282051282052),\n",
       " 100: np.float64(0.7051282051282052)}"
      ]
     },
     "metadata": {},
     "output_type": "display_data"
    }
   ],
   "source": [
    "from sklearn.linear_model import LogisticRegression\n",
    "from sklearn.feature_extraction import DictVectorizer\n",
    "\n",
    "# Prepare data (same as Q4)\n",
    "features = categorical + numerical\n",
    "train_dict = df_train[features].to_dict(orient='records')\n",
    "val_dict = df_val[features].to_dict(orient='records')\n",
    "\n",
    "dv = DictVectorizer(sparse=False)\n",
    "X_train = dv.fit_transform(train_dict)\n",
    "X_val = dv.transform(val_dict)\n",
    "\n",
    "C_values = [0.01, 0.1, 1, 10, 100]\n",
    "accuracies = {}\n",
    "\n",
    "for c in C_values:\n",
    "    model = LogisticRegression(solver='liblinear', C=c, max_iter=1000, random_state=42)\n",
    "    model.fit(X_train, y_train)\n",
    "    y_pred = model.predict_proba(X_val)[:, 1]\n",
    "    y_pred_binary = (y_pred >= 0.5)\n",
    "    acc = (y_pred_binary == y_val).mean()\n",
    "    accuracies[c] = acc\n",
    "\n",
    "display(accuracies)\n"
   ]
  },
  {
   "cell_type": "markdown",
   "id": "d6cbd197",
   "metadata": {},
   "source": [
    "## Submit the results\n",
    "\n",
    "* Submit your results here: https://courses.datatalks.club/ml-zoomcamp-2025/homework/hw03\n",
    "* If your answer doesn't match options exactly, select the closest one\n"
   ]
  }
 ],
 "metadata": {
  "kernelspec": {
   "display_name": "ADA",
   "language": "python",
   "name": "python3"
  },
  "language_info": {
   "codemirror_mode": {
    "name": "ipython",
    "version": 3
   },
   "file_extension": ".py",
   "mimetype": "text/x-python",
   "name": "python",
   "nbconvert_exporter": "python",
   "pygments_lexer": "ipython3",
   "version": "3.9.17"
  }
 },
 "nbformat": 4,
 "nbformat_minor": 5
}
