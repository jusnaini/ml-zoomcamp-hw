{
 "cells": [
  {
   "cell_type": "markdown",
   "id": "37548702",
   "metadata": {},
   "source": [
    "## Homework\n",
    "\n",
    "> Note: sometimes your answer doesn't match one of \n",
    "> the options exactly. That's fine. \n",
    "> Select the option that's closest to your solution.\n",
    "\n"
   ]
  },
  {
   "cell_type": "markdown",
   "id": "1e693e7a",
   "metadata": {},
   "source": [
    "### Dataset\n",
    "\n",
    "For this homework, we'll use the Car Fuel Efficiency dataset. Download it from <a href='https://raw.githubusercontent.com/alexeygrigorev/datasets/master/car_fuel_efficiency.csv'>here</a>.\n",
    "\n",
    "You can do it with wget:\n",
    "```bash\n",
    "wget https://raw.githubusercontent.com/alexeygrigorev/datasets/master/car_fuel_efficiency.csv\n",
    "```\n",
    "\n",
    "The goal of this homework is to create a regression model for predicting the car fuel efficiency (column `'fuel_efficiency_mpg'`).\n",
    "\n"
   ]
  },
  {
   "cell_type": "markdown",
   "id": "681f0ce7",
   "metadata": {},
   "source": [
    "### Preparing the dataset \n",
    "\n",
    "Use only the following columns:\n",
    "\n",
    "* `'engine_displacement'`,\n",
    "* `'horsepower'`,\n",
    "* `'vehicle_weight'`,\n",
    "* `'model_year'`,\n",
    "* `'fuel_efficiency_mpg'`\n",
    "\n"
   ]
  },
  {
   "cell_type": "markdown",
   "id": "08f721a3",
   "metadata": {},
   "source": [
    "### EDA\n",
    "\n",
    "* Look at the `fuel_efficiency_mpg` variable. Does it have a long tail? \n",
    "\n"
   ]
  },
  {
   "cell_type": "code",
   "execution_count": 36,
   "id": "e0b23f53",
   "metadata": {},
   "outputs": [],
   "source": [
    "import pandas as pd\n",
    "import numpy as np\n",
    "from pathlib import Path\n",
    "import plotly.express as px"
   ]
  },
  {
   "cell_type": "code",
   "execution_count": 7,
   "id": "7289d7e5",
   "metadata": {},
   "outputs": [
    {
     "name": "stdout",
     "output_type": "stream",
     "text": [
      "car_fuel_efficiency.csv already exists\n"
     ]
    }
   ],
   "source": [
    "datapath = Path()\n",
    "datapath.mkdir(parents=True, exist_ok=True)\n",
    "\n",
    "url = \"https://raw.githubusercontent.com/alexeygrigorev/datasets/master/car_fuel_efficiency.csv\"\n",
    "file_name = url.split(\"/\")[-1]\n",
    "if not (datapath / file_name).is_file():\n",
    "    print(f\"Downloading {file_name}\")\n",
    "    !wget $url\n",
    "else :\n",
    "    print(f\"{file_name} already exists\")"
   ]
  },
  {
   "cell_type": "code",
   "execution_count": 8,
   "id": "e0980f9a",
   "metadata": {},
   "outputs": [
    {
     "data": {
      "text/html": [
       "<div>\n",
       "<style scoped>\n",
       "    .dataframe tbody tr th:only-of-type {\n",
       "        vertical-align: middle;\n",
       "    }\n",
       "\n",
       "    .dataframe tbody tr th {\n",
       "        vertical-align: top;\n",
       "    }\n",
       "\n",
       "    .dataframe thead th {\n",
       "        text-align: right;\n",
       "    }\n",
       "</style>\n",
       "<table border=\"1\" class=\"dataframe\">\n",
       "  <thead>\n",
       "    <tr style=\"text-align: right;\">\n",
       "      <th></th>\n",
       "      <th>engine_displacement</th>\n",
       "      <th>num_cylinders</th>\n",
       "      <th>horsepower</th>\n",
       "      <th>vehicle_weight</th>\n",
       "      <th>acceleration</th>\n",
       "      <th>model_year</th>\n",
       "      <th>origin</th>\n",
       "      <th>fuel_type</th>\n",
       "      <th>drivetrain</th>\n",
       "      <th>num_doors</th>\n",
       "      <th>fuel_efficiency_mpg</th>\n",
       "    </tr>\n",
       "  </thead>\n",
       "  <tbody>\n",
       "    <tr>\n",
       "      <th>0</th>\n",
       "      <td>170</td>\n",
       "      <td>3.0</td>\n",
       "      <td>159.0</td>\n",
       "      <td>3413.433759</td>\n",
       "      <td>17.7</td>\n",
       "      <td>2003</td>\n",
       "      <td>Europe</td>\n",
       "      <td>Gasoline</td>\n",
       "      <td>All-wheel drive</td>\n",
       "      <td>0.0</td>\n",
       "      <td>13.231729</td>\n",
       "    </tr>\n",
       "    <tr>\n",
       "      <th>1</th>\n",
       "      <td>130</td>\n",
       "      <td>5.0</td>\n",
       "      <td>97.0</td>\n",
       "      <td>3149.664934</td>\n",
       "      <td>17.8</td>\n",
       "      <td>2007</td>\n",
       "      <td>USA</td>\n",
       "      <td>Gasoline</td>\n",
       "      <td>Front-wheel drive</td>\n",
       "      <td>0.0</td>\n",
       "      <td>13.688217</td>\n",
       "    </tr>\n",
       "    <tr>\n",
       "      <th>2</th>\n",
       "      <td>170</td>\n",
       "      <td>NaN</td>\n",
       "      <td>78.0</td>\n",
       "      <td>3079.038997</td>\n",
       "      <td>15.1</td>\n",
       "      <td>2018</td>\n",
       "      <td>Europe</td>\n",
       "      <td>Gasoline</td>\n",
       "      <td>Front-wheel drive</td>\n",
       "      <td>0.0</td>\n",
       "      <td>14.246341</td>\n",
       "    </tr>\n",
       "    <tr>\n",
       "      <th>3</th>\n",
       "      <td>220</td>\n",
       "      <td>4.0</td>\n",
       "      <td>NaN</td>\n",
       "      <td>2542.392402</td>\n",
       "      <td>20.2</td>\n",
       "      <td>2009</td>\n",
       "      <td>USA</td>\n",
       "      <td>Diesel</td>\n",
       "      <td>All-wheel drive</td>\n",
       "      <td>2.0</td>\n",
       "      <td>16.912736</td>\n",
       "    </tr>\n",
       "    <tr>\n",
       "      <th>4</th>\n",
       "      <td>210</td>\n",
       "      <td>1.0</td>\n",
       "      <td>140.0</td>\n",
       "      <td>3460.870990</td>\n",
       "      <td>14.4</td>\n",
       "      <td>2009</td>\n",
       "      <td>Europe</td>\n",
       "      <td>Gasoline</td>\n",
       "      <td>All-wheel drive</td>\n",
       "      <td>2.0</td>\n",
       "      <td>12.488369</td>\n",
       "    </tr>\n",
       "  </tbody>\n",
       "</table>\n",
       "</div>"
      ],
      "text/plain": [
       "   engine_displacement  num_cylinders  horsepower  vehicle_weight  \\\n",
       "0                  170            3.0       159.0     3413.433759   \n",
       "1                  130            5.0        97.0     3149.664934   \n",
       "2                  170            NaN        78.0     3079.038997   \n",
       "3                  220            4.0         NaN     2542.392402   \n",
       "4                  210            1.0       140.0     3460.870990   \n",
       "\n",
       "   acceleration  model_year  origin fuel_type         drivetrain  num_doors  \\\n",
       "0          17.7        2003  Europe  Gasoline    All-wheel drive        0.0   \n",
       "1          17.8        2007     USA  Gasoline  Front-wheel drive        0.0   \n",
       "2          15.1        2018  Europe  Gasoline  Front-wheel drive        0.0   \n",
       "3          20.2        2009     USA    Diesel    All-wheel drive        2.0   \n",
       "4          14.4        2009  Europe  Gasoline    All-wheel drive        2.0   \n",
       "\n",
       "   fuel_efficiency_mpg  \n",
       "0            13.231729  \n",
       "1            13.688217  \n",
       "2            14.246341  \n",
       "3            16.912736  \n",
       "4            12.488369  "
      ]
     },
     "execution_count": 8,
     "metadata": {},
     "output_type": "execute_result"
    }
   ],
   "source": [
    "# read the data\n",
    "df = pd.read_csv(datapath / file_name)\n",
    "df.head()"
   ]
  },
  {
   "cell_type": "code",
   "execution_count": 10,
   "id": "7b7af779",
   "metadata": {},
   "outputs": [
    {
     "name": "stdout",
     "output_type": "stream",
     "text": [
      "<class 'pandas.core.frame.DataFrame'>\n",
      "RangeIndex: 9704 entries, 0 to 9703\n",
      "Data columns (total 11 columns):\n",
      " #   Column               Non-Null Count  Dtype  \n",
      "---  ------               --------------  -----  \n",
      " 0   engine_displacement  9704 non-null   int64  \n",
      " 1   num_cylinders        9222 non-null   float64\n",
      " 2   horsepower           8996 non-null   float64\n",
      " 3   vehicle_weight       9704 non-null   float64\n",
      " 4   acceleration         8774 non-null   float64\n",
      " 5   model_year           9704 non-null   int64  \n",
      " 6   origin               9704 non-null   object \n",
      " 7   fuel_type            9704 non-null   object \n",
      " 8   drivetrain           9704 non-null   object \n",
      " 9   num_doors            9202 non-null   float64\n",
      " 10  fuel_efficiency_mpg  9704 non-null   float64\n",
      "dtypes: float64(6), int64(2), object(3)\n",
      "memory usage: 834.1+ KB\n"
     ]
    }
   ],
   "source": [
    "df.info()"
   ]
  },
  {
   "cell_type": "code",
   "execution_count": 38,
   "id": "d955449f",
   "metadata": {},
   "outputs": [
    {
     "data": {
      "application/vnd.plotly.v1+json": {
       "config": {
        "plotlyServerURL": "https://plot.ly"
       },
       "data": [
        {
         "bingroup": "x",
         "hovertemplate": "fuel_efficiency_mpg=%{x}<br>count=%{y}<extra></extra>",
         "legendgroup": "",
         "marker": {
          "color": "#636efa",
          "pattern": {
           "shape": ""
          }
         },
         "name": "",
         "nbinsx": 50,
         "orientation": "v",
         "showlegend": false,
         "type": "histogram",
         "x": {
          "bdata": "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",
          "dtype": "f8"
         },
         "xaxis": "x",
         "yaxis": "y"
        },
        {
         "hovertemplate": "fuel_efficiency_mpg=%{x}<extra></extra>",
         "legendgroup": "",
         "marker": {
          "color": "#636efa"
         },
         "name": "",
         "notched": true,
         "showlegend": false,
         "type": "box",
         "x": {
          "bdata": "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",
          "dtype": "f8"
         },
         "xaxis": "x2",
         "yaxis": "y2"
        }
       ],
       "layout": {
        "bargap": 0.1,
        "barmode": "relative",
        "height": 400,
        "legend": {
         "tracegroupgap": 0
        },
        "margin": {
         "t": 60
        },
        "template": {
         "data": {
          "bar": [
           {
            "error_x": {
             "color": "rgb(36,36,36)"
            },
            "error_y": {
             "color": "rgb(36,36,36)"
            },
            "marker": {
             "line": {
              "color": "white",
              "width": 0.5
             },
             "pattern": {
              "fillmode": "overlay",
              "size": 10,
              "solidity": 0.2
             }
            },
            "type": "bar"
           }
          ],
          "barpolar": [
           {
            "marker": {
             "line": {
              "color": "white",
              "width": 0.5
             },
             "pattern": {
              "fillmode": "overlay",
              "size": 10,
              "solidity": 0.2
             }
            },
            "type": "barpolar"
           }
          ],
          "carpet": [
           {
            "aaxis": {
             "endlinecolor": "rgb(36,36,36)",
             "gridcolor": "white",
             "linecolor": "white",
             "minorgridcolor": "white",
             "startlinecolor": "rgb(36,36,36)"
            },
            "baxis": {
             "endlinecolor": "rgb(36,36,36)",
             "gridcolor": "white",
             "linecolor": "white",
             "minorgridcolor": "white",
             "startlinecolor": "rgb(36,36,36)"
            },
            "type": "carpet"
           }
          ],
          "choropleth": [
           {
            "colorbar": {
             "outlinewidth": 1,
             "tickcolor": "rgb(36,36,36)",
             "ticks": "outside"
            },
            "type": "choropleth"
           }
          ],
          "contour": [
           {
            "colorbar": {
             "outlinewidth": 1,
             "tickcolor": "rgb(36,36,36)",
             "ticks": "outside"
            },
            "colorscale": [
             [
              0,
              "#440154"
             ],
             [
              0.1111111111111111,
              "#482878"
             ],
             [
              0.2222222222222222,
              "#3e4989"
             ],
             [
              0.3333333333333333,
              "#31688e"
             ],
             [
              0.4444444444444444,
              "#26828e"
             ],
             [
              0.5555555555555556,
              "#1f9e89"
             ],
             [
              0.6666666666666666,
              "#35b779"
             ],
             [
              0.7777777777777778,
              "#6ece58"
             ],
             [
              0.8888888888888888,
              "#b5de2b"
             ],
             [
              1,
              "#fde725"
             ]
            ],
            "type": "contour"
           }
          ],
          "contourcarpet": [
           {
            "colorbar": {
             "outlinewidth": 1,
             "tickcolor": "rgb(36,36,36)",
             "ticks": "outside"
            },
            "type": "contourcarpet"
           }
          ],
          "heatmap": [
           {
            "colorbar": {
             "outlinewidth": 1,
             "tickcolor": "rgb(36,36,36)",
             "ticks": "outside"
            },
            "colorscale": [
             [
              0,
              "#440154"
             ],
             [
              0.1111111111111111,
              "#482878"
             ],
             [
              0.2222222222222222,
              "#3e4989"
             ],
             [
              0.3333333333333333,
              "#31688e"
             ],
             [
              0.4444444444444444,
              "#26828e"
             ],
             [
              0.5555555555555556,
              "#1f9e89"
             ],
             [
              0.6666666666666666,
              "#35b779"
             ],
             [
              0.7777777777777778,
              "#6ece58"
             ],
             [
              0.8888888888888888,
              "#b5de2b"
             ],
             [
              1,
              "#fde725"
             ]
            ],
            "type": "heatmap"
           }
          ],
          "histogram": [
           {
            "marker": {
             "line": {
              "color": "white",
              "width": 0.6
             }
            },
            "type": "histogram"
           }
          ],
          "histogram2d": [
           {
            "colorbar": {
             "outlinewidth": 1,
             "tickcolor": "rgb(36,36,36)",
             "ticks": "outside"
            },
            "colorscale": [
             [
              0,
              "#440154"
             ],
             [
              0.1111111111111111,
              "#482878"
             ],
             [
              0.2222222222222222,
              "#3e4989"
             ],
             [
              0.3333333333333333,
              "#31688e"
             ],
             [
              0.4444444444444444,
              "#26828e"
             ],
             [
              0.5555555555555556,
              "#1f9e89"
             ],
             [
              0.6666666666666666,
              "#35b779"
             ],
             [
              0.7777777777777778,
              "#6ece58"
             ],
             [
              0.8888888888888888,
              "#b5de2b"
             ],
             [
              1,
              "#fde725"
             ]
            ],
            "type": "histogram2d"
           }
          ],
          "histogram2dcontour": [
           {
            "colorbar": {
             "outlinewidth": 1,
             "tickcolor": "rgb(36,36,36)",
             "ticks": "outside"
            },
            "colorscale": [
             [
              0,
              "#440154"
             ],
             [
              0.1111111111111111,
              "#482878"
             ],
             [
              0.2222222222222222,
              "#3e4989"
             ],
             [
              0.3333333333333333,
              "#31688e"
             ],
             [
              0.4444444444444444,
              "#26828e"
             ],
             [
              0.5555555555555556,
              "#1f9e89"
             ],
             [
              0.6666666666666666,
              "#35b779"
             ],
             [
              0.7777777777777778,
              "#6ece58"
             ],
             [
              0.8888888888888888,
              "#b5de2b"
             ],
             [
              1,
              "#fde725"
             ]
            ],
            "type": "histogram2dcontour"
           }
          ],
          "mesh3d": [
           {
            "colorbar": {
             "outlinewidth": 1,
             "tickcolor": "rgb(36,36,36)",
             "ticks": "outside"
            },
            "type": "mesh3d"
           }
          ],
          "parcoords": [
           {
            "line": {
             "colorbar": {
              "outlinewidth": 1,
              "tickcolor": "rgb(36,36,36)",
              "ticks": "outside"
             }
            },
            "type": "parcoords"
           }
          ],
          "pie": [
           {
            "automargin": true,
            "type": "pie"
           }
          ],
          "scatter": [
           {
            "fillpattern": {
             "fillmode": "overlay",
             "size": 10,
             "solidity": 0.2
            },
            "type": "scatter"
           }
          ],
          "scatter3d": [
           {
            "line": {
             "colorbar": {
              "outlinewidth": 1,
              "tickcolor": "rgb(36,36,36)",
              "ticks": "outside"
             }
            },
            "marker": {
             "colorbar": {
              "outlinewidth": 1,
              "tickcolor": "rgb(36,36,36)",
              "ticks": "outside"
             }
            },
            "type": "scatter3d"
           }
          ],
          "scattercarpet": [
           {
            "marker": {
             "colorbar": {
              "outlinewidth": 1,
              "tickcolor": "rgb(36,36,36)",
              "ticks": "outside"
             }
            },
            "type": "scattercarpet"
           }
          ],
          "scattergeo": [
           {
            "marker": {
             "colorbar": {
              "outlinewidth": 1,
              "tickcolor": "rgb(36,36,36)",
              "ticks": "outside"
             }
            },
            "type": "scattergeo"
           }
          ],
          "scattergl": [
           {
            "marker": {
             "colorbar": {
              "outlinewidth": 1,
              "tickcolor": "rgb(36,36,36)",
              "ticks": "outside"
             }
            },
            "type": "scattergl"
           }
          ],
          "scattermap": [
           {
            "marker": {
             "colorbar": {
              "outlinewidth": 1,
              "tickcolor": "rgb(36,36,36)",
              "ticks": "outside"
             }
            },
            "type": "scattermap"
           }
          ],
          "scattermapbox": [
           {
            "marker": {
             "colorbar": {
              "outlinewidth": 1,
              "tickcolor": "rgb(36,36,36)",
              "ticks": "outside"
             }
            },
            "type": "scattermapbox"
           }
          ],
          "scatterpolar": [
           {
            "marker": {
             "colorbar": {
              "outlinewidth": 1,
              "tickcolor": "rgb(36,36,36)",
              "ticks": "outside"
             }
            },
            "type": "scatterpolar"
           }
          ],
          "scatterpolargl": [
           {
            "marker": {
             "colorbar": {
              "outlinewidth": 1,
              "tickcolor": "rgb(36,36,36)",
              "ticks": "outside"
             }
            },
            "type": "scatterpolargl"
           }
          ],
          "scatterternary": [
           {
            "marker": {
             "colorbar": {
              "outlinewidth": 1,
              "tickcolor": "rgb(36,36,36)",
              "ticks": "outside"
             }
            },
            "type": "scatterternary"
           }
          ],
          "surface": [
           {
            "colorbar": {
             "outlinewidth": 1,
             "tickcolor": "rgb(36,36,36)",
             "ticks": "outside"
            },
            "colorscale": [
             [
              0,
              "#440154"
             ],
             [
              0.1111111111111111,
              "#482878"
             ],
             [
              0.2222222222222222,
              "#3e4989"
             ],
             [
              0.3333333333333333,
              "#31688e"
             ],
             [
              0.4444444444444444,
              "#26828e"
             ],
             [
              0.5555555555555556,
              "#1f9e89"
             ],
             [
              0.6666666666666666,
              "#35b779"
             ],
             [
              0.7777777777777778,
              "#6ece58"
             ],
             [
              0.8888888888888888,
              "#b5de2b"
             ],
             [
              1,
              "#fde725"
             ]
            ],
            "type": "surface"
           }
          ],
          "table": [
           {
            "cells": {
             "fill": {
              "color": "rgb(237,237,237)"
             },
             "line": {
              "color": "white"
             }
            },
            "header": {
             "fill": {
              "color": "rgb(217,217,217)"
             },
             "line": {
              "color": "white"
             }
            },
            "type": "table"
           }
          ]
         },
         "layout": {
          "annotationdefaults": {
           "arrowhead": 0,
           "arrowwidth": 1
          },
          "autotypenumbers": "strict",
          "coloraxis": {
           "colorbar": {
            "outlinewidth": 1,
            "tickcolor": "rgb(36,36,36)",
            "ticks": "outside"
           }
          },
          "colorscale": {
           "diverging": [
            [
             0,
             "rgb(103,0,31)"
            ],
            [
             0.1,
             "rgb(178,24,43)"
            ],
            [
             0.2,
             "rgb(214,96,77)"
            ],
            [
             0.3,
             "rgb(244,165,130)"
            ],
            [
             0.4,
             "rgb(253,219,199)"
            ],
            [
             0.5,
             "rgb(247,247,247)"
            ],
            [
             0.6,
             "rgb(209,229,240)"
            ],
            [
             0.7,
             "rgb(146,197,222)"
            ],
            [
             0.8,
             "rgb(67,147,195)"
            ],
            [
             0.9,
             "rgb(33,102,172)"
            ],
            [
             1,
             "rgb(5,48,97)"
            ]
           ],
           "sequential": [
            [
             0,
             "#440154"
            ],
            [
             0.1111111111111111,
             "#482878"
            ],
            [
             0.2222222222222222,
             "#3e4989"
            ],
            [
             0.3333333333333333,
             "#31688e"
            ],
            [
             0.4444444444444444,
             "#26828e"
            ],
            [
             0.5555555555555556,
             "#1f9e89"
            ],
            [
             0.6666666666666666,
             "#35b779"
            ],
            [
             0.7777777777777778,
             "#6ece58"
            ],
            [
             0.8888888888888888,
             "#b5de2b"
            ],
            [
             1,
             "#fde725"
            ]
           ],
           "sequentialminus": [
            [
             0,
             "#440154"
            ],
            [
             0.1111111111111111,
             "#482878"
            ],
            [
             0.2222222222222222,
             "#3e4989"
            ],
            [
             0.3333333333333333,
             "#31688e"
            ],
            [
             0.4444444444444444,
             "#26828e"
            ],
            [
             0.5555555555555556,
             "#1f9e89"
            ],
            [
             0.6666666666666666,
             "#35b779"
            ],
            [
             0.7777777777777778,
             "#6ece58"
            ],
            [
             0.8888888888888888,
             "#b5de2b"
            ],
            [
             1,
             "#fde725"
            ]
           ]
          },
          "colorway": [
           "#1F77B4",
           "#FF7F0E",
           "#2CA02C",
           "#D62728",
           "#9467BD",
           "#8C564B",
           "#E377C2",
           "#7F7F7F",
           "#BCBD22",
           "#17BECF"
          ],
          "font": {
           "color": "rgb(36,36,36)"
          },
          "geo": {
           "bgcolor": "white",
           "lakecolor": "white",
           "landcolor": "white",
           "showlakes": true,
           "showland": true,
           "subunitcolor": "white"
          },
          "hoverlabel": {
           "align": "left"
          },
          "hovermode": "closest",
          "mapbox": {
           "style": "light"
          },
          "paper_bgcolor": "white",
          "plot_bgcolor": "white",
          "polar": {
           "angularaxis": {
            "gridcolor": "rgb(232,232,232)",
            "linecolor": "rgb(36,36,36)",
            "showgrid": false,
            "showline": true,
            "ticks": "outside"
           },
           "bgcolor": "white",
           "radialaxis": {
            "gridcolor": "rgb(232,232,232)",
            "linecolor": "rgb(36,36,36)",
            "showgrid": false,
            "showline": true,
            "ticks": "outside"
           }
          },
          "scene": {
           "xaxis": {
            "backgroundcolor": "white",
            "gridcolor": "rgb(232,232,232)",
            "gridwidth": 2,
            "linecolor": "rgb(36,36,36)",
            "showbackground": true,
            "showgrid": false,
            "showline": true,
            "ticks": "outside",
            "zeroline": false,
            "zerolinecolor": "rgb(36,36,36)"
           },
           "yaxis": {
            "backgroundcolor": "white",
            "gridcolor": "rgb(232,232,232)",
            "gridwidth": 2,
            "linecolor": "rgb(36,36,36)",
            "showbackground": true,
            "showgrid": false,
            "showline": true,
            "ticks": "outside",
            "zeroline": false,
            "zerolinecolor": "rgb(36,36,36)"
           },
           "zaxis": {
            "backgroundcolor": "white",
            "gridcolor": "rgb(232,232,232)",
            "gridwidth": 2,
            "linecolor": "rgb(36,36,36)",
            "showbackground": true,
            "showgrid": false,
            "showline": true,
            "ticks": "outside",
            "zeroline": false,
            "zerolinecolor": "rgb(36,36,36)"
           }
          },
          "shapedefaults": {
           "fillcolor": "black",
           "line": {
            "width": 0
           },
           "opacity": 0.3
          },
          "ternary": {
           "aaxis": {
            "gridcolor": "rgb(232,232,232)",
            "linecolor": "rgb(36,36,36)",
            "showgrid": false,
            "showline": true,
            "ticks": "outside"
           },
           "baxis": {
            "gridcolor": "rgb(232,232,232)",
            "linecolor": "rgb(36,36,36)",
            "showgrid": false,
            "showline": true,
            "ticks": "outside"
           },
           "bgcolor": "white",
           "caxis": {
            "gridcolor": "rgb(232,232,232)",
            "linecolor": "rgb(36,36,36)",
            "showgrid": false,
            "showline": true,
            "ticks": "outside"
           }
          },
          "title": {
           "x": 0.05
          },
          "xaxis": {
           "automargin": true,
           "gridcolor": "rgb(232,232,232)",
           "linecolor": "rgb(36,36,36)",
           "showgrid": false,
           "showline": true,
           "ticks": "outside",
           "title": {
            "standoff": 15
           },
           "zeroline": false,
           "zerolinecolor": "rgb(36,36,36)"
          },
          "yaxis": {
           "automargin": true,
           "gridcolor": "rgb(232,232,232)",
           "linecolor": "rgb(36,36,36)",
           "showgrid": false,
           "showline": true,
           "ticks": "outside",
           "title": {
            "standoff": 15
           },
           "zeroline": false,
           "zerolinecolor": "rgb(36,36,36)"
          }
         }
        },
        "title": {
         "x": 0.5
        },
        "width": 600,
        "xaxis": {
         "anchor": "y",
         "domain": [
          0,
          1
         ],
         "title": {
          "text": "Fuel Efficiency (MPG)"
         }
        },
        "xaxis2": {
         "anchor": "y2",
         "domain": [
          0,
          1
         ],
         "matches": "x",
         "showgrid": true,
         "showticklabels": false
        },
        "yaxis": {
         "anchor": "x",
         "domain": [
          0,
          0.8316
         ],
         "title": {
          "text": "Frequency"
         }
        },
        "yaxis2": {
         "anchor": "x2",
         "domain": [
          0.8416,
          1
         ],
         "matches": "y2",
         "showgrid": false,
         "showline": false,
         "showticklabels": false,
         "ticks": ""
        }
       }
      }
     },
     "metadata": {},
     "output_type": "display_data"
    }
   ],
   "source": [
    "# check if fuel_efficiency_mpg has a long tail\n",
    "px.histogram(df, x='fuel_efficiency_mpg', nbins=50,height=400,width=600,marginal='box')\\\n",
    "    .update_layout(xaxis_title='Fuel Efficiency (MPG)', yaxis_title='Frequency',template='simple_white', bargap=0.1,title_x=0.5)"
   ]
  },
  {
   "cell_type": "markdown",
   "id": "9c40eab8",
   "metadata": {},
   "source": [
    "The `fuel_efficiency_mpg` **has no long tail** with normal distribution."
   ]
  },
  {
   "cell_type": "markdown",
   "id": "0e12a668",
   "metadata": {},
   "source": [
    "### Question 1\n",
    "\n",
    "There's one column with missing values. What is it?\n",
    "\n",
    "* `'engine_displacement'`\n",
    "* **`'horsepower'`**\n",
    "* `'vehicle_weight'`\n",
    "* `'model_year'`\n",
    "\n",
    "\n"
   ]
  },
  {
   "cell_type": "code",
   "execution_count": 11,
   "id": "2048a1de",
   "metadata": {},
   "outputs": [
    {
     "data": {
      "text/plain": [
       "engine_displacement      0\n",
       "num_cylinders          482\n",
       "horsepower             708\n",
       "vehicle_weight           0\n",
       "acceleration           930\n",
       "model_year               0\n",
       "origin                   0\n",
       "fuel_type                0\n",
       "drivetrain               0\n",
       "num_doors              502\n",
       "fuel_efficiency_mpg      0\n",
       "dtype: int64"
      ]
     },
     "execution_count": 11,
     "metadata": {},
     "output_type": "execute_result"
    }
   ],
   "source": [
    "df.isnull().sum()"
   ]
  },
  {
   "cell_type": "code",
   "execution_count": null,
   "id": "ba60eb9d",
   "metadata": {},
   "outputs": [
    {
     "data": {
      "text/plain": [
       "engine_displacement      0\n",
       "horsepower             708\n",
       "vehicle_weight           0\n",
       "model_year               0\n",
       "dtype: int64"
      ]
     },
     "execution_count": 12,
     "metadata": {},
     "output_type": "execute_result"
    }
   ],
   "source": [
    "cols = ['engine_displacement', 'horsepower', 'vehicle_weight', 'model_year']\n",
    "df[cols].isnull().sum()"
   ]
  },
  {
   "cell_type": "markdown",
   "id": "27e3e64a",
   "metadata": {},
   "source": [
    "### Question 2\n",
    "\n",
    "What's the median (50% percentile) for variable `'horsepower'`?\n",
    "\n",
    "- 49\n",
    "- 99\n",
    "- **`149`**\n",
    "- 199\n",
    "\n"
   ]
  },
  {
   "cell_type": "code",
   "execution_count": 13,
   "id": "74f0e045",
   "metadata": {},
   "outputs": [
    {
     "data": {
      "text/plain": [
       "count    8996.000000\n",
       "mean      149.657292\n",
       "std        29.879555\n",
       "min        37.000000\n",
       "25%       130.000000\n",
       "50%       149.000000\n",
       "75%       170.000000\n",
       "max       271.000000\n",
       "Name: horsepower, dtype: float64"
      ]
     },
     "execution_count": 13,
     "metadata": {},
     "output_type": "execute_result"
    }
   ],
   "source": [
    "df.horsepower.describe()"
   ]
  },
  {
   "cell_type": "markdown",
   "id": "187762c4",
   "metadata": {},
   "source": [
    "### Prepare and split the dataset\n",
    "\n",
    "* Shuffle the dataset (the filtered one you created above), use seed `42`.\n",
    "* Split your data in train/val/test sets, with 60%/20%/20% distribution.\n",
    "\n",
    "Use the same code as in the lectures\n",
    "\n",
    "\n"
   ]
  },
  {
   "cell_type": "code",
   "execution_count": 67,
   "id": "25482410",
   "metadata": {},
   "outputs": [],
   "source": [
    "np.random.seed(42)\n",
    "n_val = int(len(df) * 0.2)\n",
    "n_test = int(len(df) * 0.2)\n",
    "n_train = len(df) - n_val - n_test\n",
    "\n",
    "idx = np.arange(len(df))\n",
    "np.random.shuffle(idx)\n",
    "df_shuffled = df.iloc[idx]\n",
    "\n",
    "df_train = df_shuffled.iloc[:n_train].copy().reset_index(drop=True)\n",
    "df_val = df_shuffled.iloc[n_train:n_train+n_val].copy().reset_index(drop=True)\n",
    "df_test = df_shuffled.iloc[n_train+n_val:].copy().reset_index(drop=True)    "
   ]
  },
  {
   "cell_type": "code",
   "execution_count": 68,
   "id": "cf6c01ab",
   "metadata": {},
   "outputs": [
    {
     "data": {
      "text/plain": [
       "(9704, 9704)"
      ]
     },
     "execution_count": 68,
     "metadata": {},
     "output_type": "execute_result"
    }
   ],
   "source": [
    "n_val+n_test+n_train , len(df)"
   ]
  },
  {
   "cell_type": "code",
   "execution_count": 69,
   "id": "0dbeebb2",
   "metadata": {},
   "outputs": [],
   "source": [
    "# set target\n",
    "y_train = df_train.fuel_efficiency_mpg.values\n",
    "y_val = df_val.fuel_efficiency_mpg.values\n",
    "y_test = df_test.fuel_efficiency_mpg.values\n",
    "\n",
    "# drop the target from the dataframes\n",
    "df_train = df_train.drop(columns=['fuel_efficiency_mpg'])\n",
    "df_val = df_val.drop(columns=['fuel_efficiency_mpg'])\n",
    "df_test = df_test.drop(columns=['fuel_efficiency_mpg']) "
   ]
  },
  {
   "cell_type": "markdown",
   "id": "8d992c86",
   "metadata": {},
   "source": [
    "### Question 3\n",
    "\n",
    "* We need to deal with missing values for the column from Q1.\n",
    "* We have two options: fill it with 0 or with the mean of this variable.\n",
    "* Try both options. For each, train a linear regression model without regularization using the code from the lessons.\n",
    "* For computing the mean, use the training only!\n",
    "* Use the validation dataset to evaluate the models and compare the RMSE of each option.\n",
    "* Round the RMSE scores to 2 decimal digits using `round(score, 2)`\n",
    "* Which option gives better RMSE?\n",
    "\n",
    "Options:\n",
    "\n",
    "- With 0\n",
    "- **`With mean`**\n",
    "- Both are equally good\n",
    "\n",
    "\n"
   ]
  },
  {
   "cell_type": "code",
   "execution_count": 102,
   "id": "a7cad124",
   "metadata": {},
   "outputs": [],
   "source": [
    "def train_linear_regression(X, y):\n",
    "    ones = np.ones(X.shape[0])\n",
    "    X = np.column_stack([ones, X])\n",
    "\n",
    "    XTX = X.T.dot(X)\n",
    "    XTX_inv = np.linalg.inv(XTX)\n",
    "    w = XTX_inv.dot(X.T).dot(y)\n",
    "    \n",
    "    return w[0], w[1:]\n",
    "\n",
    "def rmse(y, y_pred):\n",
    "    error = y_pred - y\n",
    "    mse = (error ** 2).mean()\n",
    "    return round(np.sqrt(mse), 2)\n",
    "    # return np.sqrt(mse)"
   ]
  },
  {
   "cell_type": "code",
   "execution_count": 71,
   "id": "bb8d41c0",
   "metadata": {},
   "outputs": [
    {
     "name": "stdout",
     "output_type": "stream",
     "text": [
      "train 0.52\n",
      "validation 0.52\n"
     ]
    }
   ],
   "source": [
    "# fill missing values with 0\n",
    "base = ['engine_displacement', 'horsepower', 'vehicle_weight', 'model_year']\n",
    "\n",
    "def prepare_X(df):\n",
    "    df_num = df[base]\n",
    "    df_num = df_num.fillna(0)\n",
    "    X = df_num.values\n",
    "    return X\n",
    "\n",
    "X_train = prepare_X(df_train)\n",
    "w_0, w = train_linear_regression(X_train, y_train)\n",
    "\n",
    "y_pred = w_0 + X_train.dot(w)\n",
    "print('train', rmse(y_train, y_pred))\n",
    "\n",
    "X_val = prepare_X(df_val)\n",
    "y_pred = w_0 + X_val.dot(w)\n",
    "print('validation', rmse(y_val, y_pred))"
   ]
  },
  {
   "cell_type": "code",
   "execution_count": 72,
   "id": "2e93c166",
   "metadata": {},
   "outputs": [
    {
     "name": "stdout",
     "output_type": "stream",
     "text": [
      "train 0.46\n",
      "validation 0.46\n"
     ]
    }
   ],
   "source": [
    "# fill missing values with mean\n",
    "base = ['engine_displacement', 'horsepower', 'vehicle_weight', 'model_year']\n",
    "\n",
    "def prepare_X(df):\n",
    "    df_num = df[base]\n",
    "    df_num = df_num.fillna(df_num.mean())\n",
    "    X = df_num.values\n",
    "    return X\n",
    "\n",
    "X_train = prepare_X(df_train)\n",
    "w_0, w = train_linear_regression(X_train, y_train)\n",
    "\n",
    "y_pred = w_0 + X_train.dot(w)\n",
    "print('train', rmse(y_train, y_pred))\n",
    "\n",
    "X_val = prepare_X(df_val)\n",
    "y_pred = w_0 + X_val.dot(w)\n",
    "print('validation', rmse(y_val, y_pred))"
   ]
  },
  {
   "cell_type": "markdown",
   "id": "a7e684f3",
   "metadata": {},
   "source": [
    "### Question 4\n",
    "\n",
    "* Now let's train a regularized linear regression.\n",
    "* For this question, fill the NAs with 0. \n",
    "* Try different values of `r` from this list: `[0, 0.01, 0.1, 1, 5, 10, 100]`.\n",
    "* Use RMSE to evaluate the model on the validation dataset.\n",
    "* Round the RMSE scores to 2 decimal digits.\n",
    "* Which `r` gives the best RMSE?\n",
    "\n",
    "If there are multiple options, select the smallest `r`.\n",
    "\n",
    "Options:\n",
    "\n",
    "- 0\n",
    "- **`0.01`**\n",
    "- 1\n",
    "- 10\n",
    "- 100\n",
    "\n",
    "\n"
   ]
  },
  {
   "cell_type": "code",
   "execution_count": 83,
   "id": "1cb720cb",
   "metadata": {},
   "outputs": [],
   "source": [
    "def train_linear_regression_reg(X, y, r=0.0):\n",
    "    ones = np.ones(X.shape[0])\n",
    "    X = np.column_stack([ones, X])\n",
    "\n",
    "    XTX = X.T.dot(X)\n",
    "    reg = r * np.eye(XTX.shape[0])\n",
    "    XTX = XTX + reg\n",
    "\n",
    "    XTX_inv = np.linalg.inv(XTX)\n",
    "    w = XTX_inv.dot(X.T).dot(y)\n",
    "    \n",
    "    return w[0], w[1:]\n",
    "\n",
    "# fill missing values with 0\n",
    "base = ['engine_displacement', 'horsepower', 'vehicle_weight', 'model_year']\n",
    "\n",
    "def prepare_X(df):\n",
    "    df_num = df[base]\n",
    "    df_num = df_num.fillna(0)\n",
    "    X = df_num.values\n",
    "    return X"
   ]
  },
  {
   "cell_type": "code",
   "execution_count": 91,
   "id": "d6005f9b",
   "metadata": {},
   "outputs": [
    {
     "name": "stdout",
     "output_type": "stream",
     "text": [
      "     0 0.517378263883855\n",
      "  0.01 0.5171115525770756\n",
      "   0.1 0.5187525130700945\n",
      "     1 0.5222348802092502\n",
      "     5 0.5228916092823479\n",
      "    10 0.5229812979636552\n",
      "   100 0.5230636233819905\n"
     ]
    }
   ],
   "source": [
    "X_train = prepare_X(df_train)\n",
    "X_val = prepare_X(df_val)\n",
    "\n",
    "for r in [0, 0.01, 0.1, 1, 5, 10, 100]:\n",
    "    w_0, w = train_linear_regression_reg(X_train, y_train, r=r)\n",
    "    y_pred = w_0 + X_val.dot(w)\n",
    "    print('%6s' %r, rmse(y_val, y_pred))"
   ]
  },
  {
   "cell_type": "code",
   "execution_count": 121,
   "id": "c8d6d9b3",
   "metadata": {},
   "outputs": [
    {
     "name": "stdout",
     "output_type": "stream",
     "text": [
      "r=0      -> RMSE: 0.52\n",
      "r=0.01   -> RMSE: 0.52\n",
      "r=0.1    -> RMSE: 0.52\n",
      "r=1      -> RMSE: 0.52\n",
      "r=5      -> RMSE: 0.52\n",
      "r=10     -> RMSE: 0.52\n",
      "r=100    -> RMSE: 0.52\n",
      "\n",
      "Validation RMSE results:\n",
      "        r  val_rmse\n",
      "0    0.00      0.52\n",
      "1    0.01      0.52\n",
      "2    0.10      0.52\n",
      "3    1.00      0.52\n",
      "4    5.00      0.52\n",
      "5   10.00      0.52\n",
      "6  100.00      0.52\n",
      "\n",
      "✅ Best r = 0.0 with RMSE = 0.52\n"
     ]
    }
   ],
   "source": [
    "import numpy as np\n",
    "import pandas as pd\n",
    "\n",
    "# Step 1: Split data (using the same seed as before)\n",
    "df_train, y_train, df_val, y_val, df_test, y_test = prepare_df(df, seed=42)\n",
    "\n",
    "# Step 2: Fill missing with 0\n",
    "X_train = prepare_X(df_train)\n",
    "X_val = prepare_X(df_val)\n",
    "\n",
    "# Step 3: Define the regularized linear regression function\n",
    "def train_linear_regression_reg(X, y, r=0.0):\n",
    "    # Add bias term\n",
    "    ones = np.ones(X.shape[0])\n",
    "    X = np.column_stack([ones, X])\n",
    "    \n",
    "    # Regularization matrix\n",
    "    XTX = X.T.dot(X)\n",
    "    XTX = XTX + r * np.eye(XTX.shape[0])\n",
    "    XTX_inv = np.linalg.inv(XTX)\n",
    "    \n",
    "    w_full = XTX_inv.dot(X.T).dot(y)\n",
    "    w_0 = w_full[0]\n",
    "    w = w_full[1:]\n",
    "    return w_0, w\n",
    "\n",
    "\n",
    "# Step 4: Try different r values\n",
    "r_values = [0, 0.01, 0.1, 1, 5, 10, 100]\n",
    "results = []\n",
    "\n",
    "for r in r_values:\n",
    "    w_0, w = train_linear_regression_reg(X_train, y_train, r=r)\n",
    "    \n",
    "    y_pred = w_0 + X_val.dot(w)\n",
    "    score = rmse(y_val, y_pred)\n",
    "    \n",
    "    print(f\"r={r:<6} -> RMSE: {score:.2f}\")\n",
    "    \n",
    "    results.append((r, round(score, 2)))\n",
    "\n",
    "\n",
    "# Step 5: Find the best r\n",
    "df_results = pd.DataFrame(results, columns=['r', 'val_rmse'])\n",
    "best = df_results.loc[df_results['val_rmse'].idxmin()]\n",
    "\n",
    "print(\"\\nValidation RMSE results:\")\n",
    "print(df_results)\n",
    "\n",
    "print(f\"\\n✅ Best r = {best['r']} with RMSE = {best['val_rmse']}\")\n"
   ]
  },
  {
   "cell_type": "markdown",
   "id": "d39b86b3",
   "metadata": {},
   "source": [
    "### Question 5 \n",
    "\n",
    "* We used seed 42 for splitting the data. Let's find out how selecting the seed influences our score.\n",
    "* Try different seed values: `[0, 1, 2, 3, 4, 5, 6, 7, 8, 9]`.\n",
    "* For each seed, do the train/validation/test split with 60%/20%/20% distribution.\n",
    "* Fill the missing values with 0 and train a model without regularization.\n",
    "* For each seed, evaluate the model on the validation dataset and collect the RMSE scores. \n",
    "* What's the standard deviation of all the scores? To compute the standard deviation, use `np.std`.\n",
    "* Round the result to 3 decimal digits (`round(std, 3)`)\n",
    "\n",
    "What's the value of std?\n",
    "\n",
    "- 0.001\n",
    "- **`0.006`**\n",
    "- 0.060\n",
    "- 0.600\n",
    "\n",
    "> Note: Standard deviation shows how different the values are.\n",
    "> If it's low, then all values are approximately the same.\n",
    "> If it's high, the values are different. \n",
    "> If standard deviation of scores is low, then our model is *stable*.\n",
    "\n",
    "\n"
   ]
  },
  {
   "cell_type": "code",
   "execution_count": 117,
   "id": "0c446a40",
   "metadata": {},
   "outputs": [],
   "source": [
    "def train_linear_regression(X, y):\n",
    "    ones = np.ones(X.shape[0])\n",
    "    X = np.column_stack([ones, X])\n",
    "\n",
    "    XTX = X.T.dot(X)\n",
    "    XTX_inv = np.linalg.inv(XTX)\n",
    "    w = XTX_inv.dot(X.T).dot(y)\n",
    "    \n",
    "    return w[0], w[1:]\n",
    "\n",
    "def rmse(y, y_pred):\n",
    "    error = y_pred - y\n",
    "    mse = (error ** 2).mean()\n",
    "    return round(np.sqrt(mse), 3)\n",
    "    # return np.sqrt(mse)"
   ]
  },
  {
   "cell_type": "code",
   "execution_count": 118,
   "id": "9e346d0c",
   "metadata": {},
   "outputs": [
    {
     "name": "stdout",
     "output_type": "stream",
     "text": [
      "seed:0, train RMSE: 0.517, val RMSE: 0.521\n",
      "seed:1, train RMSE: 0.515, val RMSE: 0.521\n",
      "seed:2, train RMSE: 0.521, val RMSE: 0.523\n",
      "seed:3, train RMSE: 0.520, val RMSE: 0.516\n",
      "seed:4, train RMSE: 0.517, val RMSE: 0.511\n",
      "seed:5, train RMSE: 0.520, val RMSE: 0.528\n",
      "seed:6, train RMSE: 0.512, val RMSE: 0.531\n",
      "seed:7, train RMSE: 0.525, val RMSE: 0.509\n",
      "seed:8, train RMSE: 0.524, val RMSE: 0.515\n",
      "seed:9, train RMSE: 0.522, val RMSE: 0.513\n"
     ]
    },
    {
     "data": {
      "text/html": [
       "<div>\n",
       "<style scoped>\n",
       "    .dataframe tbody tr th:only-of-type {\n",
       "        vertical-align: middle;\n",
       "    }\n",
       "\n",
       "    .dataframe tbody tr th {\n",
       "        vertical-align: top;\n",
       "    }\n",
       "\n",
       "    .dataframe thead th {\n",
       "        text-align: right;\n",
       "    }\n",
       "</style>\n",
       "<table border=\"1\" class=\"dataframe\">\n",
       "  <thead>\n",
       "    <tr style=\"text-align: right;\">\n",
       "      <th></th>\n",
       "      <th>seed</th>\n",
       "      <th>train_rmse</th>\n",
       "      <th>val_rmse</th>\n",
       "    </tr>\n",
       "  </thead>\n",
       "  <tbody>\n",
       "    <tr>\n",
       "      <th>0</th>\n",
       "      <td>0</td>\n",
       "      <td>0.517</td>\n",
       "      <td>0.521</td>\n",
       "    </tr>\n",
       "    <tr>\n",
       "      <th>1</th>\n",
       "      <td>1</td>\n",
       "      <td>0.515</td>\n",
       "      <td>0.521</td>\n",
       "    </tr>\n",
       "    <tr>\n",
       "      <th>2</th>\n",
       "      <td>2</td>\n",
       "      <td>0.521</td>\n",
       "      <td>0.523</td>\n",
       "    </tr>\n",
       "    <tr>\n",
       "      <th>3</th>\n",
       "      <td>3</td>\n",
       "      <td>0.520</td>\n",
       "      <td>0.516</td>\n",
       "    </tr>\n",
       "    <tr>\n",
       "      <th>4</th>\n",
       "      <td>4</td>\n",
       "      <td>0.517</td>\n",
       "      <td>0.511</td>\n",
       "    </tr>\n",
       "    <tr>\n",
       "      <th>5</th>\n",
       "      <td>5</td>\n",
       "      <td>0.520</td>\n",
       "      <td>0.528</td>\n",
       "    </tr>\n",
       "    <tr>\n",
       "      <th>6</th>\n",
       "      <td>6</td>\n",
       "      <td>0.512</td>\n",
       "      <td>0.531</td>\n",
       "    </tr>\n",
       "    <tr>\n",
       "      <th>7</th>\n",
       "      <td>7</td>\n",
       "      <td>0.525</td>\n",
       "      <td>0.509</td>\n",
       "    </tr>\n",
       "    <tr>\n",
       "      <th>8</th>\n",
       "      <td>8</td>\n",
       "      <td>0.524</td>\n",
       "      <td>0.515</td>\n",
       "    </tr>\n",
       "    <tr>\n",
       "      <th>9</th>\n",
       "      <td>9</td>\n",
       "      <td>0.522</td>\n",
       "      <td>0.513</td>\n",
       "    </tr>\n",
       "  </tbody>\n",
       "</table>\n",
       "</div>"
      ],
      "text/plain": [
       "   seed  train_rmse  val_rmse\n",
       "0     0       0.517     0.521\n",
       "1     1       0.515     0.521\n",
       "2     2       0.521     0.523\n",
       "3     3       0.520     0.516\n",
       "4     4       0.517     0.511\n",
       "5     5       0.520     0.528\n",
       "6     6       0.512     0.531\n",
       "7     7       0.525     0.509\n",
       "8     8       0.524     0.515\n",
       "9     9       0.522     0.513"
      ]
     },
     "metadata": {},
     "output_type": "display_data"
    },
    {
     "name": "stdout",
     "output_type": "stream",
     "text": [
      "Standard deviation of validation RMSE: 0.007\n"
     ]
    }
   ],
   "source": [
    "# prepare dataframes\n",
    "def prepare_df(df, seed=42):\n",
    "    np.random.seed(seed)\n",
    "    n_val = int(len(df) * 0.2)\n",
    "    n_test = int(len(df) * 0.2)\n",
    "    n_train = len(df) - n_val - n_test\n",
    "\n",
    "    idx = np.arange(len(df))\n",
    "    np.random.shuffle(idx)\n",
    "    df_shuffled = df.iloc[idx]\n",
    "\n",
    "    df_train = df_shuffled.iloc[:n_train].copy().reset_index(drop=True)\n",
    "    df_val = df_shuffled.iloc[n_train:n_train+n_val].copy().reset_index(drop=True)\n",
    "    df_test = df_shuffled.iloc[n_train+n_val:].copy().reset_index(drop=True)\n",
    "\n",
    "    y_train = df_train.fuel_efficiency_mpg.values\n",
    "    y_val = df_val.fuel_efficiency_mpg.values\n",
    "    y_test = df_test.fuel_efficiency_mpg.values\n",
    "\n",
    "    del df_train['fuel_efficiency_mpg']\n",
    "    del df_val['fuel_efficiency_mpg']\n",
    "    del df_test['fuel_efficiency_mpg']\n",
    "\n",
    "    return df_train, y_train, df_val, y_val, df_test, y_test\n",
    "\n",
    "\n",
    "# features\n",
    "base = ['engine_displacement', 'horsepower', 'vehicle_weight', 'model_year']\n",
    "\n",
    "def prepare_X(df):\n",
    "    df_num = df[base]\n",
    "    df_num = df_num.fillna(0)\n",
    "    X = df_num.values\n",
    "    return X\n",
    "\n",
    "\n",
    "# store results\n",
    "result_list = []\n",
    "\n",
    "for seed in range(10):\n",
    "    # prepare dataframes\n",
    "    df_train, y_train, df_val, y_val, df_test, y_test = prepare_df(df, seed=seed)\n",
    "    \n",
    "    # Prepare training and validation data\n",
    "    X_train = prepare_X(df_train)\n",
    "    X_val = prepare_X(df_val)\n",
    "    \n",
    "    # Train model\n",
    "    w_0, w = train_linear_regression(X_train, y_train)\n",
    "    \n",
    "    # Predictions\n",
    "    y_pred_train = w_0 + X_train.dot(w)\n",
    "    y_pred_val = w_0 + X_val.dot(w)\n",
    "    \n",
    "    # RMSE\n",
    "    train_rmse = rmse(y_train, y_pred_train)\n",
    "    val_rmse = rmse(y_val, y_pred_val)\n",
    "\n",
    "    print(f\"seed:{seed}, train RMSE: {train_rmse:.3f}, val RMSE: {val_rmse:.3f}\")\n",
    "\n",
    "    result_list.append({\n",
    "        'seed': seed,\n",
    "        'train_rmse': train_rmse,\n",
    "        'val_rmse': val_rmse\n",
    "    })\n",
    "\n",
    "\n",
    "# convert to DataFrame\n",
    "df_results = pd.DataFrame(result_list)\n",
    "display(df_results)\n",
    "\n",
    "# compute standard deviation of validation RMSE\n",
    "std = np.std(df_results['val_rmse'])\n",
    "print(\"Standard deviation of validation RMSE:\", round(std, 3))\n"
   ]
  },
  {
   "cell_type": "markdown",
   "id": "fb2fa3d8",
   "metadata": {},
   "source": [
    "### Question 6\n",
    "\n",
    "* Split the dataset like previously, use seed 9.\n",
    "* Combine train and validation datasets.\n",
    "* Fill the missing values with 0 and train a model with `r=0.001`. \n",
    "* What's the RMSE on the test dataset?\n",
    "\n",
    "Options:\n",
    "\n",
    "- 0.15\n",
    "- **`0.515`**\n",
    "- 5.15\n",
    "- 51.5\n",
    "\n"
   ]
  },
  {
   "cell_type": "code",
   "execution_count": 120,
   "id": "b17741d4",
   "metadata": {},
   "outputs": [
    {
     "name": "stdout",
     "output_type": "stream",
     "text": [
      "RMSE on test dataset: 0.516\n"
     ]
    }
   ],
   "source": [
    "\n",
    "# Step 1: Split using seed 9\n",
    "df_train, y_train, df_val, y_val, df_test, y_test = prepare_df(df, seed=9)\n",
    "\n",
    "# Step 2: Combine train + validation\n",
    "df_full_train = pd.concat([df_train, df_val]).reset_index(drop=True)\n",
    "y_full_train = np.concatenate([y_train, y_val])\n",
    "\n",
    "# Step 3: Prepare features (fill missing with 0)\n",
    "X_full_train = prepare_X(df_full_train)\n",
    "X_test = prepare_X(df_test)\n",
    "\n",
    "# Step 4: Train model with regularization r = 0.001\n",
    "w_0, w = train_linear_regression_reg(X_full_train, y_full_train, r=0.001)\n",
    "\n",
    "# Step 5: Evaluate on test data\n",
    "y_pred = w_0 + X_test.dot(w)\n",
    "test_rmse = rmse(y_test, y_pred)\n",
    "\n",
    "print(\"RMSE on test dataset:\", round(test_rmse, 3))\n"
   ]
  },
  {
   "cell_type": "markdown",
   "id": "11a748b5",
   "metadata": {},
   "source": [
    "## Submit the results\n",
    "\n",
    "* Submit your results here: https://courses.datatalks.club/ml-zoomcamp-2025/homework/hw02\n",
    "* If your answer doesn't match options exactly, select the closest one\n"
   ]
  }
 ],
 "metadata": {
  "kernelspec": {
   "display_name": "ml-zoomcamp",
   "language": "python",
   "name": "python3"
  },
  "language_info": {
   "codemirror_mode": {
    "name": "ipython",
    "version": 3
   },
   "file_extension": ".py",
   "mimetype": "text/x-python",
   "name": "python",
   "nbconvert_exporter": "python",
   "pygments_lexer": "ipython3",
   "version": "3.11.13"
  }
 },
 "nbformat": 4,
 "nbformat_minor": 5
}
