{
 "cells": [
  {
   "cell_type": "markdown",
   "metadata": {},
   "source": [
    "# Machine Learning for Regression\n",
    "\n",
    "`Context`:\n",
    "\n",
    "On a used-car selling website, clients need to set a price for their vehicles. Naturally, sellers aim to get the highest possible price, while buyers look for the lowest. This creates a challenge in determining a fair and competitive price. Typically, sellers would conduct their own research to decide on a suitable price.\n",
    "\n",
    "The objective of this project is to leverage machine learning to assist sellers in pricing their cars more effectively. By estimating the vehicle’s MSRP (Manufacturer’s Suggested Retail Price), the model can provide data-driven guidance that helps sellers list their cars at an optimal value—balancing competitiveness with profitability."
   ]
  },
  {
   "cell_type": "markdown",
   "metadata": {},
   "source": [
    "**Problem Statement**:\n",
    "Sellers on used-car platforms struggle to set the right price—balancing their goal of maximizing profit with buyers’ demand for affordability.\n",
    "\n",
    "**Objective**:\n",
    "Use machine learning regression to estimate a car’s MSRP, providing sellers with fair and competitive pricing guidance."
   ]
  },
  {
   "cell_type": "code",
   "execution_count": 30,
   "metadata": {},
   "outputs": [],
   "source": [
    "import pandas as pd\n",
    "import numpy as np\n",
    "\n",
    "import seaborn as sns\n",
    "from matplotlib import pyplot as plt\n",
    "%matplotlib inline"
   ]
  },
  {
   "cell_type": "markdown",
   "metadata": {},
   "source": [
    "## Data Preparation"
   ]
  },
  {
   "cell_type": "code",
   "execution_count": 28,
   "metadata": {},
   "outputs": [
    {
     "name": "stdout",
     "output_type": "stream",
     "text": [
      "data.csv already exists\n"
     ]
    }
   ],
   "source": [
    "from pathlib import Path\n",
    "# import urllib.request\n",
    "\n",
    "datapath = Path()\n",
    "datapath.mkdir(parents=True, exist_ok=True)\n",
    "\n",
    "data_root = \"https://raw.githubusercontent.com/alexeygrigorev/mlbookcamp-code/refs/heads/master/chapter-02-car-price/data.csv\"\n",
    "if not (datapath / \"data.csv\").is_file():\n",
    "    print(\"Downloading data.csv\")\n",
    "    url = data_root\n",
    "    # urllib.request.urlretrieve(url, datapath / \"data.csv\")\n",
    "    !wget $url -O data.csv\n",
    "else :\n",
    "    print(\"data.csv already exists\")"
   ]
  },
  {
   "cell_type": "code",
   "execution_count": 29,
   "metadata": {},
   "outputs": [
    {
     "data": {
      "text/plain": [
       "11914"
      ]
     },
     "execution_count": 29,
     "metadata": {},
     "output_type": "execute_result"
    }
   ],
   "source": [
    "df = pd.read_csv('data.csv')\n",
    "len(df)"
   ]
  },
  {
   "cell_type": "code",
   "execution_count": 4,
   "metadata": {},
   "outputs": [
    {
     "data": {
      "text/html": [
       "<div>\n",
       "<style scoped>\n",
       "    .dataframe tbody tr th:only-of-type {\n",
       "        vertical-align: middle;\n",
       "    }\n",
       "\n",
       "    .dataframe tbody tr th {\n",
       "        vertical-align: top;\n",
       "    }\n",
       "\n",
       "    .dataframe thead th {\n",
       "        text-align: right;\n",
       "    }\n",
       "</style>\n",
       "<table border=\"1\" class=\"dataframe\">\n",
       "  <thead>\n",
       "    <tr style=\"text-align: right;\">\n",
       "      <th></th>\n",
       "      <th>Make</th>\n",
       "      <th>Model</th>\n",
       "      <th>Year</th>\n",
       "      <th>Engine Fuel Type</th>\n",
       "      <th>Engine HP</th>\n",
       "      <th>Engine Cylinders</th>\n",
       "      <th>Transmission Type</th>\n",
       "      <th>Driven_Wheels</th>\n",
       "      <th>Number of Doors</th>\n",
       "      <th>Market Category</th>\n",
       "      <th>Vehicle Size</th>\n",
       "      <th>Vehicle Style</th>\n",
       "      <th>highway MPG</th>\n",
       "      <th>city mpg</th>\n",
       "      <th>Popularity</th>\n",
       "      <th>MSRP</th>\n",
       "    </tr>\n",
       "  </thead>\n",
       "  <tbody>\n",
       "    <tr>\n",
       "      <th>0</th>\n",
       "      <td>BMW</td>\n",
       "      <td>1 Series M</td>\n",
       "      <td>2011</td>\n",
       "      <td>premium unleaded (required)</td>\n",
       "      <td>335.0</td>\n",
       "      <td>6.0</td>\n",
       "      <td>MANUAL</td>\n",
       "      <td>rear wheel drive</td>\n",
       "      <td>2.0</td>\n",
       "      <td>Factory Tuner,Luxury,High-Performance</td>\n",
       "      <td>Compact</td>\n",
       "      <td>Coupe</td>\n",
       "      <td>26</td>\n",
       "      <td>19</td>\n",
       "      <td>3916</td>\n",
       "      <td>46135</td>\n",
       "    </tr>\n",
       "    <tr>\n",
       "      <th>1</th>\n",
       "      <td>BMW</td>\n",
       "      <td>1 Series</td>\n",
       "      <td>2011</td>\n",
       "      <td>premium unleaded (required)</td>\n",
       "      <td>300.0</td>\n",
       "      <td>6.0</td>\n",
       "      <td>MANUAL</td>\n",
       "      <td>rear wheel drive</td>\n",
       "      <td>2.0</td>\n",
       "      <td>Luxury,Performance</td>\n",
       "      <td>Compact</td>\n",
       "      <td>Convertible</td>\n",
       "      <td>28</td>\n",
       "      <td>19</td>\n",
       "      <td>3916</td>\n",
       "      <td>40650</td>\n",
       "    </tr>\n",
       "    <tr>\n",
       "      <th>2</th>\n",
       "      <td>BMW</td>\n",
       "      <td>1 Series</td>\n",
       "      <td>2011</td>\n",
       "      <td>premium unleaded (required)</td>\n",
       "      <td>300.0</td>\n",
       "      <td>6.0</td>\n",
       "      <td>MANUAL</td>\n",
       "      <td>rear wheel drive</td>\n",
       "      <td>2.0</td>\n",
       "      <td>Luxury,High-Performance</td>\n",
       "      <td>Compact</td>\n",
       "      <td>Coupe</td>\n",
       "      <td>28</td>\n",
       "      <td>20</td>\n",
       "      <td>3916</td>\n",
       "      <td>36350</td>\n",
       "    </tr>\n",
       "    <tr>\n",
       "      <th>3</th>\n",
       "      <td>BMW</td>\n",
       "      <td>1 Series</td>\n",
       "      <td>2011</td>\n",
       "      <td>premium unleaded (required)</td>\n",
       "      <td>230.0</td>\n",
       "      <td>6.0</td>\n",
       "      <td>MANUAL</td>\n",
       "      <td>rear wheel drive</td>\n",
       "      <td>2.0</td>\n",
       "      <td>Luxury,Performance</td>\n",
       "      <td>Compact</td>\n",
       "      <td>Coupe</td>\n",
       "      <td>28</td>\n",
       "      <td>18</td>\n",
       "      <td>3916</td>\n",
       "      <td>29450</td>\n",
       "    </tr>\n",
       "    <tr>\n",
       "      <th>4</th>\n",
       "      <td>BMW</td>\n",
       "      <td>1 Series</td>\n",
       "      <td>2011</td>\n",
       "      <td>premium unleaded (required)</td>\n",
       "      <td>230.0</td>\n",
       "      <td>6.0</td>\n",
       "      <td>MANUAL</td>\n",
       "      <td>rear wheel drive</td>\n",
       "      <td>2.0</td>\n",
       "      <td>Luxury</td>\n",
       "      <td>Compact</td>\n",
       "      <td>Convertible</td>\n",
       "      <td>28</td>\n",
       "      <td>18</td>\n",
       "      <td>3916</td>\n",
       "      <td>34500</td>\n",
       "    </tr>\n",
       "  </tbody>\n",
       "</table>\n",
       "</div>"
      ],
      "text/plain": [
       "  Make       Model  Year             Engine Fuel Type  Engine HP  \\\n",
       "0  BMW  1 Series M  2011  premium unleaded (required)      335.0   \n",
       "1  BMW    1 Series  2011  premium unleaded (required)      300.0   \n",
       "2  BMW    1 Series  2011  premium unleaded (required)      300.0   \n",
       "3  BMW    1 Series  2011  premium unleaded (required)      230.0   \n",
       "4  BMW    1 Series  2011  premium unleaded (required)      230.0   \n",
       "\n",
       "   Engine Cylinders Transmission Type     Driven_Wheels  Number of Doors  \\\n",
       "0               6.0            MANUAL  rear wheel drive              2.0   \n",
       "1               6.0            MANUAL  rear wheel drive              2.0   \n",
       "2               6.0            MANUAL  rear wheel drive              2.0   \n",
       "3               6.0            MANUAL  rear wheel drive              2.0   \n",
       "4               6.0            MANUAL  rear wheel drive              2.0   \n",
       "\n",
       "                         Market Category Vehicle Size Vehicle Style  \\\n",
       "0  Factory Tuner,Luxury,High-Performance      Compact         Coupe   \n",
       "1                     Luxury,Performance      Compact   Convertible   \n",
       "2                Luxury,High-Performance      Compact         Coupe   \n",
       "3                     Luxury,Performance      Compact         Coupe   \n",
       "4                                 Luxury      Compact   Convertible   \n",
       "\n",
       "   highway MPG  city mpg  Popularity   MSRP  \n",
       "0           26        19        3916  46135  \n",
       "1           28        19        3916  40650  \n",
       "2           28        20        3916  36350  \n",
       "3           28        18        3916  29450  \n",
       "4           28        18        3916  34500  "
      ]
     },
     "execution_count": 4,
     "metadata": {},
     "output_type": "execute_result"
    }
   ],
   "source": [
    "df.head()"
   ]
  },
  {
   "cell_type": "code",
   "execution_count": 5,
   "metadata": {},
   "outputs": [
    {
     "data": {
      "text/plain": [
       "Index(['Make', 'Model', 'Year', 'Engine Fuel Type', 'Engine HP',\n",
       "       'Engine Cylinders', 'Transmission Type', 'Driven_Wheels',\n",
       "       'Number of Doors', 'Market Category', 'Vehicle Size', 'Vehicle Style',\n",
       "       'highway MPG', 'city mpg', 'Popularity', 'MSRP'],\n",
       "      dtype='object')"
      ]
     },
     "execution_count": 5,
     "metadata": {},
     "output_type": "execute_result"
    }
   ],
   "source": [
    "df.columns"
   ]
  },
  {
   "cell_type": "code",
   "execution_count": 11,
   "metadata": {},
   "outputs": [
    {
     "data": {
      "text/plain": [
       "Index(['Make', 'Model', 'Engine Fuel Type', 'Transmission Type',\n",
       "       'Driven_Wheels', 'Market Category', 'Vehicle Size', 'Vehicle Style'],\n",
       "      dtype='object')"
      ]
     },
     "execution_count": 11,
     "metadata": {},
     "output_type": "execute_result"
    }
   ],
   "source": [
    "df.dtypes[df.dtypes == 'object'].index"
   ]
  },
  {
   "cell_type": "code",
   "execution_count": 20,
   "metadata": {},
   "outputs": [
    {
     "data": {
      "text/plain": [
       "Index(['make', 'model', 'engine_fuel_type', 'transmission_type',\n",
       "       'driven_wheels', 'market_category', 'vehicle_size', 'vehicle_style'],\n",
       "      dtype='object')"
      ]
     },
     "execution_count": 20,
     "metadata": {},
     "output_type": "execute_result"
    }
   ],
   "source": [
    "df.select_dtypes('object').columns "
   ]
  },
  {
   "cell_type": "code",
   "execution_count": 31,
   "metadata": {},
   "outputs": [],
   "source": [
    "df.columns = df.columns.str.lower().str.replace(' ', '_')\n",
    "\n",
    "string_columns = list(df.dtypes[df.dtypes == 'object'].index)\n",
    "\n",
    "for col in string_columns:\n",
    "    df[col] = df[col].str.lower().str.replace(' ', '_')"
   ]
  },
  {
   "cell_type": "code",
   "execution_count": 32,
   "metadata": {},
   "outputs": [
    {
     "data": {
      "text/html": [
       "<div>\n",
       "<style scoped>\n",
       "    .dataframe tbody tr th:only-of-type {\n",
       "        vertical-align: middle;\n",
       "    }\n",
       "\n",
       "    .dataframe tbody tr th {\n",
       "        vertical-align: top;\n",
       "    }\n",
       "\n",
       "    .dataframe thead th {\n",
       "        text-align: right;\n",
       "    }\n",
       "</style>\n",
       "<table border=\"1\" class=\"dataframe\">\n",
       "  <thead>\n",
       "    <tr style=\"text-align: right;\">\n",
       "      <th></th>\n",
       "      <th>make</th>\n",
       "      <th>model</th>\n",
       "      <th>year</th>\n",
       "      <th>engine_fuel_type</th>\n",
       "      <th>engine_hp</th>\n",
       "      <th>engine_cylinders</th>\n",
       "      <th>transmission_type</th>\n",
       "      <th>driven_wheels</th>\n",
       "      <th>number_of_doors</th>\n",
       "      <th>market_category</th>\n",
       "      <th>vehicle_size</th>\n",
       "      <th>vehicle_style</th>\n",
       "      <th>highway_mpg</th>\n",
       "      <th>city_mpg</th>\n",
       "      <th>popularity</th>\n",
       "      <th>msrp</th>\n",
       "    </tr>\n",
       "  </thead>\n",
       "  <tbody>\n",
       "    <tr>\n",
       "      <th>0</th>\n",
       "      <td>bmw</td>\n",
       "      <td>1_series_m</td>\n",
       "      <td>2011</td>\n",
       "      <td>premium_unleaded_(required)</td>\n",
       "      <td>335.0</td>\n",
       "      <td>6.0</td>\n",
       "      <td>manual</td>\n",
       "      <td>rear_wheel_drive</td>\n",
       "      <td>2.0</td>\n",
       "      <td>factory_tuner,luxury,high-performance</td>\n",
       "      <td>compact</td>\n",
       "      <td>coupe</td>\n",
       "      <td>26</td>\n",
       "      <td>19</td>\n",
       "      <td>3916</td>\n",
       "      <td>46135</td>\n",
       "    </tr>\n",
       "    <tr>\n",
       "      <th>1</th>\n",
       "      <td>bmw</td>\n",
       "      <td>1_series</td>\n",
       "      <td>2011</td>\n",
       "      <td>premium_unleaded_(required)</td>\n",
       "      <td>300.0</td>\n",
       "      <td>6.0</td>\n",
       "      <td>manual</td>\n",
       "      <td>rear_wheel_drive</td>\n",
       "      <td>2.0</td>\n",
       "      <td>luxury,performance</td>\n",
       "      <td>compact</td>\n",
       "      <td>convertible</td>\n",
       "      <td>28</td>\n",
       "      <td>19</td>\n",
       "      <td>3916</td>\n",
       "      <td>40650</td>\n",
       "    </tr>\n",
       "    <tr>\n",
       "      <th>2</th>\n",
       "      <td>bmw</td>\n",
       "      <td>1_series</td>\n",
       "      <td>2011</td>\n",
       "      <td>premium_unleaded_(required)</td>\n",
       "      <td>300.0</td>\n",
       "      <td>6.0</td>\n",
       "      <td>manual</td>\n",
       "      <td>rear_wheel_drive</td>\n",
       "      <td>2.0</td>\n",
       "      <td>luxury,high-performance</td>\n",
       "      <td>compact</td>\n",
       "      <td>coupe</td>\n",
       "      <td>28</td>\n",
       "      <td>20</td>\n",
       "      <td>3916</td>\n",
       "      <td>36350</td>\n",
       "    </tr>\n",
       "    <tr>\n",
       "      <th>3</th>\n",
       "      <td>bmw</td>\n",
       "      <td>1_series</td>\n",
       "      <td>2011</td>\n",
       "      <td>premium_unleaded_(required)</td>\n",
       "      <td>230.0</td>\n",
       "      <td>6.0</td>\n",
       "      <td>manual</td>\n",
       "      <td>rear_wheel_drive</td>\n",
       "      <td>2.0</td>\n",
       "      <td>luxury,performance</td>\n",
       "      <td>compact</td>\n",
       "      <td>coupe</td>\n",
       "      <td>28</td>\n",
       "      <td>18</td>\n",
       "      <td>3916</td>\n",
       "      <td>29450</td>\n",
       "    </tr>\n",
       "    <tr>\n",
       "      <th>4</th>\n",
       "      <td>bmw</td>\n",
       "      <td>1_series</td>\n",
       "      <td>2011</td>\n",
       "      <td>premium_unleaded_(required)</td>\n",
       "      <td>230.0</td>\n",
       "      <td>6.0</td>\n",
       "      <td>manual</td>\n",
       "      <td>rear_wheel_drive</td>\n",
       "      <td>2.0</td>\n",
       "      <td>luxury</td>\n",
       "      <td>compact</td>\n",
       "      <td>convertible</td>\n",
       "      <td>28</td>\n",
       "      <td>18</td>\n",
       "      <td>3916</td>\n",
       "      <td>34500</td>\n",
       "    </tr>\n",
       "  </tbody>\n",
       "</table>\n",
       "</div>"
      ],
      "text/plain": [
       "  make       model  year             engine_fuel_type  engine_hp  \\\n",
       "0  bmw  1_series_m  2011  premium_unleaded_(required)      335.0   \n",
       "1  bmw    1_series  2011  premium_unleaded_(required)      300.0   \n",
       "2  bmw    1_series  2011  premium_unleaded_(required)      300.0   \n",
       "3  bmw    1_series  2011  premium_unleaded_(required)      230.0   \n",
       "4  bmw    1_series  2011  premium_unleaded_(required)      230.0   \n",
       "\n",
       "   engine_cylinders transmission_type     driven_wheels  number_of_doors  \\\n",
       "0               6.0            manual  rear_wheel_drive              2.0   \n",
       "1               6.0            manual  rear_wheel_drive              2.0   \n",
       "2               6.0            manual  rear_wheel_drive              2.0   \n",
       "3               6.0            manual  rear_wheel_drive              2.0   \n",
       "4               6.0            manual  rear_wheel_drive              2.0   \n",
       "\n",
       "                         market_category vehicle_size vehicle_style  \\\n",
       "0  factory_tuner,luxury,high-performance      compact         coupe   \n",
       "1                     luxury,performance      compact   convertible   \n",
       "2                luxury,high-performance      compact         coupe   \n",
       "3                     luxury,performance      compact         coupe   \n",
       "4                                 luxury      compact   convertible   \n",
       "\n",
       "   highway_mpg  city_mpg  popularity   msrp  \n",
       "0           26        19        3916  46135  \n",
       "1           28        19        3916  40650  \n",
       "2           28        20        3916  36350  \n",
       "3           28        18        3916  29450  \n",
       "4           28        18        3916  34500  "
      ]
     },
     "execution_count": 32,
     "metadata": {},
     "output_type": "execute_result"
    }
   ],
   "source": [
    "df.head()"
   ]
  },
  {
   "cell_type": "markdown",
   "metadata": {},
   "source": [
    "msrp : manufacturer_suggested_retail_price"
   ]
  },
  {
   "cell_type": "code",
   "execution_count": 21,
   "metadata": {},
   "outputs": [
    {
     "data": {
      "text/plain": [
       "Index(['make', 'model', 'year', 'engine_fuel_type', 'engine_hp',\n",
       "       'engine_cylinders', 'transmission_type', 'driven_wheels',\n",
       "       'number_of_doors', 'market_category', 'vehicle_size', 'vehicle_style',\n",
       "       'highway_mpg', 'city_mpg', 'popularity', 'msrp'],\n",
       "      dtype='object')"
      ]
     },
     "execution_count": 21,
     "metadata": {},
     "output_type": "execute_result"
    }
   ],
   "source": [
    "df.columns.str.lower().str.replace(' ','_')"
   ]
  },
  {
   "cell_type": "markdown",
   "metadata": {},
   "source": [
    "## Exploratory data analysis"
   ]
  },
  {
   "cell_type": "code",
   "execution_count": 35,
   "metadata": {},
   "outputs": [
    {
     "data": {
      "text/html": [
       "<div>\n",
       "<style scoped>\n",
       "    .dataframe tbody tr th:only-of-type {\n",
       "        vertical-align: middle;\n",
       "    }\n",
       "\n",
       "    .dataframe tbody tr th {\n",
       "        vertical-align: top;\n",
       "    }\n",
       "\n",
       "    .dataframe thead th {\n",
       "        text-align: right;\n",
       "    }\n",
       "</style>\n",
       "<table border=\"1\" class=\"dataframe\">\n",
       "  <thead>\n",
       "    <tr style=\"text-align: right;\">\n",
       "      <th></th>\n",
       "      <th>year</th>\n",
       "      <th>engine_hp</th>\n",
       "      <th>engine_cylinders</th>\n",
       "      <th>number_of_doors</th>\n",
       "      <th>highway_mpg</th>\n",
       "      <th>city_mpg</th>\n",
       "      <th>popularity</th>\n",
       "      <th>msrp</th>\n",
       "    </tr>\n",
       "  </thead>\n",
       "  <tbody>\n",
       "    <tr>\n",
       "      <th>count</th>\n",
       "      <td>11914.000000</td>\n",
       "      <td>11845.00000</td>\n",
       "      <td>11884.000000</td>\n",
       "      <td>11908.000000</td>\n",
       "      <td>11914.000000</td>\n",
       "      <td>11914.000000</td>\n",
       "      <td>11914.000000</td>\n",
       "      <td>1.191400e+04</td>\n",
       "    </tr>\n",
       "    <tr>\n",
       "      <th>mean</th>\n",
       "      <td>2010.384338</td>\n",
       "      <td>249.38607</td>\n",
       "      <td>5.628829</td>\n",
       "      <td>3.436093</td>\n",
       "      <td>26.637485</td>\n",
       "      <td>19.733255</td>\n",
       "      <td>1554.911197</td>\n",
       "      <td>4.059474e+04</td>\n",
       "    </tr>\n",
       "    <tr>\n",
       "      <th>std</th>\n",
       "      <td>7.579740</td>\n",
       "      <td>109.19187</td>\n",
       "      <td>1.780559</td>\n",
       "      <td>0.881315</td>\n",
       "      <td>8.863001</td>\n",
       "      <td>8.987798</td>\n",
       "      <td>1441.855347</td>\n",
       "      <td>6.010910e+04</td>\n",
       "    </tr>\n",
       "    <tr>\n",
       "      <th>min</th>\n",
       "      <td>1990.000000</td>\n",
       "      <td>55.00000</td>\n",
       "      <td>0.000000</td>\n",
       "      <td>2.000000</td>\n",
       "      <td>12.000000</td>\n",
       "      <td>7.000000</td>\n",
       "      <td>2.000000</td>\n",
       "      <td>2.000000e+03</td>\n",
       "    </tr>\n",
       "    <tr>\n",
       "      <th>25%</th>\n",
       "      <td>2007.000000</td>\n",
       "      <td>170.00000</td>\n",
       "      <td>4.000000</td>\n",
       "      <td>2.000000</td>\n",
       "      <td>22.000000</td>\n",
       "      <td>16.000000</td>\n",
       "      <td>549.000000</td>\n",
       "      <td>2.100000e+04</td>\n",
       "    </tr>\n",
       "    <tr>\n",
       "      <th>50%</th>\n",
       "      <td>2015.000000</td>\n",
       "      <td>227.00000</td>\n",
       "      <td>6.000000</td>\n",
       "      <td>4.000000</td>\n",
       "      <td>26.000000</td>\n",
       "      <td>18.000000</td>\n",
       "      <td>1385.000000</td>\n",
       "      <td>2.999500e+04</td>\n",
       "    </tr>\n",
       "    <tr>\n",
       "      <th>75%</th>\n",
       "      <td>2016.000000</td>\n",
       "      <td>300.00000</td>\n",
       "      <td>6.000000</td>\n",
       "      <td>4.000000</td>\n",
       "      <td>30.000000</td>\n",
       "      <td>22.000000</td>\n",
       "      <td>2009.000000</td>\n",
       "      <td>4.223125e+04</td>\n",
       "    </tr>\n",
       "    <tr>\n",
       "      <th>max</th>\n",
       "      <td>2017.000000</td>\n",
       "      <td>1001.00000</td>\n",
       "      <td>16.000000</td>\n",
       "      <td>4.000000</td>\n",
       "      <td>354.000000</td>\n",
       "      <td>137.000000</td>\n",
       "      <td>5657.000000</td>\n",
       "      <td>2.065902e+06</td>\n",
       "    </tr>\n",
       "  </tbody>\n",
       "</table>\n",
       "</div>"
      ],
      "text/plain": [
       "               year    engine_hp  engine_cylinders  number_of_doors  \\\n",
       "count  11914.000000  11845.00000      11884.000000     11908.000000   \n",
       "mean    2010.384338    249.38607          5.628829         3.436093   \n",
       "std        7.579740    109.19187          1.780559         0.881315   \n",
       "min     1990.000000     55.00000          0.000000         2.000000   \n",
       "25%     2007.000000    170.00000          4.000000         2.000000   \n",
       "50%     2015.000000    227.00000          6.000000         4.000000   \n",
       "75%     2016.000000    300.00000          6.000000         4.000000   \n",
       "max     2017.000000   1001.00000         16.000000         4.000000   \n",
       "\n",
       "        highway_mpg      city_mpg    popularity          msrp  \n",
       "count  11914.000000  11914.000000  11914.000000  1.191400e+04  \n",
       "mean      26.637485     19.733255   1554.911197  4.059474e+04  \n",
       "std        8.863001      8.987798   1441.855347  6.010910e+04  \n",
       "min       12.000000      7.000000      2.000000  2.000000e+03  \n",
       "25%       22.000000     16.000000    549.000000  2.100000e+04  \n",
       "50%       26.000000     18.000000   1385.000000  2.999500e+04  \n",
       "75%       30.000000     22.000000   2009.000000  4.223125e+04  \n",
       "max      354.000000    137.000000   5657.000000  2.065902e+06  "
      ]
     },
     "execution_count": 35,
     "metadata": {},
     "output_type": "execute_result"
    }
   ],
   "source": [
    "df.describe(exclude='object')"
   ]
  },
  {
   "cell_type": "code",
   "execution_count": 46,
   "metadata": {},
   "outputs": [
    {
     "data": {
      "text/html": [
       "<div>\n",
       "<style scoped>\n",
       "    .dataframe tbody tr th:only-of-type {\n",
       "        vertical-align: middle;\n",
       "    }\n",
       "\n",
       "    .dataframe tbody tr th {\n",
       "        vertical-align: top;\n",
       "    }\n",
       "\n",
       "    .dataframe thead th {\n",
       "        text-align: right;\n",
       "    }\n",
       "</style>\n",
       "<table border=\"1\" class=\"dataframe\">\n",
       "  <thead>\n",
       "    <tr style=\"text-align: right;\">\n",
       "      <th></th>\n",
       "      <th>make</th>\n",
       "      <th>model</th>\n",
       "      <th>year</th>\n",
       "      <th>engine_fuel_type</th>\n",
       "      <th>engine_hp</th>\n",
       "      <th>engine_cylinders</th>\n",
       "      <th>transmission_type</th>\n",
       "      <th>driven_wheels</th>\n",
       "      <th>number_of_doors</th>\n",
       "      <th>market_category</th>\n",
       "      <th>vehicle_size</th>\n",
       "      <th>vehicle_style</th>\n",
       "      <th>highway_mpg</th>\n",
       "      <th>city_mpg</th>\n",
       "      <th>popularity</th>\n",
       "      <th>msrp</th>\n",
       "    </tr>\n",
       "  </thead>\n",
       "  <tbody>\n",
       "    <tr>\n",
       "      <th>5790</th>\n",
       "      <td>bmw</td>\n",
       "      <td>i3</td>\n",
       "      <td>2015</td>\n",
       "      <td>electric</td>\n",
       "      <td>170.0</td>\n",
       "      <td>0.0</td>\n",
       "      <td>direct_drive</td>\n",
       "      <td>rear_wheel_drive</td>\n",
       "      <td>4.0</td>\n",
       "      <td>hatchback,luxury</td>\n",
       "      <td>compact</td>\n",
       "      <td>4dr_hatchback</td>\n",
       "      <td>111</td>\n",
       "      <td>137</td>\n",
       "      <td>3916</td>\n",
       "      <td>42400</td>\n",
       "    </tr>\n",
       "    <tr>\n",
       "      <th>5791</th>\n",
       "      <td>bmw</td>\n",
       "      <td>i3</td>\n",
       "      <td>2016</td>\n",
       "      <td>electric</td>\n",
       "      <td>170.0</td>\n",
       "      <td>0.0</td>\n",
       "      <td>direct_drive</td>\n",
       "      <td>rear_wheel_drive</td>\n",
       "      <td>4.0</td>\n",
       "      <td>hatchback,luxury</td>\n",
       "      <td>compact</td>\n",
       "      <td>4dr_hatchback</td>\n",
       "      <td>111</td>\n",
       "      <td>137</td>\n",
       "      <td>3916</td>\n",
       "      <td>42400</td>\n",
       "    </tr>\n",
       "    <tr>\n",
       "      <th>5792</th>\n",
       "      <td>bmw</td>\n",
       "      <td>i3</td>\n",
       "      <td>2017</td>\n",
       "      <td>electric</td>\n",
       "      <td>170.0</td>\n",
       "      <td>0.0</td>\n",
       "      <td>direct_drive</td>\n",
       "      <td>rear_wheel_drive</td>\n",
       "      <td>4.0</td>\n",
       "      <td>hatchback,luxury</td>\n",
       "      <td>compact</td>\n",
       "      <td>4dr_hatchback</td>\n",
       "      <td>111</td>\n",
       "      <td>137</td>\n",
       "      <td>3916</td>\n",
       "      <td>42400</td>\n",
       "    </tr>\n",
       "  </tbody>\n",
       "</table>\n",
       "</div>"
      ],
      "text/plain": [
       "     make model  year engine_fuel_type  engine_hp  engine_cylinders  \\\n",
       "5790  bmw    i3  2015         electric      170.0               0.0   \n",
       "5791  bmw    i3  2016         electric      170.0               0.0   \n",
       "5792  bmw    i3  2017         electric      170.0               0.0   \n",
       "\n",
       "     transmission_type     driven_wheels  number_of_doors   market_category  \\\n",
       "5790      direct_drive  rear_wheel_drive              4.0  hatchback,luxury   \n",
       "5791      direct_drive  rear_wheel_drive              4.0  hatchback,luxury   \n",
       "5792      direct_drive  rear_wheel_drive              4.0  hatchback,luxury   \n",
       "\n",
       "     vehicle_size  vehicle_style  highway_mpg  city_mpg  popularity   msrp  \n",
       "5790      compact  4dr_hatchback          111       137        3916  42400  \n",
       "5791      compact  4dr_hatchback          111       137        3916  42400  \n",
       "5792      compact  4dr_hatchback          111       137        3916  42400  "
      ]
     },
     "execution_count": 46,
     "metadata": {},
     "output_type": "execute_result"
    }
   ],
   "source": [
    "df[df.city_mpg == df.city_mpg.max()]"
   ]
  },
  {
   "cell_type": "code",
   "execution_count": 36,
   "metadata": {},
   "outputs": [
    {
     "data": {
      "text/html": [
       "<div>\n",
       "<style scoped>\n",
       "    .dataframe tbody tr th:only-of-type {\n",
       "        vertical-align: middle;\n",
       "    }\n",
       "\n",
       "    .dataframe tbody tr th {\n",
       "        vertical-align: top;\n",
       "    }\n",
       "\n",
       "    .dataframe thead th {\n",
       "        text-align: right;\n",
       "    }\n",
       "</style>\n",
       "<table border=\"1\" class=\"dataframe\">\n",
       "  <thead>\n",
       "    <tr style=\"text-align: right;\">\n",
       "      <th></th>\n",
       "      <th>count</th>\n",
       "      <th>unique</th>\n",
       "      <th>top</th>\n",
       "      <th>freq</th>\n",
       "    </tr>\n",
       "  </thead>\n",
       "  <tbody>\n",
       "    <tr>\n",
       "      <th>make</th>\n",
       "      <td>11914</td>\n",
       "      <td>48</td>\n",
       "      <td>chevrolet</td>\n",
       "      <td>1123</td>\n",
       "    </tr>\n",
       "    <tr>\n",
       "      <th>model</th>\n",
       "      <td>11914</td>\n",
       "      <td>914</td>\n",
       "      <td>silverado_1500</td>\n",
       "      <td>156</td>\n",
       "    </tr>\n",
       "    <tr>\n",
       "      <th>engine_fuel_type</th>\n",
       "      <td>11911</td>\n",
       "      <td>10</td>\n",
       "      <td>regular_unleaded</td>\n",
       "      <td>7172</td>\n",
       "    </tr>\n",
       "    <tr>\n",
       "      <th>transmission_type</th>\n",
       "      <td>11914</td>\n",
       "      <td>5</td>\n",
       "      <td>automatic</td>\n",
       "      <td>8266</td>\n",
       "    </tr>\n",
       "    <tr>\n",
       "      <th>driven_wheels</th>\n",
       "      <td>11914</td>\n",
       "      <td>4</td>\n",
       "      <td>front_wheel_drive</td>\n",
       "      <td>4787</td>\n",
       "    </tr>\n",
       "    <tr>\n",
       "      <th>market_category</th>\n",
       "      <td>8172</td>\n",
       "      <td>71</td>\n",
       "      <td>crossover</td>\n",
       "      <td>1110</td>\n",
       "    </tr>\n",
       "    <tr>\n",
       "      <th>vehicle_size</th>\n",
       "      <td>11914</td>\n",
       "      <td>3</td>\n",
       "      <td>compact</td>\n",
       "      <td>4764</td>\n",
       "    </tr>\n",
       "    <tr>\n",
       "      <th>vehicle_style</th>\n",
       "      <td>11914</td>\n",
       "      <td>16</td>\n",
       "      <td>sedan</td>\n",
       "      <td>3048</td>\n",
       "    </tr>\n",
       "  </tbody>\n",
       "</table>\n",
       "</div>"
      ],
      "text/plain": [
       "                   count unique                top  freq\n",
       "make               11914     48          chevrolet  1123\n",
       "model              11914    914     silverado_1500   156\n",
       "engine_fuel_type   11911     10   regular_unleaded  7172\n",
       "transmission_type  11914      5          automatic  8266\n",
       "driven_wheels      11914      4  front_wheel_drive  4787\n",
       "market_category     8172     71          crossover  1110\n",
       "vehicle_size       11914      3            compact  4764\n",
       "vehicle_style      11914     16              sedan  3048"
      ]
     },
     "execution_count": 36,
     "metadata": {},
     "output_type": "execute_result"
    }
   ],
   "source": [
    "df.describe(include='object').T"
   ]
  },
  {
   "cell_type": "code",
   "execution_count": 42,
   "metadata": {},
   "outputs": [
    {
     "name": "stdout",
     "output_type": "stream",
     "text": [
      "make: 48\n",
      " ['bmw' 'audi' 'fiat' 'mercedes-benz' 'chrysler']\n",
      "\n",
      "model: 914\n",
      " ['1_series_m' '1_series' '100' '124_spider' '190-class']\n",
      "\n",
      "year: 28\n",
      " [2011 2012 2013 1992 1993]\n",
      "\n",
      "engine_fuel_type: 10\n",
      " ['premium_unleaded_(required)' 'regular_unleaded'\n",
      " 'premium_unleaded_(recommended)' 'flex-fuel_(unleaded/e85)' 'diesel']\n",
      "\n",
      "engine_hp: 356\n",
      " [335. 300. 230. 320. 172.]\n",
      "\n",
      "engine_cylinders: 9\n",
      " [ 6.  4.  5.  8. 12.]\n",
      "\n",
      "transmission_type: 5\n",
      " ['manual' 'automatic' 'automated_manual' 'direct_drive' 'unknown']\n",
      "\n",
      "driven_wheels: 4\n",
      " ['rear_wheel_drive' 'front_wheel_drive' 'all_wheel_drive'\n",
      " 'four_wheel_drive']\n",
      "\n",
      "number_of_doors: 3\n",
      " [ 2.  4.  3. nan]\n",
      "\n",
      "market_category: 71\n",
      " ['factory_tuner,luxury,high-performance' 'luxury,performance'\n",
      " 'luxury,high-performance' 'luxury' 'performance']\n",
      "\n",
      "vehicle_size: 3\n",
      " ['compact' 'midsize' 'large']\n",
      "\n",
      "vehicle_style: 16\n",
      " ['coupe' 'convertible' 'sedan' 'wagon' '4dr_hatchback']\n",
      "\n",
      "highway_mpg: 59\n",
      " [26 28 27 25 24]\n",
      "\n",
      "city_mpg: 69\n",
      " [19 20 18 17 16]\n",
      "\n",
      "popularity: 48\n",
      " [3916 3105  819  617 1013]\n",
      "\n",
      "msrp: 6049\n",
      " [46135 40650 36350 29450 34500]\n",
      "\n"
     ]
    }
   ],
   "source": [
    "for col in df.columns:\n",
    "    print(f\"{col}: {df[col].nunique()}\\n {df[col].unique()[:5]}\\n\")    # print the first 5 unique values\n"
   ]
  },
  {
   "cell_type": "code",
   "execution_count": 6,
   "metadata": {},
   "outputs": [
    {
     "data": {
      "image/png": "[encoded data removed]",
      "text/plain": [
       "<Figure size 432x288 with 1 Axes>"
      ]
     },
     "metadata": {
      "needs_background": "light"
     },
     "output_type": "display_data"
    }
   ],
   "source": [
    "plt.figure(figsize=(6, 4))\n",
    "\n",
    "sns.histplot(df.msrp, bins=40, color='black', alpha=1)\n",
    "plt.ylabel('Frequency')\n",
    "plt.xlabel('Price')\n",
    "plt.title('Distribution of prices')\n",
    "\n",
    "plt.show()"
   ]
  },
  {
   "cell_type": "code",
   "execution_count": 59,
   "metadata": {},
   "outputs": [
    {
     "data": {
      "image/png": "[encoded data removed]",
      "text/plain": [
       "<Figure size 640x480 with 1 Axes>"
      ]
     },
     "metadata": {},
     "output_type": "display_data"
    }
   ],
   "source": [
    "sns.histplot(df.msrp, bins=100, color='black', alpha=1)\n",
    "plt.show()"
   ]
  },
  {
   "cell_type": "code",
   "execution_count": 50,
   "metadata": {},
   "outputs": [
    {
     "data": {
      "application/vnd.plotly.v1+json": {
       "config": {
        "plotlyServerURL": "https://plot.ly"
       },
       "data": [
        {
         "bingroup": "x",
         "hovertemplate": "msrp=%{x}<br>count=%{y}<extra></extra>",
         "legendgroup": "",
         "marker": {
          "color": "#636efa",
          "pattern": {
           "shape": ""
          }
         },
         "name": "",
         "nbinsx": 100,
         "orientation": "v",
         "showlegend": false,
         "type": "histogram",
         "x": {
          "bdata": "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",
          "dtype": "i4"
         },
         "xaxis": "x",
         "yaxis": "y"
        }
       ],
       "layout": {
        "barmode": "relative",
        "height": 400,
        "legend": {
         "tracegroupgap": 0
        },
        "template": {
         "data": {
          "bar": [
           {
            "error_x": {
             "color": "rgb(36,36,36)"
            },
            "error_y": {
             "color": "rgb(36,36,36)"
            },
            "marker": {
             "line": {
              "color": "white",
              "width": 0.5
             },
             "pattern": {
              "fillmode": "overlay",
              "size": 10,
              "solidity": 0.2
             }
            },
            "type": "bar"
           }
          ],
          "barpolar": [
           {
            "marker": {
             "line": {
              "color": "white",
              "width": 0.5
             },
             "pattern": {
              "fillmode": "overlay",
              "size": 10,
              "solidity": 0.2
             }
            },
            "type": "barpolar"
           }
          ],
          "carpet": [
           {
            "aaxis": {
             "endlinecolor": "rgb(36,36,36)",
             "gridcolor": "white",
             "linecolor": "white",
             "minorgridcolor": "white",
             "startlinecolor": "rgb(36,36,36)"
            },
            "baxis": {
             "endlinecolor": "rgb(36,36,36)",
             "gridcolor": "white",
             "linecolor": "white",
             "minorgridcolor": "white",
             "startlinecolor": "rgb(36,36,36)"
            },
            "type": "carpet"
           }
          ],
          "choropleth": [
           {
            "colorbar": {
             "outlinewidth": 1,
             "tickcolor": "rgb(36,36,36)",
             "ticks": "outside"
            },
            "type": "choropleth"
           }
          ],
          "contour": [
           {
            "colorbar": {
             "outlinewidth": 1,
             "tickcolor": "rgb(36,36,36)",
             "ticks": "outside"
            },
            "colorscale": [
             [
              0,
              "#440154"
             ],
             [
              0.1111111111111111,
              "#482878"
             ],
             [
              0.2222222222222222,
              "#3e4989"
             ],
             [
              0.3333333333333333,
              "#31688e"
             ],
             [
              0.4444444444444444,
              "#26828e"
             ],
             [
              0.5555555555555556,
              "#1f9e89"
             ],
             [
              0.6666666666666666,
              "#35b779"
             ],
             [
              0.7777777777777778,
              "#6ece58"
             ],
             [
              0.8888888888888888,
              "#b5de2b"
             ],
             [
              1,
              "#fde725"
             ]
            ],
            "type": "contour"
           }
          ],
          "contourcarpet": [
           {
            "colorbar": {
             "outlinewidth": 1,
             "tickcolor": "rgb(36,36,36)",
             "ticks": "outside"
            },
            "type": "contourcarpet"
           }
          ],
          "heatmap": [
           {
            "colorbar": {
             "outlinewidth": 1,
             "tickcolor": "rgb(36,36,36)",
             "ticks": "outside"
            },
            "colorscale": [
             [
              0,
              "#440154"
             ],
             [
              0.1111111111111111,
              "#482878"
             ],
             [
              0.2222222222222222,
              "#3e4989"
             ],
             [
              0.3333333333333333,
              "#31688e"
             ],
             [
              0.4444444444444444,
              "#26828e"
             ],
             [
              0.5555555555555556,
              "#1f9e89"
             ],
             [
              0.6666666666666666,
              "#35b779"
             ],
             [
              0.7777777777777778,
              "#6ece58"
             ],
             [
              0.8888888888888888,
              "#b5de2b"
             ],
             [
              1,
              "#fde725"
             ]
            ],
            "type": "heatmap"
           }
          ],
          "histogram": [
           {
            "marker": {
             "line": {
              "color": "white",
              "width": 0.6
             }
            },
            "type": "histogram"
           }
          ],
          "histogram2d": [
           {
            "colorbar": {
             "outlinewidth": 1,
             "tickcolor": "rgb(36,36,36)",
             "ticks": "outside"
            },
            "colorscale": [
             [
              0,
              "#440154"
             ],
             [
              0.1111111111111111,
              "#482878"
             ],
             [
              0.2222222222222222,
              "#3e4989"
             ],
             [
              0.3333333333333333,
              "#31688e"
             ],
             [
              0.4444444444444444,
              "#26828e"
             ],
             [
              0.5555555555555556,
              "#1f9e89"
             ],
             [
              0.6666666666666666,
              "#35b779"
             ],
             [
              0.7777777777777778,
              "#6ece58"
             ],
             [
              0.8888888888888888,
              "#b5de2b"
             ],
             [
              1,
              "#fde725"
             ]
            ],
            "type": "histogram2d"
           }
          ],
          "histogram2dcontour": [
           {
            "colorbar": {
             "outlinewidth": 1,
             "tickcolor": "rgb(36,36,36)",
             "ticks": "outside"
            },
            "colorscale": [
             [
              0,
              "#440154"
             ],
             [
              0.1111111111111111,
              "#482878"
             ],
             [
              0.2222222222222222,
              "#3e4989"
             ],
             [
              0.3333333333333333,
              "#31688e"
             ],
             [
              0.4444444444444444,
              "#26828e"
             ],
             [
              0.5555555555555556,
              "#1f9e89"
             ],
             [
              0.6666666666666666,
              "#35b779"
             ],
             [
              0.7777777777777778,
              "#6ece58"
             ],
             [
              0.8888888888888888,
              "#b5de2b"
             ],
             [
              1,
              "#fde725"
             ]
            ],
            "type": "histogram2dcontour"
           }
          ],
          "mesh3d": [
           {
            "colorbar": {
             "outlinewidth": 1,
             "tickcolor": "rgb(36,36,36)",
             "ticks": "outside"
            },
            "type": "mesh3d"
           }
          ],
          "parcoords": [
           {
            "line": {
             "colorbar": {
              "outlinewidth": 1,
              "tickcolor": "rgb(36,36,36)",
              "ticks": "outside"
             }
            },
            "type": "parcoords"
           }
          ],
          "pie": [
           {
            "automargin": true,
            "type": "pie"
           }
          ],
          "scatter": [
           {
            "fillpattern": {
             "fillmode": "overlay",
             "size": 10,
             "solidity": 0.2
            },
            "type": "scatter"
           }
          ],
          "scatter3d": [
           {
            "line": {
             "colorbar": {
              "outlinewidth": 1,
              "tickcolor": "rgb(36,36,36)",
              "ticks": "outside"
             }
            },
            "marker": {
             "colorbar": {
              "outlinewidth": 1,
              "tickcolor": "rgb(36,36,36)",
              "ticks": "outside"
             }
            },
            "type": "scatter3d"
           }
          ],
          "scattercarpet": [
           {
            "marker": {
             "colorbar": {
              "outlinewidth": 1,
              "tickcolor": "rgb(36,36,36)",
              "ticks": "outside"
             }
            },
            "type": "scattercarpet"
           }
          ],
          "scattergeo": [
           {
            "marker": {
             "colorbar": {
              "outlinewidth": 1,
              "tickcolor": "rgb(36,36,36)",
              "ticks": "outside"
             }
            },
            "type": "scattergeo"
           }
          ],
          "scattergl": [
           {
            "marker": {
             "colorbar": {
              "outlinewidth": 1,
              "tickcolor": "rgb(36,36,36)",
              "ticks": "outside"
             }
            },
            "type": "scattergl"
           }
          ],
          "scattermap": [
           {
            "marker": {
             "colorbar": {
              "outlinewidth": 1,
              "tickcolor": "rgb(36,36,36)",
              "ticks": "outside"
             }
            },
            "type": "scattermap"
           }
          ],
          "scattermapbox": [
           {
            "marker": {
             "colorbar": {
              "outlinewidth": 1,
              "tickcolor": "rgb(36,36,36)",
              "ticks": "outside"
             }
            },
            "type": "scattermapbox"
           }
          ],
          "scatterpolar": [
           {
            "marker": {
             "colorbar": {
              "outlinewidth": 1,
              "tickcolor": "rgb(36,36,36)",
              "ticks": "outside"
             }
            },
            "type": "scatterpolar"
           }
          ],
          "scatterpolargl": [
           {
            "marker": {
             "colorbar": {
              "outlinewidth": 1,
              "tickcolor": "rgb(36,36,36)",
              "ticks": "outside"
             }
            },
            "type": "scatterpolargl"
           }
          ],
          "scatterternary": [
           {
            "marker": {
             "colorbar": {
              "outlinewidth": 1,
              "tickcolor": "rgb(36,36,36)",
              "ticks": "outside"
             }
            },
            "type": "scatterternary"
           }
          ],
          "surface": [
           {
            "colorbar": {
             "outlinewidth": 1,
             "tickcolor": "rgb(36,36,36)",
             "ticks": "outside"
            },
            "colorscale": [
             [
              0,
              "#440154"
             ],
             [
              0.1111111111111111,
              "#482878"
             ],
             [
              0.2222222222222222,
              "#3e4989"
             ],
             [
              0.3333333333333333,
              "#31688e"
             ],
             [
              0.4444444444444444,
              "#26828e"
             ],
             [
              0.5555555555555556,
              "#1f9e89"
             ],
             [
              0.6666666666666666,
              "#35b779"
             ],
             [
              0.7777777777777778,
              "#6ece58"
             ],
             [
              0.8888888888888888,
              "#b5de2b"
             ],
             [
              1,
              "#fde725"
             ]
            ],
            "type": "surface"
           }
          ],
          "table": [
           {
            "cells": {
             "fill": {
              "color": "rgb(237,237,237)"
             },
             "line": {
              "color": "white"
             }
            },
            "header": {
             "fill": {
              "color": "rgb(217,217,217)"
             },
             "line": {
              "color": "white"
             }
            },
            "type": "table"
           }
          ]
         },
         "layout": {
          "annotationdefaults": {
           "arrowhead": 0,
           "arrowwidth": 1
          },
          "autotypenumbers": "strict",
          "coloraxis": {
           "colorbar": {
            "outlinewidth": 1,
            "tickcolor": "rgb(36,36,36)",
            "ticks": "outside"
           }
          },
          "colorscale": {
           "diverging": [
            [
             0,
             "rgb(103,0,31)"
            ],
            [
             0.1,
             "rgb(178,24,43)"
            ],
            [
             0.2,
             "rgb(214,96,77)"
            ],
            [
             0.3,
             "rgb(244,165,130)"
            ],
            [
             0.4,
             "rgb(253,219,199)"
            ],
            [
             0.5,
             "rgb(247,247,247)"
            ],
            [
             0.6,
             "rgb(209,229,240)"
            ],
            [
             0.7,
             "rgb(146,197,222)"
            ],
            [
             0.8,
             "rgb(67,147,195)"
            ],
            [
             0.9,
             "rgb(33,102,172)"
            ],
            [
             1,
             "rgb(5,48,97)"
            ]
           ],
           "sequential": [
            [
             0,
             "#440154"
            ],
            [
             0.1111111111111111,
             "#482878"
            ],
            [
             0.2222222222222222,
             "#3e4989"
            ],
            [
             0.3333333333333333,
             "#31688e"
            ],
            [
             0.4444444444444444,
             "#26828e"
            ],
            [
             0.5555555555555556,
             "#1f9e89"
            ],
            [
             0.6666666666666666,
             "#35b779"
            ],
            [
             0.7777777777777778,
             "#6ece58"
            ],
            [
             0.8888888888888888,
             "#b5de2b"
            ],
            [
             1,
             "#fde725"
            ]
           ],
           "sequentialminus": [
            [
             0,
             "#440154"
            ],
            [
             0.1111111111111111,
             "#482878"
            ],
            [
             0.2222222222222222,
             "#3e4989"
            ],
            [
             0.3333333333333333,
             "#31688e"
            ],
            [
             0.4444444444444444,
             "#26828e"
            ],
            [
             0.5555555555555556,
             "#1f9e89"
            ],
            [
             0.6666666666666666,
             "#35b779"
            ],
            [
             0.7777777777777778,
             "#6ece58"
            ],
            [
             0.8888888888888888,
             "#b5de2b"
            ],
            [
             1,
             "#fde725"
            ]
           ]
          },
          "colorway": [
           "#1F77B4",
           "#FF7F0E",
           "#2CA02C",
           "#D62728",
           "#9467BD",
           "#8C564B",
           "#E377C2",
           "#7F7F7F",
           "#BCBD22",
           "#17BECF"
          ],
          "font": {
           "color": "rgb(36,36,36)"
          },
          "geo": {
           "bgcolor": "white",
           "lakecolor": "white",
           "landcolor": "white",
           "showlakes": true,
           "showland": true,
           "subunitcolor": "white"
          },
          "hoverlabel": {
           "align": "left"
          },
          "hovermode": "closest",
          "mapbox": {
           "style": "light"
          },
          "paper_bgcolor": "white",
          "plot_bgcolor": "white",
          "polar": {
           "angularaxis": {
            "gridcolor": "rgb(232,232,232)",
            "linecolor": "rgb(36,36,36)",
            "showgrid": false,
            "showline": true,
            "ticks": "outside"
           },
           "bgcolor": "white",
           "radialaxis": {
            "gridcolor": "rgb(232,232,232)",
            "linecolor": "rgb(36,36,36)",
            "showgrid": false,
            "showline": true,
            "ticks": "outside"
           }
          },
          "scene": {
           "xaxis": {
            "backgroundcolor": "white",
            "gridcolor": "rgb(232,232,232)",
            "gridwidth": 2,
            "linecolor": "rgb(36,36,36)",
            "showbackground": true,
            "showgrid": false,
            "showline": true,
            "ticks": "outside",
            "zeroline": false,
            "zerolinecolor": "rgb(36,36,36)"
           },
           "yaxis": {
            "backgroundcolor": "white",
            "gridcolor": "rgb(232,232,232)",
            "gridwidth": 2,
            "linecolor": "rgb(36,36,36)",
            "showbackground": true,
            "showgrid": false,
            "showline": true,
            "ticks": "outside",
            "zeroline": false,
            "zerolinecolor": "rgb(36,36,36)"
           },
           "zaxis": {
            "backgroundcolor": "white",
            "gridcolor": "rgb(232,232,232)",
            "gridwidth": 2,
            "linecolor": "rgb(36,36,36)",
            "showbackground": true,
            "showgrid": false,
            "showline": true,
            "ticks": "outside",
            "zeroline": false,
            "zerolinecolor": "rgb(36,36,36)"
           }
          },
          "shapedefaults": {
           "fillcolor": "black",
           "line": {
            "width": 0
           },
           "opacity": 0.3
          },
          "ternary": {
           "aaxis": {
            "gridcolor": "rgb(232,232,232)",
            "linecolor": "rgb(36,36,36)",
            "showgrid": false,
            "showline": true,
            "ticks": "outside"
           },
           "baxis": {
            "gridcolor": "rgb(232,232,232)",
            "linecolor": "rgb(36,36,36)",
            "showgrid": false,
            "showline": true,
            "ticks": "outside"
           },
           "bgcolor": "white",
           "caxis": {
            "gridcolor": "rgb(232,232,232)",
            "linecolor": "rgb(36,36,36)",
            "showgrid": false,
            "showline": true,
            "ticks": "outside"
           }
          },
          "title": {
           "x": 0.05
          },
          "xaxis": {
           "automargin": true,
           "gridcolor": "rgb(232,232,232)",
           "linecolor": "rgb(36,36,36)",
           "showgrid": false,
           "showline": true,
           "ticks": "outside",
           "title": {
            "standoff": 15
           },
           "zeroline": false,
           "zerolinecolor": "rgb(36,36,36)"
          },
          "yaxis": {
           "automargin": true,
           "gridcolor": "rgb(232,232,232)",
           "linecolor": "rgb(36,36,36)",
           "showgrid": false,
           "showline": true,
           "ticks": "outside",
           "title": {
            "standoff": 15
           },
           "zeroline": false,
           "zerolinecolor": "rgb(36,36,36)"
          }
         }
        },
        "title": {
         "text": "Distribution of prices"
        },
        "width": 600,
        "xaxis": {
         "anchor": "y",
         "domain": [
          0,
          1
         ],
         "title": {
          "text": "Price"
         }
        },
        "yaxis": {
         "anchor": "x",
         "domain": [
          0,
          1
         ],
         "title": {
          "text": "Frequency"
         }
        }
       }
      }
     },
     "metadata": {},
     "output_type": "display_data"
    }
   ],
   "source": [
    "import plotly.express as px\n",
    "\n",
    "fig = px.histogram(df, x='msrp',nbins=100, title='Distribution of prices')\n",
    "fig.update_layout(width=600, height=400,template='simple_white')\n",
    "fig.update_xaxes(title_text='Price')\n",
    "fig.update_yaxes(title_text='Frequency')\n",
    "fig.show()"
   ]
  },
  {
   "cell_type": "code",
   "execution_count": null,
   "metadata": {},
   "outputs": [
    {
     "data": {
      "application/vnd.plotly.v1+json": {
       "config": {
        "plotlyServerURL": "https://plot.ly"
       },
       "data": [
        {
         "bingroup": "x",
         "hovertemplate": "variable=msrp<br>value=%{x}<br>count=%{y}<extra></extra>",
         "legendgroup": "msrp",
         "marker": {
          "color": "#636efa",
          "pattern": {
           "shape": ""
          }
         },
         "name": "msrp",
         "nbinsx": 50,
         "orientation": "v",
         "showlegend": true,
         "type": "histogram",
         "x": {
          "bdata": "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",
          "dtype": "f8"
         },
         "xaxis": "x",
         "yaxis": "y"
        }
       ],
       "layout": {
        "barmode": "relative",
        "height": 400,
        "legend": {
         "title": {
          "text": "variable"
         },
         "tracegroupgap": 0
        },
        "template": {
         "data": {
          "bar": [
           {
            "error_x": {
             "color": "rgb(36,36,36)"
            },
            "error_y": {
             "color": "rgb(36,36,36)"
            },
            "marker": {
             "line": {
              "color": "white",
              "width": 0.5
             },
             "pattern": {
              "fillmode": "overlay",
              "size": 10,
              "solidity": 0.2
             }
            },
            "type": "bar"
           }
          ],
          "barpolar": [
           {
            "marker": {
             "line": {
              "color": "white",
              "width": 0.5
             },
             "pattern": {
              "fillmode": "overlay",
              "size": 10,
              "solidity": 0.2
             }
            },
            "type": "barpolar"
           }
          ],
          "carpet": [
           {
            "aaxis": {
             "endlinecolor": "rgb(36,36,36)",
             "gridcolor": "white",
             "linecolor": "white",
             "minorgridcolor": "white",
             "startlinecolor": "rgb(36,36,36)"
            },
            "baxis": {
             "endlinecolor": "rgb(36,36,36)",
             "gridcolor": "white",
             "linecolor": "white",
             "minorgridcolor": "white",
             "startlinecolor": "rgb(36,36,36)"
            },
            "type": "carpet"
           }
          ],
          "choropleth": [
           {
            "colorbar": {
             "outlinewidth": 1,
             "tickcolor": "rgb(36,36,36)",
             "ticks": "outside"
            },
            "type": "choropleth"
           }
          ],
          "contour": [
           {
            "colorbar": {
             "outlinewidth": 1,
             "tickcolor": "rgb(36,36,36)",
             "ticks": "outside"
            },
            "colorscale": [
             [
              0,
              "#440154"
             ],
             [
              0.1111111111111111,
              "#482878"
             ],
             [
              0.2222222222222222,
              "#3e4989"
             ],
             [
              0.3333333333333333,
              "#31688e"
             ],
             [
              0.4444444444444444,
              "#26828e"
             ],
             [
              0.5555555555555556,
              "#1f9e89"
             ],
             [
              0.6666666666666666,
              "#35b779"
             ],
             [
              0.7777777777777778,
              "#6ece58"
             ],
             [
              0.8888888888888888,
              "#b5de2b"
             ],
             [
              1,
              "#fde725"
             ]
            ],
            "type": "contour"
           }
          ],
          "contourcarpet": [
           {
            "colorbar": {
             "outlinewidth": 1,
             "tickcolor": "rgb(36,36,36)",
             "ticks": "outside"
            },
            "type": "contourcarpet"
           }
          ],
          "heatmap": [
           {
            "colorbar": {
             "outlinewidth": 1,
             "tickcolor": "rgb(36,36,36)",
             "ticks": "outside"
            },
            "colorscale": [
             [
              0,
              "#440154"
             ],
             [
              0.1111111111111111,
              "#482878"
             ],
             [
              0.2222222222222222,
              "#3e4989"
             ],
             [
              0.3333333333333333,
              "#31688e"
             ],
             [
              0.4444444444444444,
              "#26828e"
             ],
             [
              0.5555555555555556,
              "#1f9e89"
             ],
             [
              0.6666666666666666,
              "#35b779"
             ],
             [
              0.7777777777777778,
              "#6ece58"
             ],
             [
              0.8888888888888888,
              "#b5de2b"
             ],
             [
              1,
              "#fde725"
             ]
            ],
            "type": "heatmap"
           }
          ],
          "histogram": [
           {
            "marker": {
             "line": {
              "color": "white",
              "width": 0.6
             }
            },
            "type": "histogram"
           }
          ],
          "histogram2d": [
           {
            "colorbar": {
             "outlinewidth": 1,
             "tickcolor": "rgb(36,36,36)",
             "ticks": "outside"
            },
            "colorscale": [
             [
              0,
              "#440154"
             ],
             [
              0.1111111111111111,
              "#482878"
             ],
             [
              0.2222222222222222,
              "#3e4989"
             ],
             [
              0.3333333333333333,
              "#31688e"
             ],
             [
              0.4444444444444444,
              "#26828e"
             ],
             [
              0.5555555555555556,
              "#1f9e89"
             ],
             [
              0.6666666666666666,
              "#35b779"
             ],
             [
              0.7777777777777778,
              "#6ece58"
             ],
             [
              0.8888888888888888,
              "#b5de2b"
             ],
             [
              1,
              "#fde725"
             ]
            ],
            "type": "histogram2d"
           }
          ],
          "histogram2dcontour": [
           {
            "colorbar": {
             "outlinewidth": 1,
             "tickcolor": "rgb(36,36,36)",
             "ticks": "outside"
            },
            "colorscale": [
             [
              0,
              "#440154"
             ],
             [
              0.1111111111111111,
              "#482878"
             ],
             [
              0.2222222222222222,
              "#3e4989"
             ],
             [
              0.3333333333333333,
              "#31688e"
             ],
             [
              0.4444444444444444,
              "#26828e"
             ],
             [
              0.5555555555555556,
              "#1f9e89"
             ],
             [
              0.6666666666666666,
              "#35b779"
             ],
             [
              0.7777777777777778,
              "#6ece58"
             ],
             [
              0.8888888888888888,
              "#b5de2b"
             ],
             [
              1,
              "#fde725"
             ]
            ],
            "type": "histogram2dcontour"
           }
          ],
          "mesh3d": [
           {
            "colorbar": {
             "outlinewidth": 1,
             "tickcolor": "rgb(36,36,36)",
             "ticks": "outside"
            },
            "type": "mesh3d"
           }
          ],
          "parcoords": [
           {
            "line": {
             "colorbar": {
              "outlinewidth": 1,
              "tickcolor": "rgb(36,36,36)",
              "ticks": "outside"
             }
            },
            "type": "parcoords"
           }
          ],
          "pie": [
           {
            "automargin": true,
            "type": "pie"
           }
          ],
          "scatter": [
           {
            "fillpattern": {
             "fillmode": "overlay",
             "size": 10,
             "solidity": 0.2
            },
            "type": "scatter"
           }
          ],
          "scatter3d": [
           {
            "line": {
             "colorbar": {
              "outlinewidth": 1,
              "tickcolor": "rgb(36,36,36)",
              "ticks": "outside"
             }
            },
            "marker": {
             "colorbar": {
              "outlinewidth": 1,
              "tickcolor": "rgb(36,36,36)",
              "ticks": "outside"
             }
            },
            "type": "scatter3d"
           }
          ],
          "scattercarpet": [
           {
            "marker": {
             "colorbar": {
              "outlinewidth": 1,
              "tickcolor": "rgb(36,36,36)",
              "ticks": "outside"
             }
            },
            "type": "scattercarpet"
           }
          ],
          "scattergeo": [
           {
            "marker": {
             "colorbar": {
              "outlinewidth": 1,
              "tickcolor": "rgb(36,36,36)",
              "ticks": "outside"
             }
            },
            "type": "scattergeo"
           }
          ],
          "scattergl": [
           {
            "marker": {
             "colorbar": {
              "outlinewidth": 1,
              "tickcolor": "rgb(36,36,36)",
              "ticks": "outside"
             }
            },
            "type": "scattergl"
           }
          ],
          "scattermap": [
           {
            "marker": {
             "colorbar": {
              "outlinewidth": 1,
              "tickcolor": "rgb(36,36,36)",
              "ticks": "outside"
             }
            },
            "type": "scattermap"
           }
          ],
          "scattermapbox": [
           {
            "marker": {
             "colorbar": {
              "outlinewidth": 1,
              "tickcolor": "rgb(36,36,36)",
              "ticks": "outside"
             }
            },
            "type": "scattermapbox"
           }
          ],
          "scatterpolar": [
           {
            "marker": {
             "colorbar": {
              "outlinewidth": 1,
              "tickcolor": "rgb(36,36,36)",
              "ticks": "outside"
             }
            },
            "type": "scatterpolar"
           }
          ],
          "scatterpolargl": [
           {
            "marker": {
             "colorbar": {
              "outlinewidth": 1,
              "tickcolor": "rgb(36,36,36)",
              "ticks": "outside"
             }
            },
            "type": "scatterpolargl"
           }
          ],
          "scatterternary": [
           {
            "marker": {
             "colorbar": {
              "outlinewidth": 1,
              "tickcolor": "rgb(36,36,36)",
              "ticks": "outside"
             }
            },
            "type": "scatterternary"
           }
          ],
          "surface": [
           {
            "colorbar": {
             "outlinewidth": 1,
             "tickcolor": "rgb(36,36,36)",
             "ticks": "outside"
            },
            "colorscale": [
             [
              0,
              "#440154"
             ],
             [
              0.1111111111111111,
              "#482878"
             ],
             [
              0.2222222222222222,
              "#3e4989"
             ],
             [
              0.3333333333333333,
              "#31688e"
             ],
             [
              0.4444444444444444,
              "#26828e"
             ],
             [
              0.5555555555555556,
              "#1f9e89"
             ],
             [
              0.6666666666666666,
              "#35b779"
             ],
             [
              0.7777777777777778,
              "#6ece58"
             ],
             [
              0.8888888888888888,
              "#b5de2b"
             ],
             [
              1,
              "#fde725"
             ]
            ],
            "type": "surface"
           }
          ],
          "table": [
           {
            "cells": {
             "fill": {
              "color": "rgb(237,237,237)"
             },
             "line": {
              "color": "white"
             }
            },
            "header": {
             "fill": {
              "color": "rgb(217,217,217)"
             },
             "line": {
              "color": "white"
             }
            },
            "type": "table"
           }
          ]
         },
         "layout": {
          "annotationdefaults": {
           "arrowhead": 0,
           "arrowwidth": 1
          },
          "autotypenumbers": "strict",
          "coloraxis": {
           "colorbar": {
            "outlinewidth": 1,
            "tickcolor": "rgb(36,36,36)",
            "ticks": "outside"
           }
          },
          "colorscale": {
           "diverging": [
            [
             0,
             "rgb(103,0,31)"
            ],
            [
             0.1,
             "rgb(178,24,43)"
            ],
            [
             0.2,
             "rgb(214,96,77)"
            ],
            [
             0.3,
             "rgb(244,165,130)"
            ],
            [
             0.4,
             "rgb(253,219,199)"
            ],
            [
             0.5,
             "rgb(247,247,247)"
            ],
            [
             0.6,
             "rgb(209,229,240)"
            ],
            [
             0.7,
             "rgb(146,197,222)"
            ],
            [
             0.8,
             "rgb(67,147,195)"
            ],
            [
             0.9,
             "rgb(33,102,172)"
            ],
            [
             1,
             "rgb(5,48,97)"
            ]
           ],
           "sequential": [
            [
             0,
             "#440154"
            ],
            [
             0.1111111111111111,
             "#482878"
            ],
            [
             0.2222222222222222,
             "#3e4989"
            ],
            [
             0.3333333333333333,
             "#31688e"
            ],
            [
             0.4444444444444444,
             "#26828e"
            ],
            [
             0.5555555555555556,
             "#1f9e89"
            ],
            [
             0.6666666666666666,
             "#35b779"
            ],
            [
             0.7777777777777778,
             "#6ece58"
            ],
            [
             0.8888888888888888,
             "#b5de2b"
            ],
            [
             1,
             "#fde725"
            ]
           ],
           "sequentialminus": [
            [
             0,
             "#440154"
            ],
            [
             0.1111111111111111,
             "#482878"
            ],
            [
             0.2222222222222222,
             "#3e4989"
            ],
            [
             0.3333333333333333,
             "#31688e"
            ],
            [
             0.4444444444444444,
             "#26828e"
            ],
            [
             0.5555555555555556,
             "#1f9e89"
            ],
            [
             0.6666666666666666,
             "#35b779"
            ],
            [
             0.7777777777777778,
             "#6ece58"
            ],
            [
             0.8888888888888888,
             "#b5de2b"
            ],
            [
             1,
             "#fde725"
            ]
           ]
          },
          "colorway": [
           "#1F77B4",
           "#FF7F0E",
           "#2CA02C",
           "#D62728",
           "#9467BD",
           "#8C564B",
           "#E377C2",
           "#7F7F7F",
           "#BCBD22",
           "#17BECF"
          ],
          "font": {
           "color": "rgb(36,36,36)"
          },
          "geo": {
           "bgcolor": "white",
           "lakecolor": "white",
           "landcolor": "white",
           "showlakes": true,
           "showland": true,
           "subunitcolor": "white"
          },
          "hoverlabel": {
           "align": "left"
          },
          "hovermode": "closest",
          "mapbox": {
           "style": "light"
          },
          "paper_bgcolor": "white",
          "plot_bgcolor": "white",
          "polar": {
           "angularaxis": {
            "gridcolor": "rgb(232,232,232)",
            "linecolor": "rgb(36,36,36)",
            "showgrid": false,
            "showline": true,
            "ticks": "outside"
           },
           "bgcolor": "white",
           "radialaxis": {
            "gridcolor": "rgb(232,232,232)",
            "linecolor": "rgb(36,36,36)",
            "showgrid": false,
            "showline": true,
            "ticks": "outside"
           }
          },
          "scene": {
           "xaxis": {
            "backgroundcolor": "white",
            "gridcolor": "rgb(232,232,232)",
            "gridwidth": 2,
            "linecolor": "rgb(36,36,36)",
            "showbackground": true,
            "showgrid": false,
            "showline": true,
            "ticks": "outside",
            "zeroline": false,
            "zerolinecolor": "rgb(36,36,36)"
           },
           "yaxis": {
            "backgroundcolor": "white",
            "gridcolor": "rgb(232,232,232)",
            "gridwidth": 2,
            "linecolor": "rgb(36,36,36)",
            "showbackground": true,
            "showgrid": false,
            "showline": true,
            "ticks": "outside",
            "zeroline": false,
            "zerolinecolor": "rgb(36,36,36)"
           },
           "zaxis": {
            "backgroundcolor": "white",
            "gridcolor": "rgb(232,232,232)",
            "gridwidth": 2,
            "linecolor": "rgb(36,36,36)",
            "showbackground": true,
            "showgrid": false,
            "showline": true,
            "ticks": "outside",
            "zeroline": false,
            "zerolinecolor": "rgb(36,36,36)"
           }
          },
          "shapedefaults": {
           "fillcolor": "black",
           "line": {
            "width": 0
           },
           "opacity": 0.3
          },
          "ternary": {
           "aaxis": {
            "gridcolor": "rgb(232,232,232)",
            "linecolor": "rgb(36,36,36)",
            "showgrid": false,
            "showline": true,
            "ticks": "outside"
           },
           "baxis": {
            "gridcolor": "rgb(232,232,232)",
            "linecolor": "rgb(36,36,36)",
            "showgrid": false,
            "showline": true,
            "ticks": "outside"
           },
           "bgcolor": "white",
           "caxis": {
            "gridcolor": "rgb(232,232,232)",
            "linecolor": "rgb(36,36,36)",
            "showgrid": false,
            "showline": true,
            "ticks": "outside"
           }
          },
          "title": {
           "x": 0.05
          },
          "xaxis": {
           "automargin": true,
           "gridcolor": "rgb(232,232,232)",
           "linecolor": "rgb(36,36,36)",
           "showgrid": false,
           "showline": true,
           "ticks": "outside",
           "title": {
            "standoff": 15
           },
           "zeroline": false,
           "zerolinecolor": "rgb(36,36,36)"
          },
          "yaxis": {
           "automargin": true,
           "gridcolor": "rgb(232,232,232)",
           "linecolor": "rgb(36,36,36)",
           "showgrid": false,
           "showline": true,
           "ticks": "outside",
           "title": {
            "standoff": 15
           },
           "zeroline": false,
           "zerolinecolor": "rgb(36,36,36)"
          }
         }
        },
        "title": {
         "text": "Distribution of prices"
        },
        "width": 600,
        "xaxis": {
         "anchor": "y",
         "domain": [
          0,
          1
         ],
         "title": {
          "text": "Price"
         }
        },
        "yaxis": {
         "anchor": "x",
         "domain": [
          0,
          1
         ],
         "title": {
          "text": "Frequency"
         }
        }
       }
      }
     },
     "metadata": {},
     "output_type": "display_data"
    }
   ],
   "source": [
    "# transform long tail msrp distribution to normal distribution\n",
    "# log1p is log(1 + x)\n",
    "fig = px.histogram(np.log1p(df.msrp),nbins=50,title='Distribution of prices')\n",
    "fig.update_layout(width=600, height=400,template='simple_white')\n",
    "fig.update_xaxes(title_text='Price')\n",
    "fig.update_yaxes(title_text='Frequency')\n",
    "fig.show()"
   ]
  },
  {
   "cell_type": "code",
   "execution_count": 66,
   "metadata": {},
   "outputs": [
    {
     "data": {
      "application/vnd.plotly.v1+json": {
       "config": {
        "plotlyServerURL": "https://plot.ly"
       },
       "data": [
        {
         "alignmentgroup": "True",
         "hovertemplate": "msrp=%{y}<extra></extra>",
         "legendgroup": "",
         "marker": {
          "color": "#636efa"
         },
         "name": "",
         "notched": false,
         "offsetgroup": "",
         "orientation": "v",
         "showlegend": false,
         "type": "box",
         "x0": " ",
         "xaxis": "x",
         "y": {
          "bdata": "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",
          "dtype": "i4"
         },
         "y0": " ",
         "yaxis": "y"
        }
       ],
       "layout": {
        "boxmode": "group",
        "height": 400,
        "legend": {
         "tracegroupgap": 0
        },
        "margin": {
         "t": 60
        },
        "template": {
         "data": {
          "bar": [
           {
            "error_x": {
             "color": "rgb(36,36,36)"
            },
            "error_y": {
             "color": "rgb(36,36,36)"
            },
            "marker": {
             "line": {
              "color": "white",
              "width": 0.5
             },
             "pattern": {
              "fillmode": "overlay",
              "size": 10,
              "solidity": 0.2
             }
            },
            "type": "bar"
           }
          ],
          "barpolar": [
           {
            "marker": {
             "line": {
              "color": "white",
              "width": 0.5
             },
             "pattern": {
              "fillmode": "overlay",
              "size": 10,
              "solidity": 0.2
             }
            },
            "type": "barpolar"
           }
          ],
          "carpet": [
           {
            "aaxis": {
             "endlinecolor": "rgb(36,36,36)",
             "gridcolor": "white",
             "linecolor": "white",
             "minorgridcolor": "white",
             "startlinecolor": "rgb(36,36,36)"
            },
            "baxis": {
             "endlinecolor": "rgb(36,36,36)",
             "gridcolor": "white",
             "linecolor": "white",
             "minorgridcolor": "white",
             "startlinecolor": "rgb(36,36,36)"
            },
            "type": "carpet"
           }
          ],
          "choropleth": [
           {
            "colorbar": {
             "outlinewidth": 1,
             "tickcolor": "rgb(36,36,36)",
             "ticks": "outside"
            },
            "type": "choropleth"
           }
          ],
          "contour": [
           {
            "colorbar": {
             "outlinewidth": 1,
             "tickcolor": "rgb(36,36,36)",
             "ticks": "outside"
            },
            "colorscale": [
             [
              0,
              "#440154"
             ],
             [
              0.1111111111111111,
              "#482878"
             ],
             [
              0.2222222222222222,
              "#3e4989"
             ],
             [
              0.3333333333333333,
              "#31688e"
             ],
             [
              0.4444444444444444,
              "#26828e"
             ],
             [
              0.5555555555555556,
              "#1f9e89"
             ],
             [
              0.6666666666666666,
              "#35b779"
             ],
             [
              0.7777777777777778,
              "#6ece58"
             ],
             [
              0.8888888888888888,
              "#b5de2b"
             ],
             [
              1,
              "#fde725"
             ]
            ],
            "type": "contour"
           }
          ],
          "contourcarpet": [
           {
            "colorbar": {
             "outlinewidth": 1,
             "tickcolor": "rgb(36,36,36)",
             "ticks": "outside"
            },
            "type": "contourcarpet"
           }
          ],
          "heatmap": [
           {
            "colorbar": {
             "outlinewidth": 1,
             "tickcolor": "rgb(36,36,36)",
             "ticks": "outside"
            },
            "colorscale": [
             [
              0,
              "#440154"
             ],
             [
              0.1111111111111111,
              "#482878"
             ],
             [
              0.2222222222222222,
              "#3e4989"
             ],
             [
              0.3333333333333333,
              "#31688e"
             ],
             [
              0.4444444444444444,
              "#26828e"
             ],
             [
              0.5555555555555556,
              "#1f9e89"
             ],
             [
              0.6666666666666666,
              "#35b779"
             ],
             [
              0.7777777777777778,
              "#6ece58"
             ],
             [
              0.8888888888888888,
              "#b5de2b"
             ],
             [
              1,
              "#fde725"
             ]
            ],
            "type": "heatmap"
           }
          ],
          "histogram": [
           {
            "marker": {
             "line": {
              "color": "white",
              "width": 0.6
             }
            },
            "type": "histogram"
           }
          ],
          "histogram2d": [
           {
            "colorbar": {
             "outlinewidth": 1,
             "tickcolor": "rgb(36,36,36)",
             "ticks": "outside"
            },
            "colorscale": [
             [
              0,
              "#440154"
             ],
             [
              0.1111111111111111,
              "#482878"
             ],
             [
              0.2222222222222222,
              "#3e4989"
             ],
             [
              0.3333333333333333,
              "#31688e"
             ],
             [
              0.4444444444444444,
              "#26828e"
             ],
             [
              0.5555555555555556,
              "#1f9e89"
             ],
             [
              0.6666666666666666,
              "#35b779"
             ],
             [
              0.7777777777777778,
              "#6ece58"
             ],
             [
              0.8888888888888888,
              "#b5de2b"
             ],
             [
              1,
              "#fde725"
             ]
            ],
            "type": "histogram2d"
           }
          ],
          "histogram2dcontour": [
           {
            "colorbar": {
             "outlinewidth": 1,
             "tickcolor": "rgb(36,36,36)",
             "ticks": "outside"
            },
            "colorscale": [
             [
              0,
              "#440154"
             ],
             [
              0.1111111111111111,
              "#482878"
             ],
             [
              0.2222222222222222,
              "#3e4989"
             ],
             [
              0.3333333333333333,
              "#31688e"
             ],
             [
              0.4444444444444444,
              "#26828e"
             ],
             [
              0.5555555555555556,
              "#1f9e89"
             ],
             [
              0.6666666666666666,
              "#35b779"
             ],
             [
              0.7777777777777778,
              "#6ece58"
             ],
             [
              0.8888888888888888,
              "#b5de2b"
             ],
             [
              1,
              "#fde725"
             ]
            ],
            "type": "histogram2dcontour"
           }
          ],
          "mesh3d": [
           {
            "colorbar": {
             "outlinewidth": 1,
             "tickcolor": "rgb(36,36,36)",
             "ticks": "outside"
            },
            "type": "mesh3d"
           }
          ],
          "parcoords": [
           {
            "line": {
             "colorbar": {
              "outlinewidth": 1,
              "tickcolor": "rgb(36,36,36)",
              "ticks": "outside"
             }
            },
            "type": "parcoords"
           }
          ],
          "pie": [
           {
            "automargin": true,
            "type": "pie"
           }
          ],
          "scatter": [
           {
            "fillpattern": {
             "fillmode": "overlay",
             "size": 10,
             "solidity": 0.2
            },
            "type": "scatter"
           }
          ],
          "scatter3d": [
           {
            "line": {
             "colorbar": {
              "outlinewidth": 1,
              "tickcolor": "rgb(36,36,36)",
              "ticks": "outside"
             }
            },
            "marker": {
             "colorbar": {
              "outlinewidth": 1,
              "tickcolor": "rgb(36,36,36)",
              "ticks": "outside"
             }
            },
            "type": "scatter3d"
           }
          ],
          "scattercarpet": [
           {
            "marker": {
             "colorbar": {
              "outlinewidth": 1,
              "tickcolor": "rgb(36,36,36)",
              "ticks": "outside"
             }
            },
            "type": "scattercarpet"
           }
          ],
          "scattergeo": [
           {
            "marker": {
             "colorbar": {
              "outlinewidth": 1,
              "tickcolor": "rgb(36,36,36)",
              "ticks": "outside"
             }
            },
            "type": "scattergeo"
           }
          ],
          "scattergl": [
           {
            "marker": {
             "colorbar": {
              "outlinewidth": 1,
              "tickcolor": "rgb(36,36,36)",
              "ticks": "outside"
             }
            },
            "type": "scattergl"
           }
          ],
          "scattermap": [
           {
            "marker": {
             "colorbar": {
              "outlinewidth": 1,
              "tickcolor": "rgb(36,36,36)",
              "ticks": "outside"
             }
            },
            "type": "scattermap"
           }
          ],
          "scattermapbox": [
           {
            "marker": {
             "colorbar": {
              "outlinewidth": 1,
              "tickcolor": "rgb(36,36,36)",
              "ticks": "outside"
             }
            },
            "type": "scattermapbox"
           }
          ],
          "scatterpolar": [
           {
            "marker": {
             "colorbar": {
              "outlinewidth": 1,
              "tickcolor": "rgb(36,36,36)",
              "ticks": "outside"
             }
            },
            "type": "scatterpolar"
           }
          ],
          "scatterpolargl": [
           {
            "marker": {
             "colorbar": {
              "outlinewidth": 1,
              "tickcolor": "rgb(36,36,36)",
              "ticks": "outside"
             }
            },
            "type": "scatterpolargl"
           }
          ],
          "scatterternary": [
           {
            "marker": {
             "colorbar": {
              "outlinewidth": 1,
              "tickcolor": "rgb(36,36,36)",
              "ticks": "outside"
             }
            },
            "type": "scatterternary"
           }
          ],
          "surface": [
           {
            "colorbar": {
             "outlinewidth": 1,
             "tickcolor": "rgb(36,36,36)",
             "ticks": "outside"
            },
            "colorscale": [
             [
              0,
              "#440154"
             ],
             [
              0.1111111111111111,
              "#482878"
             ],
             [
              0.2222222222222222,
              "#3e4989"
             ],
             [
              0.3333333333333333,
              "#31688e"
             ],
             [
              0.4444444444444444,
              "#26828e"
             ],
             [
              0.5555555555555556,
              "#1f9e89"
             ],
             [
              0.6666666666666666,
              "#35b779"
             ],
             [
              0.7777777777777778,
              "#6ece58"
             ],
             [
              0.8888888888888888,
              "#b5de2b"
             ],
             [
              1,
              "#fde725"
             ]
            ],
            "type": "surface"
           }
          ],
          "table": [
           {
            "cells": {
             "fill": {
              "color": "rgb(237,237,237)"
             },
             "line": {
              "color": "white"
             }
            },
            "header": {
             "fill": {
              "color": "rgb(217,217,217)"
             },
             "line": {
              "color": "white"
             }
            },
            "type": "table"
           }
          ]
         },
         "layout": {
          "annotationdefaults": {
           "arrowhead": 0,
           "arrowwidth": 1
          },
          "autotypenumbers": "strict",
          "coloraxis": {
           "colorbar": {
            "outlinewidth": 1,
            "tickcolor": "rgb(36,36,36)",
            "ticks": "outside"
           }
          },
          "colorscale": {
           "diverging": [
            [
             0,
             "rgb(103,0,31)"
            ],
            [
             0.1,
             "rgb(178,24,43)"
            ],
            [
             0.2,
             "rgb(214,96,77)"
            ],
            [
             0.3,
             "rgb(244,165,130)"
            ],
            [
             0.4,
             "rgb(253,219,199)"
            ],
            [
             0.5,
             "rgb(247,247,247)"
            ],
            [
             0.6,
             "rgb(209,229,240)"
            ],
            [
             0.7,
             "rgb(146,197,222)"
            ],
            [
             0.8,
             "rgb(67,147,195)"
            ],
            [
             0.9,
             "rgb(33,102,172)"
            ],
            [
             1,
             "rgb(5,48,97)"
            ]
           ],
           "sequential": [
            [
             0,
             "#440154"
            ],
            [
             0.1111111111111111,
             "#482878"
            ],
            [
             0.2222222222222222,
             "#3e4989"
            ],
            [
             0.3333333333333333,
             "#31688e"
            ],
            [
             0.4444444444444444,
             "#26828e"
            ],
            [
             0.5555555555555556,
             "#1f9e89"
            ],
            [
             0.6666666666666666,
             "#35b779"
            ],
            [
             0.7777777777777778,
             "#6ece58"
            ],
            [
             0.8888888888888888,
             "#b5de2b"
            ],
            [
             1,
             "#fde725"
            ]
           ],
           "sequentialminus": [
            [
             0,
             "#440154"
            ],
            [
             0.1111111111111111,
             "#482878"
            ],
            [
             0.2222222222222222,
             "#3e4989"
            ],
            [
             0.3333333333333333,
             "#31688e"
            ],
            [
             0.4444444444444444,
             "#26828e"
            ],
            [
             0.5555555555555556,
             "#1f9e89"
            ],
            [
             0.6666666666666666,
             "#35b779"
            ],
            [
             0.7777777777777778,
             "#6ece58"
            ],
            [
             0.8888888888888888,
             "#b5de2b"
            ],
            [
             1,
             "#fde725"
            ]
           ]
          },
          "colorway": [
           "#1F77B4",
           "#FF7F0E",
           "#2CA02C",
           "#D62728",
           "#9467BD",
           "#8C564B",
           "#E377C2",
           "#7F7F7F",
           "#BCBD22",
           "#17BECF"
          ],
          "font": {
           "color": "rgb(36,36,36)"
          },
          "geo": {
           "bgcolor": "white",
           "lakecolor": "white",
           "landcolor": "white",
           "showlakes": true,
           "showland": true,
           "subunitcolor": "white"
          },
          "hoverlabel": {
           "align": "left"
          },
          "hovermode": "closest",
          "mapbox": {
           "style": "light"
          },
          "paper_bgcolor": "white",
          "plot_bgcolor": "white",
          "polar": {
           "angularaxis": {
            "gridcolor": "rgb(232,232,232)",
            "linecolor": "rgb(36,36,36)",
            "showgrid": false,
            "showline": true,
            "ticks": "outside"
           },
           "bgcolor": "white",
           "radialaxis": {
            "gridcolor": "rgb(232,232,232)",
            "linecolor": "rgb(36,36,36)",
            "showgrid": false,
            "showline": true,
            "ticks": "outside"
           }
          },
          "scene": {
           "xaxis": {
            "backgroundcolor": "white",
            "gridcolor": "rgb(232,232,232)",
            "gridwidth": 2,
            "linecolor": "rgb(36,36,36)",
            "showbackground": true,
            "showgrid": false,
            "showline": true,
            "ticks": "outside",
            "zeroline": false,
            "zerolinecolor": "rgb(36,36,36)"
           },
           "yaxis": {
            "backgroundcolor": "white",
            "gridcolor": "rgb(232,232,232)",
            "gridwidth": 2,
            "linecolor": "rgb(36,36,36)",
            "showbackground": true,
            "showgrid": false,
            "showline": true,
            "ticks": "outside",
            "zeroline": false,
            "zerolinecolor": "rgb(36,36,36)"
           },
           "zaxis": {
            "backgroundcolor": "white",
            "gridcolor": "rgb(232,232,232)",
            "gridwidth": 2,
            "linecolor": "rgb(36,36,36)",
            "showbackground": true,
            "showgrid": false,
            "showline": true,
            "ticks": "outside",
            "zeroline": false,
            "zerolinecolor": "rgb(36,36,36)"
           }
          },
          "shapedefaults": {
           "fillcolor": "black",
           "line": {
            "width": 0
           },
           "opacity": 0.3
          },
          "ternary": {
           "aaxis": {
            "gridcolor": "rgb(232,232,232)",
            "linecolor": "rgb(36,36,36)",
            "showgrid": false,
            "showline": true,
            "ticks": "outside"
           },
           "baxis": {
            "gridcolor": "rgb(232,232,232)",
            "linecolor": "rgb(36,36,36)",
            "showgrid": false,
            "showline": true,
            "ticks": "outside"
           },
           "bgcolor": "white",
           "caxis": {
            "gridcolor": "rgb(232,232,232)",
            "linecolor": "rgb(36,36,36)",
            "showgrid": false,
            "showline": true,
            "ticks": "outside"
           }
          },
          "title": {
           "x": 0.05
          },
          "xaxis": {
           "automargin": true,
           "gridcolor": "rgb(232,232,232)",
           "linecolor": "rgb(36,36,36)",
           "showgrid": false,
           "showline": true,
           "ticks": "outside",
           "title": {
            "standoff": 15
           },
           "zeroline": false,
           "zerolinecolor": "rgb(36,36,36)"
          },
          "yaxis": {
           "automargin": true,
           "gridcolor": "rgb(232,232,232)",
           "linecolor": "rgb(36,36,36)",
           "showgrid": false,
           "showline": true,
           "ticks": "outside",
           "title": {
            "standoff": 15
           },
           "zeroline": false,
           "zerolinecolor": "rgb(36,36,36)"
          }
         }
        },
        "title": {
         "text": "Box plot of prices"
        },
        "width": 400,
        "xaxis": {
         "anchor": "y",
         "domain": [
          0,
          1
         ]
        },
        "yaxis": {
         "anchor": "x",
         "domain": [
          0,
          1
         ],
         "title": {
          "text": "msrp"
         }
        }
       }
      }
     },
     "metadata": {},
     "output_type": "display_data"
    }
   ],
   "source": [
    "# px.box(df, y='msrp').update_layout(width=400, height=400,template='simple_white', title='Box plot of prices').show()\n",
    "\n",
    "# remove outliers\n",
    "px.box(df[df.msrp < 100000], y='msrp').update_layout(width=400, height=400,template='simple_white', title='Box plot of prices').show()\n"
   ]
  },
  {
   "cell_type": "code",
   "execution_count": 7,
   "metadata": {},
   "outputs": [
    {
     "data": {
      "image/png": "[encoded data removed]",
      "text/plain": [
       "<Figure size 432x288 with 1 Axes>"
      ]
     },
     "metadata": {
      "needs_background": "light"
     },
     "output_type": "display_data"
    }
   ],
   "source": [
    "plt.figure(figsize=(6, 4))\n",
    "\n",
    "sns.histplot(df.msrp[df.msrp < 100000], bins=40, color='black', alpha=1)\n",
    "plt.ylabel('Frequency')\n",
    "plt.xlabel('Price')\n",
    "plt.title('Distribution of prices')\n",
    "\n",
    "plt.show()"
   ]
  },
  {
   "cell_type": "code",
   "execution_count": 8,
   "metadata": {},
   "outputs": [
    {
     "data": {
      "image/png": "[encoded data removed]",
      "text/plain": [
       "<Figure size 432x288 with 1 Axes>"
      ]
     },
     "metadata": {
      "needs_background": "light"
     },
     "output_type": "display_data"
    }
   ],
   "source": [
    "log_price = np.log1p(df.msrp)\n",
    "\n",
    "plt.figure(figsize=(6, 4))\n",
    "\n",
    "sns.histplot(log_price, bins=40, color='black', alpha=1)\n",
    "plt.ylabel('Frequency')\n",
    "plt.xlabel('Log(Price + 1)')\n",
    "plt.title('Distribution of prices after log tranformation')\n",
    "\n",
    "plt.show()"
   ]
  },
  {
   "cell_type": "code",
   "execution_count": 9,
   "metadata": {},
   "outputs": [
    {
     "data": {
      "text/plain": [
       "make                    0\n",
       "model                   0\n",
       "year                    0\n",
       "engine_fuel_type        3\n",
       "engine_hp              69\n",
       "engine_cylinders       30\n",
       "transmission_type       0\n",
       "driven_wheels           0\n",
       "number_of_doors         6\n",
       "market_category      3742\n",
       "vehicle_size            0\n",
       "vehicle_style           0\n",
       "highway_mpg             0\n",
       "city_mpg                0\n",
       "popularity              0\n",
       "msrp                    0\n",
       "dtype: int64"
      ]
     },
     "execution_count": 9,
     "metadata": {},
     "output_type": "execute_result"
    }
   ],
   "source": [
    "df.isnull().sum()"
   ]
  },
  {
   "cell_type": "markdown",
   "metadata": {},
   "source": [
    "## Validation framework"
   ]
  },
  {
   "cell_type": "code",
   "execution_count": 10,
   "metadata": {},
   "outputs": [],
   "source": [
    "np.random.seed(2)\n",
    "\n",
    "n = len(df)\n",
    "\n",
    "n_val = int(0.2 * n)\n",
    "n_test = int(0.2 * n)\n",
    "n_train = n - (n_val + n_test)\n",
    "\n",
    "idx = np.arange(n)\n",
    "np.random.shuffle(idx)\n",
    "\n",
    "df_shuffled = df.iloc[idx]\n",
    "\n",
    "df_train = df_shuffled.iloc[:n_train].copy()\n",
    "df_val = df_shuffled.iloc[n_train:n_train+n_val].copy()\n",
    "df_test = df_shuffled.iloc[n_train+n_val:].copy()"
   ]
  },
  {
   "cell_type": "code",
   "execution_count": 11,
   "metadata": {},
   "outputs": [],
   "source": [
    "y_train_orig = df_train.msrp.values\n",
    "y_val_orig = df_val.msrp.values\n",
    "y_test_orig = df_test.msrp.values\n",
    "\n",
    "y_train = np.log1p(df_train.msrp.values)\n",
    "y_val = np.log1p(df_val.msrp.values)\n",
    "y_test = np.log1p(df_test.msrp.values)\n",
    "\n",
    "del df_train['msrp']\n",
    "del df_val['msrp']\n",
    "del df_test['msrp']"
   ]
  },
  {
   "cell_type": "markdown",
   "metadata": {},
   "source": [
    "## Linear Regression"
   ]
  },
  {
   "cell_type": "code",
   "execution_count": 12,
   "metadata": {},
   "outputs": [],
   "source": [
    "def train_linear_regression(X, y):\n",
    "    ones = np.ones(X.shape[0])\n",
    "    X = np.column_stack([ones, X])\n",
    "\n",
    "    XTX = X.T.dot(X)\n",
    "    XTX_inv = np.linalg.inv(XTX)\n",
    "    w = XTX_inv.dot(X.T).dot(y)\n",
    "    \n",
    "    return w[0], w[1:]"
   ]
  },
  {
   "cell_type": "markdown",
   "metadata": {},
   "source": [
    "## Baseline solution"
   ]
  },
  {
   "cell_type": "code",
   "execution_count": 13,
   "metadata": {},
   "outputs": [],
   "source": [
    "base = ['engine_hp', 'engine_cylinders', 'highway_mpg', 'city_mpg', 'popularity']"
   ]
  },
  {
   "cell_type": "code",
   "execution_count": 14,
   "metadata": {},
   "outputs": [],
   "source": [
    "def prepare_X(df):\n",
    "    df_num = df[base]\n",
    "    df_num = df_num.fillna(0)\n",
    "    X = df_num.values\n",
    "    return X"
   ]
  },
  {
   "cell_type": "code",
   "execution_count": 15,
   "metadata": {},
   "outputs": [],
   "source": [
    "X_train = prepare_X(df_train)\n",
    "w_0, w = train_linear_regression(X_train, y_train)"
   ]
  },
  {
   "cell_type": "code",
   "execution_count": 16,
   "metadata": {},
   "outputs": [],
   "source": [
    "y_pred = w_0 + X_train.dot(w)"
   ]
  },
  {
   "cell_type": "code",
   "execution_count": 17,
   "metadata": {},
   "outputs": [
    {
     "data": {
      "image/png": "[encoded data removed]",
      "text/plain": [
       "<Figure size 432x288 with 1 Axes>"
      ]
     },
     "metadata": {
      "needs_background": "light"
     },
     "output_type": "display_data"
    }
   ],
   "source": [
    "plt.figure(figsize=(6, 4))\n",
    "\n",
    "sns.histplot(y_train, label='target', color='#222222', alpha=0.6, bins=40)\n",
    "sns.histplot(y_pred, label='prediction', color='#aaaaaa', alpha=0.8, bins=40)\n",
    "\n",
    "plt.legend()\n",
    "\n",
    "plt.ylabel('Frequency')\n",
    "plt.xlabel('Log(Price + 1)')\n",
    "plt.title('Predictions vs actual distribution')\n",
    "\n",
    "plt.show()"
   ]
  },
  {
   "cell_type": "code",
   "execution_count": 18,
   "metadata": {},
   "outputs": [],
   "source": [
    "def rmse(y, y_pred):\n",
    "    error = y_pred - y\n",
    "    mse = (error ** 2).mean()\n",
    "    return np.sqrt(mse)"
   ]
  },
  {
   "cell_type": "code",
   "execution_count": 19,
   "metadata": {},
   "outputs": [
    {
     "data": {
      "text/plain": [
       "0.7554192603920132"
      ]
     },
     "execution_count": 19,
     "metadata": {},
     "output_type": "execute_result"
    }
   ],
   "source": [
    "rmse(y_train, y_pred)"
   ]
  },
  {
   "cell_type": "code",
   "execution_count": 20,
   "metadata": {},
   "outputs": [],
   "source": [
    "X_val = prepare_X(df_val)\n",
    "y_pred = w_0 + X_val.dot(w)"
   ]
  },
  {
   "cell_type": "code",
   "execution_count": 21,
   "metadata": {
    "scrolled": true
   },
   "outputs": [
    {
     "data": {
      "text/plain": [
       "0.7616530991301601"
      ]
     },
     "execution_count": 21,
     "metadata": {},
     "output_type": "execute_result"
    }
   ],
   "source": [
    "rmse(y_val, y_pred)"
   ]
  },
  {
   "cell_type": "markdown",
   "metadata": {},
   "source": [
    "## Simple feature engineering"
   ]
  },
  {
   "cell_type": "code",
   "execution_count": 22,
   "metadata": {},
   "outputs": [],
   "source": [
    "def prepare_X(df):\n",
    "    df = df.copy()\n",
    "    features = base.copy()\n",
    "\n",
    "    df['age'] = 2017 - df.year\n",
    "    features.append('age')\n",
    "\n",
    "    df_num = df[features]\n",
    "    df_num = df_num.fillna(0)\n",
    "    X = df_num.values\n",
    "    return X"
   ]
  },
  {
   "cell_type": "code",
   "execution_count": 23,
   "metadata": {},
   "outputs": [
    {
     "name": "stdout",
     "output_type": "stream",
     "text": [
      "train 0.5175055465840046\n",
      "validation 0.5172055461058335\n"
     ]
    }
   ],
   "source": [
    "X_train = prepare_X(df_train)\n",
    "w_0, w = train_linear_regression(X_train, y_train)\n",
    "\n",
    "y_pred = w_0 + X_train.dot(w)\n",
    "print('train', rmse(y_train, y_pred))\n",
    "\n",
    "X_val = prepare_X(df_val)\n",
    "y_pred = w_0 + X_val.dot(w)\n",
    "print('validation', rmse(y_val, y_pred))"
   ]
  },
  {
   "cell_type": "code",
   "execution_count": 24,
   "metadata": {},
   "outputs": [
    {
     "data": {
      "image/png": "[encoded data removed]",
      "text/plain": [
       "<Figure size 432x288 with 1 Axes>"
      ]
     },
     "metadata": {
      "needs_background": "light"
     },
     "output_type": "display_data"
    }
   ],
   "source": [
    "plt.figure(figsize=(6, 4))\n",
    "\n",
    "\n",
    "sns.histplot(y_val, label='target', color='#222222', alpha=0.6, bins=40)\n",
    "sns.histplot(y_pred, label='prediction', color='#aaaaaa', alpha=0.8, bins=40)\n",
    "\n",
    "plt.legend()\n",
    "\n",
    "plt.ylabel('Frequency')\n",
    "plt.xlabel('Log(Price + 1)')\n",
    "plt.title('Predictions vs actual distribution')\n",
    "\n",
    "plt.show()"
   ]
  },
  {
   "cell_type": "code",
   "execution_count": 25,
   "metadata": {},
   "outputs": [
    {
     "data": {
      "text/plain": [
       "chevrolet     1123\n",
       "ford           881\n",
       "volkswagen     809\n",
       "toyota         746\n",
       "dodge          626\n",
       "Name: make, dtype: int64"
      ]
     },
     "execution_count": 25,
     "metadata": {},
     "output_type": "execute_result"
    }
   ],
   "source": [
    "df['make'].value_counts().head(5)"
   ]
  },
  {
   "cell_type": "code",
   "execution_count": 26,
   "metadata": {},
   "outputs": [],
   "source": [
    "def prepare_X(df):\n",
    "    df = df.copy()\n",
    "    features = base.copy()\n",
    "\n",
    "    df['age'] = 2017 - df.year\n",
    "    features.append('age')\n",
    "\n",
    "    for v in [2, 3, 4]:\n",
    "        feature = 'num_doors_%s' % v\n",
    "        df[feature] = (df['number_of_doors'] == v).astype(int)\n",
    "        features.append(feature)\n",
    "\n",
    "    for v in ['chevrolet', 'ford', 'volkswagen', 'toyota', 'dodge']:\n",
    "        feature = 'is_make_%s' % v\n",
    "        df[feature] = (df['make'] == v).astype(int)\n",
    "        features.append(feature)\n",
    "\n",
    "    df_num = df[features]\n",
    "    df_num = df_num.fillna(0)\n",
    "    X = df_num.values\n",
    "    return X"
   ]
  },
  {
   "cell_type": "code",
   "execution_count": 27,
   "metadata": {},
   "outputs": [
    {
     "name": "stdout",
     "output_type": "stream",
     "text": [
      "train: 0.5058876515487503\n",
      "validation: 0.5076038849557035\n"
     ]
    }
   ],
   "source": [
    "X_train = prepare_X(df_train)\n",
    "w_0, w = train_linear_regression(X_train, y_train)\n",
    "\n",
    "y_pred = w_0 + X_train.dot(w)\n",
    "print('train:', rmse(y_train, y_pred))\n",
    "\n",
    "X_val = prepare_X(df_val)\n",
    "y_pred = w_0 + X_val.dot(w)\n",
    "print('validation:', rmse(y_val, y_pred))"
   ]
  },
  {
   "cell_type": "code",
   "execution_count": 28,
   "metadata": {},
   "outputs": [
    {
     "data": {
      "text/plain": [
       "regular_unleaded                                7172\n",
       "premium_unleaded_(required)                     2009\n",
       "premium_unleaded_(recommended)                  1523\n",
       "flex-fuel_(unleaded/e85)                         899\n",
       "diesel                                           154\n",
       "electric                                          66\n",
       "flex-fuel_(premium_unleaded_required/e85)         54\n",
       "flex-fuel_(premium_unleaded_recommended/e85)      26\n",
       "flex-fuel_(unleaded/natural_gas)                   6\n",
       "natural_gas                                        2\n",
       "Name: engine_fuel_type, dtype: int64"
      ]
     },
     "execution_count": 28,
     "metadata": {},
     "output_type": "execute_result"
    }
   ],
   "source": [
    "df['engine_fuel_type'].value_counts()"
   ]
  },
  {
   "cell_type": "code",
   "execution_count": 29,
   "metadata": {},
   "outputs": [],
   "source": [
    "def prepare_X(df):\n",
    "    df = df.copy()\n",
    "    features = base.copy()\n",
    "\n",
    "    df['age'] = 2017 - df.year\n",
    "    features.append('age')\n",
    "    \n",
    "    for v in [2, 3, 4]:\n",
    "        feature = 'num_doors_%s' % v\n",
    "        df[feature] = (df['number_of_doors'] == v).astype(int)\n",
    "        features.append(feature)\n",
    "\n",
    "    for v in ['chevrolet', 'ford', 'volkswagen', 'toyota', 'dodge']:\n",
    "        feature = 'is_make_%s' % v\n",
    "        df[feature] = (df['make'] == v).astype(int)\n",
    "        features.append(feature)\n",
    "\n",
    "    for v in ['regular_unleaded', 'premium_unleaded_(required)', \n",
    "              'premium_unleaded_(recommended)', 'flex-fuel_(unleaded/e85)']:\n",
    "        feature = 'is_type_%s' % v\n",
    "        df[feature] = (df['engine_fuel_type'] == v).astype(int)\n",
    "        features.append(feature)\n",
    "        \n",
    "    df_num = df[features]\n",
    "    df_num = df_num.fillna(0)\n",
    "    X = df_num.values\n",
    "    return X"
   ]
  },
  {
   "cell_type": "code",
   "execution_count": 30,
   "metadata": {},
   "outputs": [
    {
     "name": "stdout",
     "output_type": "stream",
     "text": [
      "train: 0.4788482615078598\n",
      "validation: 0.4748256737227088\n"
     ]
    }
   ],
   "source": [
    "X_train = prepare_X(df_train)\n",
    "w_0, w = train_linear_regression(X_train, y_train)\n",
    "\n",
    "y_pred = w_0 + X_train.dot(w)\n",
    "print('train:', rmse(y_train, y_pred))\n",
    "\n",
    "X_val = prepare_X(df_val)\n",
    "y_pred = w_0 + X_val.dot(w)\n",
    "print('validation:', rmse(y_val, y_pred))"
   ]
  },
  {
   "cell_type": "code",
   "execution_count": 31,
   "metadata": {},
   "outputs": [
    {
     "data": {
      "text/plain": [
       "automatic           8266\n",
       "manual              2935\n",
       "automated_manual     626\n",
       "direct_drive          68\n",
       "unknown               19\n",
       "Name: transmission_type, dtype: int64"
      ]
     },
     "execution_count": 31,
     "metadata": {},
     "output_type": "execute_result"
    }
   ],
   "source": [
    "df['transmission_type'].value_counts()"
   ]
  },
  {
   "cell_type": "code",
   "execution_count": 32,
   "metadata": {},
   "outputs": [],
   "source": [
    "def prepare_X(df):\n",
    "    df = df.copy()\n",
    "    features = base.copy()\n",
    "\n",
    "    df['age'] = 2017 - df.year\n",
    "    features.append('age')\n",
    "    \n",
    "    for v in [2, 3, 4]:\n",
    "        feature = 'num_doors_%s' % v\n",
    "        df[feature] = (df['number_of_doors'] == v).astype(int)\n",
    "        features.append(feature)\n",
    "\n",
    "    for v in ['chevrolet', 'ford', 'volkswagen', 'toyota', 'dodge']:\n",
    "        feature = 'is_make_%s' % v\n",
    "        df[feature] = (df['make'] == v).astype(int)\n",
    "        features.append(feature)\n",
    "\n",
    "    for v in ['regular_unleaded', 'premium_unleaded_(required)', \n",
    "              'premium_unleaded_(recommended)', 'flex-fuel_(unleaded/e85)']:\n",
    "        feature = 'is_type_%s' % v\n",
    "        df[feature] = (df['engine_fuel_type'] == v).astype(int)\n",
    "        features.append(feature)\n",
    "\n",
    "    for v in ['automatic', 'manual', 'automated_manual']:\n",
    "        feature = 'is_transmission_%s' % v\n",
    "        df[feature] = (df['transmission_type'] == v).astype(int)\n",
    "        features.append(feature)\n",
    "        \n",
    "    df_num = df[features]\n",
    "    df_num = df_num.fillna(0)\n",
    "    X = df_num.values\n",
    "    return X"
   ]
  },
  {
   "cell_type": "code",
   "execution_count": 33,
   "metadata": {},
   "outputs": [
    {
     "name": "stdout",
     "output_type": "stream",
     "text": [
      "train: 0.4745380510924004\n",
      "validation: 0.4685879194659198\n"
     ]
    }
   ],
   "source": [
    "X_train = prepare_X(df_train)\n",
    "w_0, w = train_linear_regression(X_train, y_train)\n",
    "\n",
    "y_pred = w_0 + X_train.dot(w)\n",
    "print('train:', rmse(y_train, y_pred))\n",
    "\n",
    "X_val = prepare_X(df_val)\n",
    "y_pred = w_0 + X_val.dot(w)\n",
    "print('validation:', rmse(y_val, y_pred))"
   ]
  },
  {
   "cell_type": "code",
   "execution_count": 34,
   "metadata": {},
   "outputs": [
    {
     "data": {
      "text/plain": [
       "front_wheel_drive    4787\n",
       "rear_wheel_drive     3371\n",
       "all_wheel_drive      2353\n",
       "four_wheel_drive     1403\n",
       "Name: driven_wheels, dtype: int64"
      ]
     },
     "execution_count": 34,
     "metadata": {},
     "output_type": "execute_result"
    }
   ],
   "source": [
    "df['driven_wheels'].value_counts()"
   ]
  },
  {
   "cell_type": "code",
   "execution_count": 35,
   "metadata": {},
   "outputs": [
    {
     "data": {
      "text/plain": [
       "crossover             1110\n",
       "flex_fuel              872\n",
       "luxury                 855\n",
       "luxury,performance     673\n",
       "hatchback              641\n",
       "Name: market_category, dtype: int64"
      ]
     },
     "execution_count": 35,
     "metadata": {},
     "output_type": "execute_result"
    }
   ],
   "source": [
    "df['market_category'].value_counts().head(5)"
   ]
  },
  {
   "cell_type": "code",
   "execution_count": 36,
   "metadata": {},
   "outputs": [
    {
     "data": {
      "text/plain": [
       "compact    4764\n",
       "midsize    4373\n",
       "large      2777\n",
       "Name: vehicle_size, dtype: int64"
      ]
     },
     "execution_count": 36,
     "metadata": {},
     "output_type": "execute_result"
    }
   ],
   "source": [
    "df['vehicle_size'].value_counts().head(5)"
   ]
  },
  {
   "cell_type": "code",
   "execution_count": 37,
   "metadata": {},
   "outputs": [
    {
     "data": {
      "text/plain": [
       "sedan            3048\n",
       "4dr_suv          2488\n",
       "coupe            1211\n",
       "convertible       793\n",
       "4dr_hatchback     702\n",
       "Name: vehicle_style, dtype: int64"
      ]
     },
     "execution_count": 37,
     "metadata": {},
     "output_type": "execute_result"
    }
   ],
   "source": [
    "df['vehicle_style'].value_counts().head(5)"
   ]
  },
  {
   "cell_type": "code",
   "execution_count": 38,
   "metadata": {},
   "outputs": [],
   "source": [
    "def prepare_X(df):\n",
    "    df = df.copy()\n",
    "    features = base.copy()\n",
    "\n",
    "    df['age'] = 2017 - df.year\n",
    "    features.append('age')\n",
    "    \n",
    "    for v in [2, 3, 4]:\n",
    "        feature = 'num_doors_%s' % v\n",
    "        df[feature] = (df['number_of_doors'] == v).astype(int)\n",
    "        features.append(feature)\n",
    "\n",
    "    for v in ['chevrolet', 'ford', 'volkswagen', 'toyota', 'dodge']:\n",
    "        feature = 'is_make_%s' % v\n",
    "        df[feature] = (df['make'] == v).astype(int)\n",
    "        features.append(feature)\n",
    "\n",
    "    for v in ['regular_unleaded', 'premium_unleaded_(required)', \n",
    "              'premium_unleaded_(recommended)', 'flex-fuel_(unleaded/e85)']:\n",
    "        feature = 'is_type_%s' % v\n",
    "        df[feature] = (df['engine_fuel_type'] == v).astype(int)\n",
    "        features.append(feature)\n",
    "\n",
    "    for v in ['automatic', 'manual', 'automated_manual']:\n",
    "        feature = 'is_transmission_%s' % v\n",
    "        df[feature] = (df['transmission_type'] == v).astype(int)\n",
    "        features.append(feature)\n",
    "\n",
    "    for v in ['front_wheel_drive', 'rear_wheel_drive', 'all_wheel_drive', 'four_wheel_drive']:\n",
    "        feature = 'is_driven_wheens_%s' % v\n",
    "        df[feature] = (df['driven_wheels'] == v).astype(int)\n",
    "        features.append(feature)\n",
    "\n",
    "    for v in ['crossover', 'flex_fuel', 'luxury', 'luxury,performance', 'hatchback']:\n",
    "        feature = 'is_mc_%s' % v\n",
    "        df[feature] = (df['market_category'] == v).astype(int)\n",
    "        features.append(feature)\n",
    "\n",
    "    for v in ['compact', 'midsize', 'large']:\n",
    "        feature = 'is_size_%s' % v\n",
    "        df[feature] = (df['vehicle_size'] == v).astype(int)\n",
    "        features.append(feature)\n",
    "\n",
    "    for v in ['sedan', '4dr_suv', 'coupe', 'convertible', '4dr_hatchback']:\n",
    "        feature = 'is_style_%s' % v\n",
    "        df[feature] = (df['vehicle_style'] == v).astype(int)\n",
    "        features.append(feature)\n",
    "\n",
    "    df_num = df[features]\n",
    "    df_num = df_num.fillna(0)\n",
    "    X = df_num.values\n",
    "    return X"
   ]
  },
  {
   "cell_type": "code",
   "execution_count": 39,
   "metadata": {},
   "outputs": [
    {
     "name": "stdout",
     "output_type": "stream",
     "text": [
      "train: 1607.4898641126447\n",
      "validation: 830.8920785817741\n"
     ]
    }
   ],
   "source": [
    "X_train = prepare_X(df_train)\n",
    "w_0, w = train_linear_regression(X_train, y_train)\n",
    "\n",
    "y_pred = w_0 + X_train.dot(w)\n",
    "print('train:', rmse(y_train, y_pred))\n",
    "\n",
    "X_val = prepare_X(df_val)\n",
    "y_pred = w_0 + X_val.dot(w)\n",
    "print('validation:', rmse(y_val, y_pred))"
   ]
  },
  {
   "cell_type": "code",
   "execution_count": 40,
   "metadata": {},
   "outputs": [
    {
     "data": {
      "text/plain": [
       "-6.947006956027172e+17"
      ]
     },
     "execution_count": 40,
     "metadata": {},
     "output_type": "execute_result"
    }
   ],
   "source": [
    "w_0"
   ]
  },
  {
   "cell_type": "markdown",
   "metadata": {},
   "source": [
    "## Regularization"
   ]
  },
  {
   "cell_type": "code",
   "execution_count": 41,
   "metadata": {},
   "outputs": [],
   "source": [
    "def train_linear_regression_reg(X, y, r=0.0):\n",
    "    ones = np.ones(X.shape[0])\n",
    "    X = np.column_stack([ones, X])\n",
    "\n",
    "    XTX = X.T.dot(X)\n",
    "    reg = r * np.eye(XTX.shape[0])\n",
    "    XTX = XTX + reg\n",
    "\n",
    "    XTX_inv = np.linalg.inv(XTX)\n",
    "    w = XTX_inv.dot(X.T).dot(y)\n",
    "    \n",
    "    return w[0], w[1:]"
   ]
  },
  {
   "cell_type": "code",
   "execution_count": 42,
   "metadata": {},
   "outputs": [],
   "source": [
    "X_train = prepare_X(df_train)"
   ]
  },
  {
   "cell_type": "code",
   "execution_count": 43,
   "metadata": {},
   "outputs": [
    {
     "name": "stdout",
     "output_type": "stream",
     "text": [
      "    0, -694700695602717184.00, 278.96, 694700695602667008.00\n",
      "0.001, 7.19, -0.10, 1.81\n",
      " 0.01, 7.18, -0.10, 1.81\n",
      "  0.1, 7.05, -0.10, 1.78\n",
      "    1, 6.22, -0.10, 1.56\n",
      "   10, 4.39, -0.09, 1.08\n"
     ]
    }
   ],
   "source": [
    "for r in [0, 0.001, 0.01, 0.1, 1, 10]:\n",
    "    w_0, w = train_linear_regression_reg(X_train, y_train, r=r)\n",
    "    print('%5s, %.2f, %.2f, %.2f' % (r, w_0, w[13], w[21]))"
   ]
  },
  {
   "cell_type": "code",
   "execution_count": 44,
   "metadata": {},
   "outputs": [
    {
     "name": "stdout",
     "output_type": "stream",
     "text": [
      "train 1607.4898641126447\n",
      "val 830.8920785817741\n"
     ]
    }
   ],
   "source": [
    "X_train = prepare_X(df_train)\n",
    "w_0, w = train_linear_regression_reg(X_train, y_train, r=0)\n",
    "\n",
    "y_pred = w_0 + X_train.dot(w)\n",
    "print('train', rmse(y_train, y_pred))\n",
    "\n",
    "X_val = prepare_X(df_val)\n",
    "y_pred = w_0 + X_val.dot(w)\n",
    "print('val', rmse(y_val, y_pred))"
   ]
  },
  {
   "cell_type": "code",
   "execution_count": 45,
   "metadata": {},
   "outputs": [
    {
     "name": "stdout",
     "output_type": "stream",
     "text": [
      "train 0.46431248945738135\n",
      "val 0.46023949632611183\n"
     ]
    }
   ],
   "source": [
    "X_train = prepare_X(df_train)\n",
    "w_0, w = train_linear_regression_reg(X_train, y_train, r=0.01)\n",
    "\n",
    "y_pred = w_0 + X_train.dot(w)\n",
    "print('train', rmse(y_train, y_pred))\n",
    "\n",
    "X_val = prepare_X(df_val)\n",
    "y_pred = w_0 + X_val.dot(w)\n",
    "print('val', rmse(y_val, y_pred))"
   ]
  },
  {
   "cell_type": "code",
   "execution_count": 46,
   "metadata": {},
   "outputs": [
    {
     "name": "stdout",
     "output_type": "stream",
     "text": [
      " 1e-06 0.4602255729429437\n",
      "0.0001 0.4602254945347706\n",
      " 0.001 0.46022676266043516\n",
      "  0.01 0.46023949632611183\n",
      "   0.1 0.46037006958137333\n",
      "     1 0.46182980426538955\n",
      "     5 0.46840796275338076\n",
      "    10 0.4757248100693528\n"
     ]
    }
   ],
   "source": [
    "X_train = prepare_X(df_train)\n",
    "X_val = prepare_X(df_val)\n",
    "\n",
    "for r in [0.000001, 0.0001, 0.001, 0.01, 0.1, 1, 5, 10]:\n",
    "    w_0, w = train_linear_regression_reg(X_train, y_train, r=r)\n",
    "    y_pred = w_0 + X_val.dot(w)\n",
    "    print('%6s' %r, rmse(y_val, y_pred))"
   ]
  },
  {
   "cell_type": "code",
   "execution_count": 47,
   "metadata": {},
   "outputs": [
    {
     "name": "stdout",
     "output_type": "stream",
     "text": [
      "validation: 0.46023949632611183\n",
      "test: 0.4571813679692604\n"
     ]
    }
   ],
   "source": [
    "X_train = prepare_X(df_train)\n",
    "w_0, w = train_linear_regression_reg(X_train, y_train, r=0.01)\n",
    "\n",
    "X_val = prepare_X(df_val)\n",
    "y_pred = w_0 + X_val.dot(w)\n",
    "print('validation:', rmse(y_val, y_pred))\n",
    "\n",
    "X_test = prepare_X(df_test)\n",
    "y_pred = w_0 + X_test.dot(w)\n",
    "print('test:', rmse(y_test, y_pred))"
   ]
  },
  {
   "cell_type": "markdown",
   "metadata": {},
   "source": [
    "## Using the model"
   ]
  },
  {
   "cell_type": "code",
   "execution_count": 48,
   "metadata": {},
   "outputs": [
    {
     "data": {
      "text/plain": [
       "{'make': 'toyota',\n",
       " 'model': 'venza',\n",
       " 'year': 2013,\n",
       " 'engine_fuel_type': 'regular_unleaded',\n",
       " 'engine_hp': 268.0,\n",
       " 'engine_cylinders': 6.0,\n",
       " 'transmission_type': 'automatic',\n",
       " 'driven_wheels': 'all_wheel_drive',\n",
       " 'number_of_doors': 4.0,\n",
       " 'market_category': 'crossover,performance',\n",
       " 'vehicle_size': 'midsize',\n",
       " 'vehicle_style': 'wagon',\n",
       " 'highway_mpg': 25,\n",
       " 'city_mpg': 18,\n",
       " 'popularity': 2031}"
      ]
     },
     "execution_count": 48,
     "metadata": {},
     "output_type": "execute_result"
    }
   ],
   "source": [
    "i = 2\n",
    "ad = df_test.iloc[i].to_dict()\n",
    "ad"
   ]
  },
  {
   "cell_type": "code",
   "execution_count": 49,
   "metadata": {},
   "outputs": [
    {
     "data": {
      "text/plain": [
       "28294.135912260714"
      ]
     },
     "execution_count": 49,
     "metadata": {},
     "output_type": "execute_result"
    }
   ],
   "source": [
    "X_test = prepare_X(pd.DataFrame([ad]))[0]\n",
    "y_pred = w_0 + X_test.dot(w)\n",
    "suggestion = np.expm1(y_pred)\n",
    "suggestion"
   ]
  },
  {
   "cell_type": "code",
   "execution_count": null,
   "metadata": {},
   "outputs": [],
   "source": []
  },
  {
   "cell_type": "code",
   "execution_count": null,
   "metadata": {},
   "outputs": [],
   "source": []
  }
 ],
 "metadata": {
  "anaconda-cloud": {},
  "kernelspec": {
   "display_name": "ml-zoomcamp",
   "language": "python",
   "name": "python3"
  },
  "language_info": {
   "codemirror_mode": {
    "name": "ipython",
    "version": 3
   },
   "file_extension": ".py",
   "mimetype": "text/x-python",
   "name": "python",
   "nbconvert_exporter": "python",
   "pygments_lexer": "ipython3",
   "version": "3.11.13"
  }
 },
 "nbformat": 4,
 "nbformat_minor": 2
}
