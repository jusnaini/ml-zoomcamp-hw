{
 "cells": [
  {
   "cell_type": "code",
   "execution_count": null,
   "id": "f449747c",
   "metadata": {},
   "outputs": [
    {
     "name": "stdout",
     "output_type": "stream",
     "text": [
      "--2025-09-29 01:56:40--  https://raw.githubusercontent.com/DataTalksClub/machine-learning-zoomcamp/master/cohorts/2025/01-intro/homework.md\n",
      "Resolving raw.githubusercontent.com (raw.githubusercontent.com)... 185.199.109.133, 185.199.110.133, 185.199.108.133, ...\n",
      "Connecting to raw.githubusercontent.com (raw.githubusercontent.com)|185.199.109.133|:443... connected.\n",
      "HTTP request sent, awaiting response... 200 OK\n",
      "Length: 2550 (2.5K) [text/plain]\n",
      "Saving to: ‘homework.md’\n",
      "\n",
      "homework.md         100%[===================>]   2.49K  --.-KB/s    in 0s      \n",
      "\n",
      "2025-09-29 01:56:41 (51.7 MB/s) - ‘homework.md’ saved [2550/2550]\n",
      "\n"
     ]
    }
   ],
   "source": [
    "# Download the homework instructions\n",
    "# !wget https://raw.githubusercontent.com/DataTalksClub/machine-learning-zoomcamp/master/cohorts/2025/01-intro/homework.md"
   ]
  },
  {
   "cell_type": "code",
   "execution_count": 3,
   "id": "1fa75843",
   "metadata": {},
   "outputs": [],
   "source": [
    "# Load necessary libraries\n",
    "import pandas as pd\n",
    "import numpy as np\n",
    "import matplotlib.pyplot as plt\n",
    "import seaborn as sns"
   ]
  },
  {
   "cell_type": "markdown",
   "id": "95350736",
   "metadata": {},
   "source": [
    "### Getting the data "
   ]
  },
  {
   "cell_type": "code",
   "execution_count": null,
   "id": "ac8bfb05",
   "metadata": {},
   "outputs": [
    {
     "name": "stdout",
     "output_type": "stream",
     "text": [
      "--2025-09-29 02:09:30--  https://raw.githubusercontent.com/alexeygrigorev/datasets/master/car_fuel_efficiency.csv\n",
      "Resolving raw.githubusercontent.com (raw.githubusercontent.com)... 185.199.110.133, 185.199.111.133, 185.199.108.133, ...\n",
      "Connecting to raw.githubusercontent.com (raw.githubusercontent.com)|185.199.110.133|:443... connected.\n",
      "HTTP request sent, awaiting response... 200 OK\n",
      "Length: 874188 (854K) [text/plain]\n",
      "Saving to: ‘car_fuel_efficiency.csv’\n",
      "\n",
      "car_fuel_efficiency 100%[===================>] 853.70K  --.-KB/s    in 0.007s  \n",
      "\n",
      "2025-09-29 02:09:30 (125 MB/s) - ‘car_fuel_efficiency.csv’ saved [874188/874188]\n",
      "\n"
     ]
    }
   ],
   "source": [
    "# !wget https://raw.githubusercontent.com/alexeygrigorev/datasets/master/car_fuel_efficiency.csv"
   ]
  },
  {
   "cell_type": "markdown",
   "id": "e9b6da78",
   "metadata": {},
   "source": [
    "### Q1. Pandas version\n",
    "\n",
    "What's the version of Pandas that you installed?"
   ]
  },
  {
   "cell_type": "code",
   "execution_count": 4,
   "id": "8265d898",
   "metadata": {},
   "outputs": [
    {
     "name": "stdout",
     "output_type": "stream",
     "text": [
      "2.3.1\n"
     ]
    }
   ],
   "source": [
    "print(pd.__version__)"
   ]
  },
  {
   "cell_type": "markdown",
   "id": "2c26c047",
   "metadata": {},
   "source": [
    "### Q2. Records count\n",
    "\n",
    "How many records are in the dataset?\n",
    "- 4704\n",
    "- 8704\n",
    "- **`9704`**\n",
    "- 17704"
   ]
  },
  {
   "cell_type": "code",
   "execution_count": 6,
   "id": "821fc03e",
   "metadata": {},
   "outputs": [
    {
     "data": {
      "text/plain": [
       "(9704, 11)"
      ]
     },
     "execution_count": 6,
     "metadata": {},
     "output_type": "execute_result"
    }
   ],
   "source": [
    "df = pd.read_csv('car_fuel_efficiency.csv')\n",
    "df.shape"
   ]
  },
  {
   "cell_type": "markdown",
   "id": "c3d68e08",
   "metadata": {},
   "source": [
    "### Q3. Fuel types\n",
    "\n",
    "How many fuel types are presented in the dataset?\n",
    "\n",
    "- 1\n",
    "- **`2`**\n",
    "- 3\n",
    "- 4"
   ]
  },
  {
   "cell_type": "code",
   "execution_count": 31,
   "id": "1efc5b4c",
   "metadata": {},
   "outputs": [
    {
     "data": {
      "text/plain": [
       "{'Diesel', 'Gasoline'}"
      ]
     },
     "execution_count": 31,
     "metadata": {},
     "output_type": "execute_result"
    }
   ],
   "source": [
    "set(df['fuel_type'])"
   ]
  },
  {
   "cell_type": "markdown",
   "id": "e0c3200c",
   "metadata": {},
   "source": [
    "### Q4. Missing values\n",
    "\n",
    "How many columns in the dataset have missing values?\n",
    "\n",
    "- 1\n",
    "- 2\n",
    "- 3\n",
    "- **`4`**\n"
   ]
  },
  {
   "cell_type": "code",
   "execution_count": null,
   "id": "5f55065b",
   "metadata": {},
   "outputs": [
    {
     "data": {
      "text/plain": [
       "['num_cylinders', 'horsepower', 'acceleration', 'num_doors']"
      ]
     },
     "execution_count": 10,
     "metadata": {},
     "output_type": "execute_result"
    }
   ],
   "source": [
    "df.isnull().sum()\n",
    "columns_with_na = [col for col in df.columns if df[col].isnull().sum() > 0]\n",
    "columns_with_na"
   ]
  },
  {
   "cell_type": "markdown",
   "id": "f6f12404",
   "metadata": {},
   "source": [
    "### Q5. Max fuel efficiency\n",
    "\n",
    "What's the maximum fuel efficiency of cars from Asia?\n",
    "\n",
    "- 13.75\n",
    "- **`23.75`**\n",
    "- 33.75\n",
    "- 43.75\n"
   ]
  },
  {
   "cell_type": "code",
   "execution_count": 14,
   "id": "d64fc8f6",
   "metadata": {},
   "outputs": [
    {
     "data": {
      "text/plain": [
       "23.759122836520497"
      ]
     },
     "execution_count": 14,
     "metadata": {},
     "output_type": "execute_result"
    }
   ],
   "source": [
    "df.describe().T\n",
    "max_fuel_efficiency_asia = df[df['origin'] == 'Asia']['fuel_efficiency_mpg'].max()\n",
    "max_fuel_efficiency_asia"
   ]
  },
  {
   "cell_type": "markdown",
   "id": "307e8229",
   "metadata": {},
   "source": [
    "### Q6. Median value of horsepower\n",
    "\n",
    "1. Find the median value of `horsepower` column in the dataset.\n",
    "2. Next, calculate the most frequent value of the same `horsepower` column.\n",
    "3. Use `fillna` method to fill the missing values in `horsepower` column with the most frequent value from the previous step.\n",
    "4. Now, calculate the median value of `horsepower` once again.\n",
    "\n",
    "\n",
    "- **`Yes, it increased`**\n",
    "- Yes, it decreased\n",
    "- No"
   ]
  },
  {
   "cell_type": "code",
   "execution_count": 23,
   "id": "2a566ed4",
   "metadata": {},
   "outputs": [
    {
     "data": {
      "text/plain": [
       "149.0"
      ]
     },
     "execution_count": 23,
     "metadata": {},
     "output_type": "execute_result"
    }
   ],
   "source": [
    "median_horsepower = df['horsepower'].median()\n",
    "median_horsepower\n"
   ]
  },
  {
   "cell_type": "code",
   "execution_count": 19,
   "id": "3336d6a2",
   "metadata": {},
   "outputs": [
    {
     "data": {
      "text/plain": [
       "np.float64(152.0)"
      ]
     },
     "execution_count": 19,
     "metadata": {},
     "output_type": "execute_result"
    }
   ],
   "source": [
    "# most frequent horsepower value\n",
    "most_frequent_horsepower = df['horsepower'].mode()[0]\n",
    "most_frequent_horsepower"
   ]
  },
  {
   "cell_type": "code",
   "execution_count": null,
   "id": "f6cdbb45",
   "metadata": {},
   "outputs": [
    {
     "name": "stderr",
     "output_type": "stream",
     "text": [
      "/tmp/ipykernel_5815/1489540649.py:5: FutureWarning: A value is trying to be set on a copy of a DataFrame or Series through chained assignment using an inplace method.\n",
      "The behavior will change in pandas 3.0. This inplace method will never work because the intermediate object on which we are setting values always behaves as a copy.\n",
      "\n",
      "For example, when doing 'df[col].method(value, inplace=True)', try using 'df.method({col: value}, inplace=True)' or df[col] = df[col].method(value) instead, to perform the operation inplace on the original object.\n",
      "\n",
      "\n",
      "  df['horsepower'].fillna(most_frequent_horsepower, inplace=True)\n"
     ]
    },
    {
     "data": {
      "text/plain": [
       "152.0"
      ]
     },
     "execution_count": 30,
     "metadata": {},
     "output_type": "execute_result"
    }
   ],
   "source": [
    "# fill missing values with the most frequent value\n",
    "df['horsepower'].fillna(most_frequent_horsepower, inplace=True)\n",
    "df['horsepower'].median()"
   ]
  },
  {
   "cell_type": "markdown",
   "id": "388be800-8029-47a7-b15a-93df01ad04a2",
   "metadata": {},
   "source": [
    "### Q7. Sum of weights\n",
    "\n",
    "1. Select all the cars from Asia\n",
    "2. Select only columns `vehicle_weight` and `model_year`\n",
    "3. Select the first 7 values\n",
    "4. Get the underlying NumPy array. Let's call it `X`.\n",
    "5. Compute matrix-matrix multiplication between the transpose of `X` and `X`. To get the transpose, use `X.T`. Let's call the result `XTX`.\n",
    "6. Invert `XTX`.\n",
    "7. Create an array `y` with values `[1100, 1300, 800, 900, 1000, 1100, 1200]`.\n",
    "8. Multiply the inverse of `XTX` with the transpose of `X`, and then multiply the result by `y`. Call the result `w`.\n",
    "9. What's the sum of all the elements of the result?\n",
    "\n",
    "\n",
    "- 0.051\n",
    "- **`0.51`**\n",
    "- 5.1\n",
    "- 51"
   ]
  },
  {
   "cell_type": "code",
   "execution_count": null,
   "id": "203b754c",
   "metadata": {},
   "outputs": [
    {
     "data": {
      "text/plain": [
       "np.float64(0.5187709081074007)"
      ]
     },
     "execution_count": 35,
     "metadata": {},
     "output_type": "execute_result"
    }
   ],
   "source": [
    "df_asia = df[df['origin'] == 'Asia'][['vehicle_weight', 'model_year']].head(7)\n",
    "X = df_asia.to_numpy()\n",
    "XTX = X.T.dot(X)\n",
    "XTX_inv = np.linalg.inv(XTX)\n",
    "y = np.array([1100, 1300, 800, 900, 1000, 1100, 1200])\n",
    "w = XTX_inv.dot(X.T).dot(y)\n",
    "w.sum() "
   ]
  }
 ],
 "metadata": {
  "kernelspec": {
   "display_name": "ml-zoomcamp",
   "language": "python",
   "name": "python3"
  },
  "language_info": {
   "codemirror_mode": {
    "name": "ipython",
    "version": 3
   },
   "file_extension": ".py",
   "mimetype": "text/x-python",
   "name": "python",
   "nbconvert_exporter": "python",
   "pygments_lexer": "ipython3",
   "version": "3.11.13"
  }
 },
 "nbformat": 4,
 "nbformat_minor": 5
}
